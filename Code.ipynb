{
  "cells": [
    {
      "cell_type": "code",
      "execution_count": null,
      "metadata": {
        "colab": {
          "base_uri": "https://localhost:8080/"
        },
        "id": "CiqRKbQSbfvm",
        "outputId": "fef58e7e-514c-48e0-f19c-48e407db0ff7"
      },
      "outputs": [
        {
          "output_type": "stream",
          "name": "stdout",
          "text": [
            "Mounted at /content/drive\n"
          ]
        }
      ],
      "source": [
        "from google.colab import drive\n",
        "drive.mount('/content/drive')   "
      ]
    },
    {
      "cell_type": "code",
      "execution_count": null,
      "metadata": {
        "id": "AqZ0c28TNPZM"
      },
      "outputs": [],
      "source": [
        "import datetime\n",
        "import time\n",
        "import pickle\n",
        "import math\n",
        "import numpy as np\n",
        "import pandas as pd\n",
        "import seaborn as sns\n",
        "import matplotlib.pyplot as plt\n",
        "from sklearn.model_selection import train_test_split\n",
        "from sklearn.neighbors import KNeighborsRegressor\n",
        "from sklearn.metrics import confusion_matrix\n",
        "from sklearn.model_selection import GridSearchCV\n",
        "from sklearn.preprocessing import LabelEncoder\n",
        "from sklearn.preprocessing import OneHotEncoder\n",
        "from sklearn.linear_model import LogisticRegression\n",
        "from sklearn.impute import SimpleImputer\n",
        "from sklearn.preprocessing import OneHotEncoder\n",
        "from sklearn.tree import DecisionTreeClassifier\n",
        "from sklearn.ensemble import RandomForestClassifier\n",
        "from PIL import ImageFont\n",
        "from keras.callbacks import EarlyStopping\n",
        "from sklearn.preprocessing import MinMaxScaler\n",
        "from keras.applications.densenet import layers\n",
        "import tensorflow as tf\n",
        "from tensorflow import keras\n",
        "from sys import argv\n",
        "from xgboost import XGBClassifier\n",
        "from sklearn.model_selection import train_test_split\n",
        "from sklearn.metrics import accuracy_score\n",
        "from sklearn.naive_bayes import GaussianNB\n",
        "from sklearn.naive_bayes import MultinomialNB\n",
        "from sklearn.preprocessing import StandardScaler\n",
        "from sklearn.model_selection import RandomizedSearchCV\n",
        "from sklearn import metrics\n",
        "from mlxtend.plotting import plot_decision_regions\n",
        "from sklearn.preprocessing import StandardScaler\n"
      ]
    },
    {
      "cell_type": "code",
      "execution_count": null,
      "metadata": {
        "id": "D3lFJyivNPZR"
      },
      "outputs": [],
      "source": [
        "methods = ['NN', 'RF', 'SVM', \"KNN\"]\n",
        "target_name = 'covid_19_confirmed_cases'\n",
        "data_address = '/content/drive/MyDrive/Диплом/imputed-data.csv'"
      ]
    },
    {
      "cell_type": "code",
      "execution_count": null,
      "metadata": {
        "id": "okyfFtL7ANTF"
      },
      "outputs": [],
      "source": [
        "df = pd.read_csv(data_address)"
      ]
    },
    {
      "cell_type": "code",
      "source": [
        "df.shape"
      ],
      "metadata": {
        "colab": {
          "base_uri": "https://localhost:8080/"
        },
        "id": "2FtCxwZdhrSz",
        "outputId": "1a68583d-b75e-4d5e-bba2-f6c6b0450428"
      },
      "execution_count": null,
      "outputs": [
        {
          "output_type": "execute_result",
          "data": {
            "text/plain": [
              "(992266, 64)"
            ]
          },
          "metadata": {},
          "execution_count": 5
        }
      ]
    },
    {
      "cell_type": "code",
      "source": [
        "df.head()"
      ],
      "metadata": {
        "colab": {
          "base_uri": "https://localhost:8080/",
          "height": 386
        },
        "id": "UjrahObgXLdM",
        "outputId": "48651465-d6a5-44ab-e800-fa1d33d8739f"
      },
      "execution_count": null,
      "outputs": [
        {
          "output_type": "execute_result",
          "data": {
            "text/plain": [
              "         date  county_fips     county_name  state_fips state_name  \\\n",
              "0  2020/01/22         1003  Baldwin County           1    Alabama   \n",
              "1  2020/01/23         1003  Baldwin County           1    Alabama   \n",
              "2  2020/01/24         1003  Baldwin County           1    Alabama   \n",
              "3  2020/01/25         1003  Baldwin County           1    Alabama   \n",
              "4  2020/01/26         1003  Baldwin County           1    Alabama   \n",
              "\n",
              "   covid_19_confirmed_cases  covid_19_deaths social_distancing_total_grade  \\\n",
              "0                       0.0              0.0                             F   \n",
              "1                       0.0              0.0                             F   \n",
              "2                       0.0              0.0                             F   \n",
              "3                       0.0              0.0                             F   \n",
              "4                       0.0              0.0                             F   \n",
              "\n",
              "  social_distancing_visitation_grade social_distancing_encounters_grade  ...  \\\n",
              "0                                  F                                  F  ...   \n",
              "1                                  F                                  F  ...   \n",
              "2                                  F                                  F  ...   \n",
              "3                                  F                                  F  ...   \n",
              "4                                  F                                  F  ...   \n",
              "\n",
              "  age_55_59  age_60_64  age_65_69  age_70_74  age_75_79  age_80_84  \\\n",
              "0         7          7          6          4          3          2   \n",
              "1         7          7          6          4          3          2   \n",
              "2         7          7          6          4          3          2   \n",
              "3         7          7          6          4          3          2   \n",
              "4         7          7          6          4          3          2   \n",
              "\n",
              "   age_85_or_higher  immigrant_student_ratio  death_ratio  \\\n",
              "0                 2                 0.021048     0.010811   \n",
              "1                 2                 0.021048     0.010811   \n",
              "2                 2                 0.021048     0.010811   \n",
              "3                 2                 0.021048     0.010811   \n",
              "4                 2                 0.021048     0.010811   \n",
              "\n",
              "   population_ratio_in_state  \n",
              "0                    4.46047  \n",
              "1                    4.46047  \n",
              "2                    4.46047  \n",
              "3                    4.46047  \n",
              "4                    4.46047  \n",
              "\n",
              "[5 rows x 64 columns]"
            ],
            "text/html": [
              "\n",
              "  <div id=\"df-f31bed8b-8efb-4b90-998d-40f2bc80745c\">\n",
              "    <div class=\"colab-df-container\">\n",
              "      <div>\n",
              "<style scoped>\n",
              "    .dataframe tbody tr th:only-of-type {\n",
              "        vertical-align: middle;\n",
              "    }\n",
              "\n",
              "    .dataframe tbody tr th {\n",
              "        vertical-align: top;\n",
              "    }\n",
              "\n",
              "    .dataframe thead th {\n",
              "        text-align: right;\n",
              "    }\n",
              "</style>\n",
              "<table border=\"1\" class=\"dataframe\">\n",
              "  <thead>\n",
              "    <tr style=\"text-align: right;\">\n",
              "      <th></th>\n",
              "      <th>date</th>\n",
              "      <th>county_fips</th>\n",
              "      <th>county_name</th>\n",
              "      <th>state_fips</th>\n",
              "      <th>state_name</th>\n",
              "      <th>covid_19_confirmed_cases</th>\n",
              "      <th>covid_19_deaths</th>\n",
              "      <th>social_distancing_total_grade</th>\n",
              "      <th>social_distancing_visitation_grade</th>\n",
              "      <th>social_distancing_encounters_grade</th>\n",
              "      <th>...</th>\n",
              "      <th>age_55_59</th>\n",
              "      <th>age_60_64</th>\n",
              "      <th>age_65_69</th>\n",
              "      <th>age_70_74</th>\n",
              "      <th>age_75_79</th>\n",
              "      <th>age_80_84</th>\n",
              "      <th>age_85_or_higher</th>\n",
              "      <th>immigrant_student_ratio</th>\n",
              "      <th>death_ratio</th>\n",
              "      <th>population_ratio_in_state</th>\n",
              "    </tr>\n",
              "  </thead>\n",
              "  <tbody>\n",
              "    <tr>\n",
              "      <th>0</th>\n",
              "      <td>2020/01/22</td>\n",
              "      <td>1003</td>\n",
              "      <td>Baldwin County</td>\n",
              "      <td>1</td>\n",
              "      <td>Alabama</td>\n",
              "      <td>0.0</td>\n",
              "      <td>0.0</td>\n",
              "      <td>F</td>\n",
              "      <td>F</td>\n",
              "      <td>F</td>\n",
              "      <td>...</td>\n",
              "      <td>7</td>\n",
              "      <td>7</td>\n",
              "      <td>6</td>\n",
              "      <td>4</td>\n",
              "      <td>3</td>\n",
              "      <td>2</td>\n",
              "      <td>2</td>\n",
              "      <td>0.021048</td>\n",
              "      <td>0.010811</td>\n",
              "      <td>4.46047</td>\n",
              "    </tr>\n",
              "    <tr>\n",
              "      <th>1</th>\n",
              "      <td>2020/01/23</td>\n",
              "      <td>1003</td>\n",
              "      <td>Baldwin County</td>\n",
              "      <td>1</td>\n",
              "      <td>Alabama</td>\n",
              "      <td>0.0</td>\n",
              "      <td>0.0</td>\n",
              "      <td>F</td>\n",
              "      <td>F</td>\n",
              "      <td>F</td>\n",
              "      <td>...</td>\n",
              "      <td>7</td>\n",
              "      <td>7</td>\n",
              "      <td>6</td>\n",
              "      <td>4</td>\n",
              "      <td>3</td>\n",
              "      <td>2</td>\n",
              "      <td>2</td>\n",
              "      <td>0.021048</td>\n",
              "      <td>0.010811</td>\n",
              "      <td>4.46047</td>\n",
              "    </tr>\n",
              "    <tr>\n",
              "      <th>2</th>\n",
              "      <td>2020/01/24</td>\n",
              "      <td>1003</td>\n",
              "      <td>Baldwin County</td>\n",
              "      <td>1</td>\n",
              "      <td>Alabama</td>\n",
              "      <td>0.0</td>\n",
              "      <td>0.0</td>\n",
              "      <td>F</td>\n",
              "      <td>F</td>\n",
              "      <td>F</td>\n",
              "      <td>...</td>\n",
              "      <td>7</td>\n",
              "      <td>7</td>\n",
              "      <td>6</td>\n",
              "      <td>4</td>\n",
              "      <td>3</td>\n",
              "      <td>2</td>\n",
              "      <td>2</td>\n",
              "      <td>0.021048</td>\n",
              "      <td>0.010811</td>\n",
              "      <td>4.46047</td>\n",
              "    </tr>\n",
              "    <tr>\n",
              "      <th>3</th>\n",
              "      <td>2020/01/25</td>\n",
              "      <td>1003</td>\n",
              "      <td>Baldwin County</td>\n",
              "      <td>1</td>\n",
              "      <td>Alabama</td>\n",
              "      <td>0.0</td>\n",
              "      <td>0.0</td>\n",
              "      <td>F</td>\n",
              "      <td>F</td>\n",
              "      <td>F</td>\n",
              "      <td>...</td>\n",
              "      <td>7</td>\n",
              "      <td>7</td>\n",
              "      <td>6</td>\n",
              "      <td>4</td>\n",
              "      <td>3</td>\n",
              "      <td>2</td>\n",
              "      <td>2</td>\n",
              "      <td>0.021048</td>\n",
              "      <td>0.010811</td>\n",
              "      <td>4.46047</td>\n",
              "    </tr>\n",
              "    <tr>\n",
              "      <th>4</th>\n",
              "      <td>2020/01/26</td>\n",
              "      <td>1003</td>\n",
              "      <td>Baldwin County</td>\n",
              "      <td>1</td>\n",
              "      <td>Alabama</td>\n",
              "      <td>0.0</td>\n",
              "      <td>0.0</td>\n",
              "      <td>F</td>\n",
              "      <td>F</td>\n",
              "      <td>F</td>\n",
              "      <td>...</td>\n",
              "      <td>7</td>\n",
              "      <td>7</td>\n",
              "      <td>6</td>\n",
              "      <td>4</td>\n",
              "      <td>3</td>\n",
              "      <td>2</td>\n",
              "      <td>2</td>\n",
              "      <td>0.021048</td>\n",
              "      <td>0.010811</td>\n",
              "      <td>4.46047</td>\n",
              "    </tr>\n",
              "  </tbody>\n",
              "</table>\n",
              "<p>5 rows × 64 columns</p>\n",
              "</div>\n",
              "      <button class=\"colab-df-convert\" onclick=\"convertToInteractive('df-f31bed8b-8efb-4b90-998d-40f2bc80745c')\"\n",
              "              title=\"Convert this dataframe to an interactive table.\"\n",
              "              style=\"display:none;\">\n",
              "        \n",
              "  <svg xmlns=\"http://www.w3.org/2000/svg\" height=\"24px\"viewBox=\"0 0 24 24\"\n",
              "       width=\"24px\">\n",
              "    <path d=\"M0 0h24v24H0V0z\" fill=\"none\"/>\n",
              "    <path d=\"M18.56 5.44l.94 2.06.94-2.06 2.06-.94-2.06-.94-.94-2.06-.94 2.06-2.06.94zm-11 1L8.5 8.5l.94-2.06 2.06-.94-2.06-.94L8.5 2.5l-.94 2.06-2.06.94zm10 10l.94 2.06.94-2.06 2.06-.94-2.06-.94-.94-2.06-.94 2.06-2.06.94z\"/><path d=\"M17.41 7.96l-1.37-1.37c-.4-.4-.92-.59-1.43-.59-.52 0-1.04.2-1.43.59L10.3 9.45l-7.72 7.72c-.78.78-.78 2.05 0 2.83L4 21.41c.39.39.9.59 1.41.59.51 0 1.02-.2 1.41-.59l7.78-7.78 2.81-2.81c.8-.78.8-2.07 0-2.86zM5.41 20L4 18.59l7.72-7.72 1.47 1.35L5.41 20z\"/>\n",
              "  </svg>\n",
              "      </button>\n",
              "      \n",
              "  <style>\n",
              "    .colab-df-container {\n",
              "      display:flex;\n",
              "      flex-wrap:wrap;\n",
              "      gap: 12px;\n",
              "    }\n",
              "\n",
              "    .colab-df-convert {\n",
              "      background-color: #E8F0FE;\n",
              "      border: none;\n",
              "      border-radius: 50%;\n",
              "      cursor: pointer;\n",
              "      display: none;\n",
              "      fill: #1967D2;\n",
              "      height: 32px;\n",
              "      padding: 0 0 0 0;\n",
              "      width: 32px;\n",
              "    }\n",
              "\n",
              "    .colab-df-convert:hover {\n",
              "      background-color: #E2EBFA;\n",
              "      box-shadow: 0px 1px 2px rgba(60, 64, 67, 0.3), 0px 1px 3px 1px rgba(60, 64, 67, 0.15);\n",
              "      fill: #174EA6;\n",
              "    }\n",
              "\n",
              "    [theme=dark] .colab-df-convert {\n",
              "      background-color: #3B4455;\n",
              "      fill: #D2E3FC;\n",
              "    }\n",
              "\n",
              "    [theme=dark] .colab-df-convert:hover {\n",
              "      background-color: #434B5C;\n",
              "      box-shadow: 0px 1px 3px 1px rgba(0, 0, 0, 0.15);\n",
              "      filter: drop-shadow(0px 1px 2px rgba(0, 0, 0, 0.3));\n",
              "      fill: #FFFFFF;\n",
              "    }\n",
              "  </style>\n",
              "\n",
              "      <script>\n",
              "        const buttonEl =\n",
              "          document.querySelector('#df-f31bed8b-8efb-4b90-998d-40f2bc80745c button.colab-df-convert');\n",
              "        buttonEl.style.display =\n",
              "          google.colab.kernel.accessAllowed ? 'block' : 'none';\n",
              "\n",
              "        async function convertToInteractive(key) {\n",
              "          const element = document.querySelector('#df-f31bed8b-8efb-4b90-998d-40f2bc80745c');\n",
              "          const dataTable =\n",
              "            await google.colab.kernel.invokeFunction('convertToInteractive',\n",
              "                                                     [key], {});\n",
              "          if (!dataTable) return;\n",
              "\n",
              "          const docLinkHtml = 'Like what you see? Visit the ' +\n",
              "            '<a target=\"_blank\" href=https://colab.research.google.com/notebooks/data_table.ipynb>data table notebook</a>'\n",
              "            + ' to learn more about interactive tables.';\n",
              "          element.innerHTML = '';\n",
              "          dataTable['output_type'] = 'display_data';\n",
              "          await google.colab.output.renderOutput(dataTable, element);\n",
              "          const docLink = document.createElement('div');\n",
              "          docLink.innerHTML = docLinkHtml;\n",
              "          element.appendChild(docLink);\n",
              "        }\n",
              "      </script>\n",
              "    </div>\n",
              "  </div>\n",
              "  "
            ]
          },
          "metadata": {},
          "execution_count": 6
        }
      ]
    },
    {
      "cell_type": "code",
      "source": [
        "df.info()"
      ],
      "metadata": {
        "colab": {
          "base_uri": "https://localhost:8080/"
        },
        "id": "h6iAXvo3XNbh",
        "outputId": "43fddb66-7b97-4a2f-a985-d44ee08e6693"
      },
      "execution_count": null,
      "outputs": [
        {
          "output_type": "stream",
          "name": "stdout",
          "text": [
            "<class 'pandas.core.frame.DataFrame'>\n",
            "RangeIndex: 992266 entries, 0 to 992265\n",
            "Data columns (total 64 columns):\n",
            " #   Column                                         Non-Null Count   Dtype  \n",
            "---  ------                                         --------------   -----  \n",
            " 0   date                                           992266 non-null  object \n",
            " 1   county_fips                                    992266 non-null  int64  \n",
            " 2   county_name                                    992266 non-null  object \n",
            " 3   state_fips                                     992266 non-null  int64  \n",
            " 4   state_name                                     992266 non-null  object \n",
            " 5   covid_19_confirmed_cases                       992266 non-null  float64\n",
            " 6   covid_19_deaths                                992266 non-null  float64\n",
            " 7   social_distancing_total_grade                  992266 non-null  object \n",
            " 8   social_distancing_visitation_grade             992266 non-null  object \n",
            " 9   social_distancing_encounters_grade             992266 non-null  object \n",
            " 10  social_distancing_travel_distance_grade        992266 non-null  object \n",
            " 11  retail_and_recreation_mobility_percent_change  992266 non-null  float64\n",
            " 12  grocery_and_pharmacy_mobility_percent_change   992266 non-null  float64\n",
            " 13  workplaces_mobility_percent_change             992266 non-null  float64\n",
            " 14  daily_state_test                               992266 non-null  float64\n",
            " 15  precipitation                                  992266 non-null  float64\n",
            " 16  temperature                                    992266 non-null  float64\n",
            " 17  percent_of_vaccinated_residents                992266 non-null  float64\n",
            " 18  virus_pressure                                 992266 non-null  float64\n",
            " 19  total_population                               992266 non-null  int64  \n",
            " 20  proportion_female                              992266 non-null  float64\n",
            " 21  area                                           992266 non-null  float64\n",
            " 22  population_density                             992266 non-null  float64\n",
            " 23  latitude                                       992266 non-null  float64\n",
            " 24  longitude                                      992266 non-null  float64\n",
            " 25  hospital_beds_ratio                            992266 non-null  float64\n",
            " 26  ventilator_capacity_ratio                      992266 non-null  float64\n",
            " 27  intensive_care_unit_(ICU)_bed_ratio            992266 non-null  float64\n",
            " 28  housing_density                                992266 non-null  float64\n",
            " 29  less_than_high_school_diploma                  992266 non-null  float64\n",
            " 30  high_school_diploma_only                       992266 non-null  float64\n",
            " 31  some_college_or_higher                         992266 non-null  float64\n",
            " 32  academic_population_ratio                      992266 non-null  float64\n",
            " 33  percent_of_smokers                             992266 non-null  float64\n",
            " 34  percent_of_diabetes                            992266 non-null  float64\n",
            " 35  religious_congregation_ratio                   992266 non-null  float64\n",
            " 36  political_party                                992266 non-null  int64  \n",
            " 37  airport_distance                               992266 non-null  float64\n",
            " 38  passenger_load_ratio                           992266 non-null  float64\n",
            " 39  number_of_meat_plants                          992266 non-null  int64  \n",
            " 40  median_household_income                        992266 non-null  int64  \n",
            " 41  percent_of_insured_residents                   992266 non-null  float64\n",
            " 42  gdp_per_capita                                 992266 non-null  float64\n",
            " 43  age_0_4                                        992266 non-null  int64  \n",
            " 44  age_5_9                                        992266 non-null  int64  \n",
            " 45  age_10_14                                      992266 non-null  int64  \n",
            " 46  age_15_19                                      992266 non-null  int64  \n",
            " 47  age_20_24                                      992266 non-null  int64  \n",
            " 48  age_25_29                                      992266 non-null  int64  \n",
            " 49  age_30_34                                      992266 non-null  int64  \n",
            " 50  age_35_39                                      992266 non-null  int64  \n",
            " 51  age_40_44                                      992266 non-null  int64  \n",
            " 52  age_45_49                                      992266 non-null  int64  \n",
            " 53  age_50_54                                      992266 non-null  int64  \n",
            " 54  age_55_59                                      992266 non-null  int64  \n",
            " 55  age_60_64                                      992266 non-null  int64  \n",
            " 56  age_65_69                                      992266 non-null  int64  \n",
            " 57  age_70_74                                      992266 non-null  int64  \n",
            " 58  age_75_79                                      992266 non-null  int64  \n",
            " 59  age_80_84                                      992266 non-null  int64  \n",
            " 60  age_85_or_higher                               992266 non-null  int64  \n",
            " 61  immigrant_student_ratio                        992266 non-null  float64\n",
            " 62  death_ratio                                    992266 non-null  float64\n",
            " 63  population_ratio_in_state                      992266 non-null  float64\n",
            "dtypes: float64(33), int64(24), object(7)\n",
            "memory usage: 484.5+ MB\n"
          ]
        }
      ]
    },
    {
      "cell_type": "code",
      "execution_count": null,
      "metadata": {
        "id": "DTJDjJbDY6xA"
      },
      "outputs": [],
      "source": [
        "main_data = df.copy()"
      ]
    },
    {
      "cell_type": "code",
      "execution_count": null,
      "metadata": {
        "id": "xWsxsJ8D93mW"
      },
      "outputs": [],
      "source": [
        "def clean_data(data, spatial_mode, pivot=\"county\"):\n",
        "    global numberOfDays\n",
        "    # select the number of counties we want to use\n",
        "    # numberOfSelectedCounties = numberOfCounties\n",
        "    numberOfSelectedCounties = len(data['county_fips'].unique())\n",
        "\n",
        "    using_data = data[(data['county_fips'] <= data['county_fips'].unique()[numberOfSelectedCounties - 1])]\n",
        "    if (spatial_mode == 'county') or (spatial_mode == 'country'):\n",
        "        if pivot == 'county':\n",
        "            main_data = using_data.drop(['county_name', 'state_fips', 'state_name', 'date'],\n",
        "                                        axis=1)  \n",
        "        elif pivot == 'state':\n",
        "            main_data = using_data.drop(['county_name'],\n",
        "                                        axis=1)\n",
        "        elif pivot == 'country':\n",
        "            main_data = using_data\n",
        "\n",
        "    elif (spatial_mode == 'state'):\n",
        "        main_data = using_data.drop(['county_name', 'state_name'],\n",
        "                                    axis=1)\n",
        "    numberOfDays = len(using_data['date'].unique())\n",
        "\n",
        "    return main_data"
      ]
    },
    {
      "cell_type": "code",
      "execution_count": null,
      "metadata": {
        "id": "desXtigHNPZS",
        "colab": {
          "base_uri": "https://localhost:8080/"
        },
        "outputId": "44590866-834a-4df5-9e81-c4804cce919b"
      },
      "outputs": [
        {
          "output_type": "execute_result",
          "data": {
            "text/plain": [
              "(992266, 60)"
            ]
          },
          "metadata": {},
          "execution_count": 10
        }
      ],
      "source": [
        "main_data = clean_data(main_data, \"county\")\n",
        "main_data_columns = main_data.columns.values\n",
        "main_data.shape"
      ]
    },
    {
      "cell_type": "code",
      "execution_count": null,
      "metadata": {
        "id": "1Txz-KbJNPZS",
        "colab": {
          "base_uri": "https://localhost:8080/"
        },
        "outputId": "46752de1-cca9-401e-ece5-8cce67fbc2bf"
      },
      "outputs": [
        {
          "output_type": "stream",
          "name": "stdout",
          "text": [
            "<class 'pandas.core.frame.DataFrame'>\n",
            "Int64Index: 992266 entries, 0 to 992265\n",
            "Data columns (total 60 columns):\n",
            " #   Column                                         Non-Null Count   Dtype  \n",
            "---  ------                                         --------------   -----  \n",
            " 0   county_fips                                    992266 non-null  int64  \n",
            " 1   covid_19_confirmed_cases                       992266 non-null  float64\n",
            " 2   covid_19_deaths                                992266 non-null  float64\n",
            " 3   social_distancing_total_grade                  992266 non-null  object \n",
            " 4   social_distancing_visitation_grade             992266 non-null  object \n",
            " 5   social_distancing_encounters_grade             992266 non-null  object \n",
            " 6   social_distancing_travel_distance_grade        992266 non-null  object \n",
            " 7   retail_and_recreation_mobility_percent_change  992266 non-null  float64\n",
            " 8   grocery_and_pharmacy_mobility_percent_change   992266 non-null  float64\n",
            " 9   workplaces_mobility_percent_change             992266 non-null  float64\n",
            " 10  daily_state_test                               992266 non-null  float64\n",
            " 11  precipitation                                  992266 non-null  float64\n",
            " 12  temperature                                    992266 non-null  float64\n",
            " 13  percent_of_vaccinated_residents                992266 non-null  float64\n",
            " 14  virus_pressure                                 992266 non-null  float64\n",
            " 15  total_population                               992266 non-null  int64  \n",
            " 16  proportion_female                              992266 non-null  float64\n",
            " 17  area                                           992266 non-null  float64\n",
            " 18  population_density                             992266 non-null  float64\n",
            " 19  latitude                                       992266 non-null  float64\n",
            " 20  longitude                                      992266 non-null  float64\n",
            " 21  hospital_beds_ratio                            992266 non-null  float64\n",
            " 22  ventilator_capacity_ratio                      992266 non-null  float64\n",
            " 23  intensive_care_unit_(ICU)_bed_ratio            992266 non-null  float64\n",
            " 24  housing_density                                992266 non-null  float64\n",
            " 25  less_than_high_school_diploma                  992266 non-null  float64\n",
            " 26  high_school_diploma_only                       992266 non-null  float64\n",
            " 27  some_college_or_higher                         992266 non-null  float64\n",
            " 28  academic_population_ratio                      992266 non-null  float64\n",
            " 29  percent_of_smokers                             992266 non-null  float64\n",
            " 30  percent_of_diabetes                            992266 non-null  float64\n",
            " 31  religious_congregation_ratio                   992266 non-null  float64\n",
            " 32  political_party                                992266 non-null  int64  \n",
            " 33  airport_distance                               992266 non-null  float64\n",
            " 34  passenger_load_ratio                           992266 non-null  float64\n",
            " 35  number_of_meat_plants                          992266 non-null  int64  \n",
            " 36  median_household_income                        992266 non-null  int64  \n",
            " 37  percent_of_insured_residents                   992266 non-null  float64\n",
            " 38  gdp_per_capita                                 992266 non-null  float64\n",
            " 39  age_0_4                                        992266 non-null  int64  \n",
            " 40  age_5_9                                        992266 non-null  int64  \n",
            " 41  age_10_14                                      992266 non-null  int64  \n",
            " 42  age_15_19                                      992266 non-null  int64  \n",
            " 43  age_20_24                                      992266 non-null  int64  \n",
            " 44  age_25_29                                      992266 non-null  int64  \n",
            " 45  age_30_34                                      992266 non-null  int64  \n",
            " 46  age_35_39                                      992266 non-null  int64  \n",
            " 47  age_40_44                                      992266 non-null  int64  \n",
            " 48  age_45_49                                      992266 non-null  int64  \n",
            " 49  age_50_54                                      992266 non-null  int64  \n",
            " 50  age_55_59                                      992266 non-null  int64  \n",
            " 51  age_60_64                                      992266 non-null  int64  \n",
            " 52  age_65_69                                      992266 non-null  int64  \n",
            " 53  age_70_74                                      992266 non-null  int64  \n",
            " 54  age_75_79                                      992266 non-null  int64  \n",
            " 55  age_80_84                                      992266 non-null  int64  \n",
            " 56  age_85_or_higher                               992266 non-null  int64  \n",
            " 57  immigrant_student_ratio                        992266 non-null  float64\n",
            " 58  death_ratio                                    992266 non-null  float64\n",
            " 59  population_ratio_in_state                      992266 non-null  float64\n",
            "dtypes: float64(33), int64(23), object(4)\n",
            "memory usage: 461.8+ MB\n"
          ]
        }
      ],
      "source": [
        "main_data.info()"
      ]
    },
    {
      "cell_type": "code",
      "source": [
        "main_data.shape"
      ],
      "metadata": {
        "colab": {
          "base_uri": "https://localhost:8080/"
        },
        "id": "F2Ff-1qdi7Za",
        "outputId": "7c03fc3a-447d-4dba-9090-0b15f89a0f81"
      },
      "execution_count": null,
      "outputs": [
        {
          "output_type": "execute_result",
          "data": {
            "text/plain": [
              "(992266, 60)"
            ]
          },
          "metadata": {},
          "execution_count": 12
        }
      ]
    },
    {
      "cell_type": "code",
      "execution_count": null,
      "metadata": {
        "id": "Vp3zRphPNPZW"
      },
      "outputs": [],
      "source": [
        "\n",
        "def preprocess(main_data):\n",
        "\n",
        "    target = pd.DataFrame(main_data[['covid_19_confirmed_cases']])\n",
        "\n",
        "    main_data = main_data.drop(['covid_19_confirmed_cases','county_fips', 'covid_19_deaths', 'latitude', 'area'], axis=1)\n",
        "    label_data1 = sorted(main_data['social_distancing_total_grade'].unique())\n",
        "    label_data2 = sorted(main_data['social_distancing_visitation_grade'].unique())\n",
        "    label_data3 = sorted(main_data['social_distancing_encounters_grade'].unique())\n",
        "    label_data4 = sorted(main_data['social_distancing_travel_distance_grade'].unique())\n",
        "\n",
        "    le = LabelEncoder()\n",
        "    le.fit(label_data1)\n",
        "\n",
        "    main_data.social_distancing_total_grade = le.transform(main_data.social_distancing_total_grade)\n",
        "\n",
        "    le.fit(label_data2)\n",
        "    main_data.social_distancing_visitation_grade = le.transform(main_data.social_distancing_visitation_grade)\n",
        "\n",
        "    le.fit(label_data3)\n",
        "    main_data.social_distancing_encounters_grade = le.transform(main_data.social_distancing_encounters_grade)\n",
        "\n",
        "    le.fit(label_data3)\n",
        "    main_data.social_distancing_travel_distance_grade = le.transform(main_data.social_distancing_travel_distance_grade)\n",
        "    df_features_constants = pd.DataFrame({'features':main_data.sum().index.tolist(),'values':main_data.sum().values.tolist()})\n",
        "    df_dropped_features_constants = main_data[df_features_constants[df_features_constants['values'] > main_data.shape[0]*0.01].features.tolist()]\n",
        "    X_df = main_data[df_dropped_features_constants.columns.tolist()]\n",
        "    print(\"X shape:\", X_df.shape)\n",
        "    print(\"Target shape:\", target.shape)\n",
        "\n",
        "\n",
        "    return X_df, target\n"
      ]
    },
    {
      "cell_type": "code",
      "source": [
        "X, y = preprocess(main_data)\n",
        "X.shape"
      ],
      "metadata": {
        "colab": {
          "base_uri": "https://localhost:8080/"
        },
        "id": "vHRtT5DbjRFC",
        "outputId": "279067b2-6d13-4ff4-b0bd-a5750724e432"
      },
      "execution_count": null,
      "outputs": [
        {
          "output_type": "execute_result",
          "data": {
            "text/plain": [
              "(992266, 55)"
            ]
          },
          "metadata": {},
          "execution_count": 17
        }
      ]
    },
    {
      "cell_type": "code",
      "source": [
        "main_data.T.head(50)\n"
      ],
      "metadata": {
        "colab": {
          "base_uri": "https://localhost:8080/",
          "height": 1000
        },
        "id": "pOKQEXoauDFS",
        "outputId": "ee5c6862-6a7a-4247-98ec-2d5385f32354"
      },
      "execution_count": null,
      "outputs": [
        {
          "output_type": "execute_result",
          "data": {
            "text/plain": [
              "                                                  0          1       \\\n",
              "county_fips                                         1003       1003   \n",
              "covid_19_confirmed_cases                             0.0        0.0   \n",
              "covid_19_deaths                                      0.0        0.0   \n",
              "social_distancing_total_grade                          F          F   \n",
              "social_distancing_visitation_grade                     F          F   \n",
              "social_distancing_encounters_grade                     F          F   \n",
              "social_distancing_travel_distance_grade                F          F   \n",
              "retail_and_recreation_mobility_percent_change        0.0        0.0   \n",
              "grocery_and_pharmacy_mobility_percent_change         0.0        0.0   \n",
              "workplaces_mobility_percent_change                   0.0        0.0   \n",
              "daily_state_test                                     0.0        0.0   \n",
              "precipitation                                        0.0        0.0   \n",
              "temperature                                          2.0        4.7   \n",
              "percent_of_vaccinated_residents                      0.0        0.0   \n",
              "virus_pressure                                       0.0        0.0   \n",
              "total_population                                  218022     218022   \n",
              "proportion_female                               0.515384   0.515384   \n",
              "area                                             1589.78    1589.78   \n",
              "population_density                             137.13973  137.13973   \n",
              "latitude                                        30.72775   30.72775   \n",
              "longitude                                     -87.722071 -87.722071   \n",
              "hospital_beds_ratio                             0.001367   0.001367   \n",
              "ventilator_capacity_ratio                       0.000261   0.000261   \n",
              "intensive_care_unit_(ICU)_bed_ratio             0.000234   0.000234   \n",
              "housing_density                                   73.363     73.363   \n",
              "less_than_high_school_diploma                        9.7        9.7   \n",
              "high_school_diploma_only                            27.6       27.6   \n",
              "some_college_or_higher                              62.6       62.6   \n",
              "academic_population_ratio                       1.155691   1.155691   \n",
              "percent_of_smokers                             17.489033  17.489033   \n",
              "percent_of_diabetes                                 10.7       10.7   \n",
              "religious_congregation_ratio                        53.0       53.0   \n",
              "political_party                                        0          0   \n",
              "airport_distance                                58.53371   58.53371   \n",
              "passenger_load_ratio                            0.000656   0.000656   \n",
              "number_of_meat_plants                                  2          2   \n",
              "median_household_income                            57588      57588   \n",
              "percent_of_insured_residents                   88.666596  88.666596   \n",
              "gdp_per_capita                                     27.75      27.75   \n",
              "age_0_4                                                6          6   \n",
              "age_5_9                                                6          6   \n",
              "age_10_14                                              7          7   \n",
              "age_15_19                                              6          6   \n",
              "age_20_24                                              5          5   \n",
              "age_25_29                                              6          6   \n",
              "age_30_34                                              6          6   \n",
              "age_35_39                                              6          6   \n",
              "age_40_44                                              7          7   \n",
              "age_45_49                                              7          7   \n",
              "age_50_54                                              7          7   \n",
              "\n",
              "                                                  2          3       \\\n",
              "county_fips                                         1003       1003   \n",
              "covid_19_confirmed_cases                             0.0        0.0   \n",
              "covid_19_deaths                                      0.0        0.0   \n",
              "social_distancing_total_grade                          F          F   \n",
              "social_distancing_visitation_grade                     F          F   \n",
              "social_distancing_encounters_grade                     F          F   \n",
              "social_distancing_travel_distance_grade                F          F   \n",
              "retail_and_recreation_mobility_percent_change        0.0        0.0   \n",
              "grocery_and_pharmacy_mobility_percent_change         0.0        0.0   \n",
              "workplaces_mobility_percent_change                   0.0        0.0   \n",
              "daily_state_test                                     0.0        0.0   \n",
              "precipitation                                       79.0        0.0   \n",
              "temperature                                         11.4       10.0   \n",
              "percent_of_vaccinated_residents                      0.0        0.0   \n",
              "virus_pressure                                       0.0        0.0   \n",
              "total_population                                  218022     218022   \n",
              "proportion_female                               0.515384   0.515384   \n",
              "area                                             1589.78    1589.78   \n",
              "population_density                             137.13973  137.13973   \n",
              "latitude                                        30.72775   30.72775   \n",
              "longitude                                     -87.722071 -87.722071   \n",
              "hospital_beds_ratio                             0.001367   0.001367   \n",
              "ventilator_capacity_ratio                       0.000261   0.000261   \n",
              "intensive_care_unit_(ICU)_bed_ratio             0.000234   0.000234   \n",
              "housing_density                                   73.363     73.363   \n",
              "less_than_high_school_diploma                        9.7        9.7   \n",
              "high_school_diploma_only                            27.6       27.6   \n",
              "some_college_or_higher                              62.6       62.6   \n",
              "academic_population_ratio                       1.155691   1.155691   \n",
              "percent_of_smokers                             17.489033  17.489033   \n",
              "percent_of_diabetes                                 10.7       10.7   \n",
              "religious_congregation_ratio                        53.0       53.0   \n",
              "political_party                                        0          0   \n",
              "airport_distance                                58.53371   58.53371   \n",
              "passenger_load_ratio                            0.000656   0.000656   \n",
              "number_of_meat_plants                                  2          2   \n",
              "median_household_income                            57588      57588   \n",
              "percent_of_insured_residents                   88.666596  88.666596   \n",
              "gdp_per_capita                                     27.75      27.75   \n",
              "age_0_4                                                6          6   \n",
              "age_5_9                                                6          6   \n",
              "age_10_14                                              7          7   \n",
              "age_15_19                                              6          6   \n",
              "age_20_24                                              5          5   \n",
              "age_25_29                                              6          6   \n",
              "age_30_34                                              6          6   \n",
              "age_35_39                                              6          6   \n",
              "age_40_44                                              7          7   \n",
              "age_45_49                                              7          7   \n",
              "age_50_54                                              7          7   \n",
              "\n",
              "                                                  4          5       \\\n",
              "county_fips                                         1003       1003   \n",
              "covid_19_confirmed_cases                             0.0        0.0   \n",
              "covid_19_deaths                                      0.0        0.0   \n",
              "social_distancing_total_grade                          F          F   \n",
              "social_distancing_visitation_grade                     F          F   \n",
              "social_distancing_encounters_grade                     F          F   \n",
              "social_distancing_travel_distance_grade                F          F   \n",
              "retail_and_recreation_mobility_percent_change        0.0        0.0   \n",
              "grocery_and_pharmacy_mobility_percent_change         0.0        0.0   \n",
              "workplaces_mobility_percent_change                   0.0        0.0   \n",
              "daily_state_test                                     0.0        0.0   \n",
              "precipitation                                        5.0      104.0   \n",
              "temperature                                         10.8        9.7   \n",
              "percent_of_vaccinated_residents                      0.0        0.0   \n",
              "virus_pressure                                       0.0        0.0   \n",
              "total_population                                  218022     218022   \n",
              "proportion_female                               0.515384   0.515384   \n",
              "area                                             1589.78    1589.78   \n",
              "population_density                             137.13973  137.13973   \n",
              "latitude                                        30.72775   30.72775   \n",
              "longitude                                     -87.722071 -87.722071   \n",
              "hospital_beds_ratio                             0.001367   0.001367   \n",
              "ventilator_capacity_ratio                       0.000261   0.000261   \n",
              "intensive_care_unit_(ICU)_bed_ratio             0.000234   0.000234   \n",
              "housing_density                                   73.363     73.363   \n",
              "less_than_high_school_diploma                        9.7        9.7   \n",
              "high_school_diploma_only                            27.6       27.6   \n",
              "some_college_or_higher                              62.6       62.6   \n",
              "academic_population_ratio                       1.155691   1.155691   \n",
              "percent_of_smokers                             17.489033  17.489033   \n",
              "percent_of_diabetes                                 10.7       10.7   \n",
              "religious_congregation_ratio                        53.0       53.0   \n",
              "political_party                                        0          0   \n",
              "airport_distance                                58.53371   58.53371   \n",
              "passenger_load_ratio                            0.000656   0.000656   \n",
              "number_of_meat_plants                                  2          2   \n",
              "median_household_income                            57588      57588   \n",
              "percent_of_insured_residents                   88.666596  88.666596   \n",
              "gdp_per_capita                                     27.75      27.75   \n",
              "age_0_4                                                6          6   \n",
              "age_5_9                                                6          6   \n",
              "age_10_14                                              7          7   \n",
              "age_15_19                                              6          6   \n",
              "age_20_24                                              5          5   \n",
              "age_25_29                                              6          6   \n",
              "age_30_34                                              6          6   \n",
              "age_35_39                                              6          6   \n",
              "age_40_44                                              7          7   \n",
              "age_45_49                                              7          7   \n",
              "age_50_54                                              7          7   \n",
              "\n",
              "                                                  6          7       \\\n",
              "county_fips                                         1003       1003   \n",
              "covid_19_confirmed_cases                             0.0        0.0   \n",
              "covid_19_deaths                                      0.0        0.0   \n",
              "social_distancing_total_grade                          F          F   \n",
              "social_distancing_visitation_grade                     F          F   \n",
              "social_distancing_encounters_grade                     F          F   \n",
              "social_distancing_travel_distance_grade                F          F   \n",
              "retail_and_recreation_mobility_percent_change        0.0        0.0   \n",
              "grocery_and_pharmacy_mobility_percent_change         0.0        0.0   \n",
              "workplaces_mobility_percent_change                   0.0        0.0   \n",
              "daily_state_test                                     0.0        0.0   \n",
              "precipitation                                        3.0       13.0   \n",
              "temperature                                          8.0       13.3   \n",
              "percent_of_vaccinated_residents                      0.0        0.0   \n",
              "virus_pressure                                       0.0        0.0   \n",
              "total_population                                  218022     218022   \n",
              "proportion_female                               0.515384   0.515384   \n",
              "area                                             1589.78    1589.78   \n",
              "population_density                             137.13973  137.13973   \n",
              "latitude                                        30.72775   30.72775   \n",
              "longitude                                     -87.722071 -87.722071   \n",
              "hospital_beds_ratio                             0.001367   0.001367   \n",
              "ventilator_capacity_ratio                       0.000261   0.000261   \n",
              "intensive_care_unit_(ICU)_bed_ratio             0.000234   0.000234   \n",
              "housing_density                                   73.363     73.363   \n",
              "less_than_high_school_diploma                        9.7        9.7   \n",
              "high_school_diploma_only                            27.6       27.6   \n",
              "some_college_or_higher                              62.6       62.6   \n",
              "academic_population_ratio                       1.155691   1.155691   \n",
              "percent_of_smokers                             17.489033  17.489033   \n",
              "percent_of_diabetes                                 10.7       10.7   \n",
              "religious_congregation_ratio                        53.0       53.0   \n",
              "political_party                                        0          0   \n",
              "airport_distance                                58.53371   58.53371   \n",
              "passenger_load_ratio                            0.000656   0.000656   \n",
              "number_of_meat_plants                                  2          2   \n",
              "median_household_income                            57588      57588   \n",
              "percent_of_insured_residents                   88.666596  88.666596   \n",
              "gdp_per_capita                                     27.75      27.75   \n",
              "age_0_4                                                6          6   \n",
              "age_5_9                                                6          6   \n",
              "age_10_14                                              7          7   \n",
              "age_15_19                                              6          6   \n",
              "age_20_24                                              5          5   \n",
              "age_25_29                                              6          6   \n",
              "age_30_34                                              6          6   \n",
              "age_35_39                                              6          6   \n",
              "age_40_44                                              7          7   \n",
              "age_45_49                                              7          7   \n",
              "age_50_54                                              7          7   \n",
              "\n",
              "                                                  8          9       ...  \\\n",
              "county_fips                                         1003       1003  ...   \n",
              "covid_19_confirmed_cases                             0.0        0.0  ...   \n",
              "covid_19_deaths                                      0.0        0.0  ...   \n",
              "social_distancing_total_grade                          F          F  ...   \n",
              "social_distancing_visitation_grade                     F          F  ...   \n",
              "social_distancing_encounters_grade                     F          F  ...   \n",
              "social_distancing_travel_distance_grade                F          F  ...   \n",
              "retail_and_recreation_mobility_percent_change        0.0        0.0  ...   \n",
              "grocery_and_pharmacy_mobility_percent_change         0.0        0.0  ...   \n",
              "workplaces_mobility_percent_change                   0.0        0.0  ...   \n",
              "daily_state_test                                     0.0        0.0  ...   \n",
              "precipitation                                      150.0        5.0  ...   \n",
              "temperature                                          7.0       12.0  ...   \n",
              "percent_of_vaccinated_residents                      0.0        0.0  ...   \n",
              "virus_pressure                                       0.0        0.0  ...   \n",
              "total_population                                  218022     218022  ...   \n",
              "proportion_female                               0.515384   0.515384  ...   \n",
              "area                                             1589.78    1589.78  ...   \n",
              "population_density                             137.13973  137.13973  ...   \n",
              "latitude                                        30.72775   30.72775  ...   \n",
              "longitude                                     -87.722071 -87.722071  ...   \n",
              "hospital_beds_ratio                             0.001367   0.001367  ...   \n",
              "ventilator_capacity_ratio                       0.000261   0.000261  ...   \n",
              "intensive_care_unit_(ICU)_bed_ratio             0.000234   0.000234  ...   \n",
              "housing_density                                   73.363     73.363  ...   \n",
              "less_than_high_school_diploma                        9.7        9.7  ...   \n",
              "high_school_diploma_only                            27.6       27.6  ...   \n",
              "some_college_or_higher                              62.6       62.6  ...   \n",
              "academic_population_ratio                       1.155691   1.155691  ...   \n",
              "percent_of_smokers                             17.489033  17.489033  ...   \n",
              "percent_of_diabetes                                 10.7       10.7  ...   \n",
              "religious_congregation_ratio                        53.0       53.0  ...   \n",
              "political_party                                        0          0  ...   \n",
              "airport_distance                                58.53371   58.53371  ...   \n",
              "passenger_load_ratio                            0.000656   0.000656  ...   \n",
              "number_of_meat_plants                                  2          2  ...   \n",
              "median_household_income                            57588      57588  ...   \n",
              "percent_of_insured_residents                   88.666596  88.666596  ...   \n",
              "gdp_per_capita                                     27.75      27.75  ...   \n",
              "age_0_4                                                6          6  ...   \n",
              "age_5_9                                                6          6  ...   \n",
              "age_10_14                                              7          7  ...   \n",
              "age_15_19                                              6          6  ...   \n",
              "age_20_24                                              5          5  ...   \n",
              "age_25_29                                              6          6  ...   \n",
              "age_30_34                                              6          6  ...   \n",
              "age_35_39                                              6          6  ...   \n",
              "age_40_44                                              7          7  ...   \n",
              "age_45_49                                              7          7  ...   \n",
              "age_50_54                                              7          7  ...   \n",
              "\n",
              "                                                   992256      992257  \\\n",
              "county_fips                                         56039       56039   \n",
              "covid_19_confirmed_cases                              1.0         0.0   \n",
              "covid_19_deaths                                       0.0         0.0   \n",
              "social_distancing_total_grade                           D           D   \n",
              "social_distancing_visitation_grade                      F           F   \n",
              "social_distancing_encounters_grade                      B           B   \n",
              "social_distancing_travel_distance_grade                 F           F   \n",
              "retail_and_recreation_mobility_percent_change        29.0        33.0   \n",
              "grocery_and_pharmacy_mobility_percent_change         -7.0       -12.2   \n",
              "workplaces_mobility_percent_change                  -23.0       -27.0   \n",
              "daily_state_test                                   3190.0         0.0   \n",
              "precipitation                                         0.0         0.0   \n",
              "temperature                                           9.8        13.6   \n",
              "percent_of_vaccinated_residents                      64.9        65.1   \n",
              "virus_pressure                                      4.875       6.125   \n",
              "total_population                                    23081       23081   \n",
              "proportion_female                                0.484034    0.484034   \n",
              "area                                              3995.38     3995.38   \n",
              "population_density                               5.776922    5.776922   \n",
              "latitude                                        43.935225   43.935225   \n",
              "longitude                                      -110.58908  -110.58908   \n",
              "hospital_beds_ratio                              0.004549    0.004549   \n",
              "ventilator_capacity_ratio                        0.000303    0.000303   \n",
              "intensive_care_unit_(ICU)_bed_ratio               0.00026     0.00026   \n",
              "housing_density                                    3.5126      3.5126   \n",
              "less_than_high_school_diploma                         5.6         5.6   \n",
              "high_school_diploma_only                             13.2        13.2   \n",
              "some_college_or_higher                               81.2        81.2   \n",
              "academic_population_ratio                             0.0         0.0   \n",
              "percent_of_smokers                              14.546369   14.546369   \n",
              "percent_of_diabetes                                   2.2         2.2   \n",
              "religious_congregation_ratio                         26.0        26.0   \n",
              "political_party                                         0           0   \n",
              "airport_distance                               209.542743  209.542743   \n",
              "passenger_load_ratio                              0.00117     0.00117   \n",
              "number_of_meat_plants                                   2           2   \n",
              "median_household_income                             99087       99087   \n",
              "percent_of_insured_residents                    83.965483   83.965483   \n",
              "gdp_per_capita                                      93.95       93.95   \n",
              "age_0_4                                                 6           6   \n",
              "age_5_9                                                 5           5   \n",
              "age_10_14                                               5           5   \n",
              "age_15_19                                               5           5   \n",
              "age_20_24                                               7           7   \n",
              "age_25_29                                              11          11   \n",
              "age_30_34                                               9           9   \n",
              "age_35_39                                               8           8   \n",
              "age_40_44                                               7           7   \n",
              "age_45_49                                               7           7   \n",
              "age_50_54                                               8           8   \n",
              "\n",
              "                                                   992258      992259  \\\n",
              "county_fips                                         56039       56039   \n",
              "covid_19_confirmed_cases                              0.0         2.0   \n",
              "covid_19_deaths                                       0.0         0.0   \n",
              "social_distancing_total_grade                           D           D   \n",
              "social_distancing_visitation_grade                      F           F   \n",
              "social_distancing_encounters_grade                      B           B   \n",
              "social_distancing_travel_distance_grade                 F           F   \n",
              "retail_and_recreation_mobility_percent_change        33.0        30.0   \n",
              "grocery_and_pharmacy_mobility_percent_change         -9.4       -14.6   \n",
              "workplaces_mobility_percent_change                  -26.0       -25.0   \n",
              "daily_state_test                                   1527.0      1949.0   \n",
              "precipitation                                         0.0         0.0   \n",
              "temperature                                          17.0        21.4   \n",
              "percent_of_vaccinated_residents                      65.2        65.3   \n",
              "virus_pressure                                      2.625       2.125   \n",
              "total_population                                    23081       23081   \n",
              "proportion_female                                0.484034    0.484034   \n",
              "area                                              3995.38     3995.38   \n",
              "population_density                               5.776922    5.776922   \n",
              "latitude                                        43.935225   43.935225   \n",
              "longitude                                      -110.58908  -110.58908   \n",
              "hospital_beds_ratio                              0.004549    0.004549   \n",
              "ventilator_capacity_ratio                        0.000303    0.000303   \n",
              "intensive_care_unit_(ICU)_bed_ratio               0.00026     0.00026   \n",
              "housing_density                                    3.5126      3.5126   \n",
              "less_than_high_school_diploma                         5.6         5.6   \n",
              "high_school_diploma_only                             13.2        13.2   \n",
              "some_college_or_higher                               81.2        81.2   \n",
              "academic_population_ratio                             0.0         0.0   \n",
              "percent_of_smokers                              14.546369   14.546369   \n",
              "percent_of_diabetes                                   2.2         2.2   \n",
              "religious_congregation_ratio                         26.0        26.0   \n",
              "political_party                                         0           0   \n",
              "airport_distance                               209.542743  209.542743   \n",
              "passenger_load_ratio                              0.00117     0.00117   \n",
              "number_of_meat_plants                                   2           2   \n",
              "median_household_income                             99087       99087   \n",
              "percent_of_insured_residents                    83.965483   83.965483   \n",
              "gdp_per_capita                                      93.95       93.95   \n",
              "age_0_4                                                 6           6   \n",
              "age_5_9                                                 5           5   \n",
              "age_10_14                                               5           5   \n",
              "age_15_19                                               5           5   \n",
              "age_20_24                                               7           7   \n",
              "age_25_29                                              11          11   \n",
              "age_30_34                                               9           9   \n",
              "age_35_39                                               8           8   \n",
              "age_40_44                                               7           7   \n",
              "age_45_49                                               7           7   \n",
              "age_50_54                                               8           8   \n",
              "\n",
              "                                                   992260      992261  \\\n",
              "county_fips                                         56039       56039   \n",
              "covid_19_confirmed_cases                              0.0         0.0   \n",
              "covid_19_deaths                                       0.0         0.0   \n",
              "social_distancing_total_grade                           D           D   \n",
              "social_distancing_visitation_grade                      F           F   \n",
              "social_distancing_encounters_grade                      B           B   \n",
              "social_distancing_travel_distance_grade                 F           F   \n",
              "retail_and_recreation_mobility_percent_change        31.0        47.0   \n",
              "grocery_and_pharmacy_mobility_percent_change        -14.8       -12.8   \n",
              "workplaces_mobility_percent_change                  -29.0       -33.0   \n",
              "daily_state_test                                      0.0         0.0   \n",
              "precipitation                                         0.0         0.0   \n",
              "temperature                                          19.4        14.4   \n",
              "percent_of_vaccinated_residents                      65.3        65.6   \n",
              "virus_pressure                                        0.0         0.0   \n",
              "total_population                                    23081       23081   \n",
              "proportion_female                                0.484034    0.484034   \n",
              "area                                              3995.38     3995.38   \n",
              "population_density                               5.776922    5.776922   \n",
              "latitude                                        43.935225   43.935225   \n",
              "longitude                                      -110.58908  -110.58908   \n",
              "hospital_beds_ratio                              0.004549    0.004549   \n",
              "ventilator_capacity_ratio                        0.000303    0.000303   \n",
              "intensive_care_unit_(ICU)_bed_ratio               0.00026     0.00026   \n",
              "housing_density                                    3.5126      3.5126   \n",
              "less_than_high_school_diploma                         5.6         5.6   \n",
              "high_school_diploma_only                             13.2        13.2   \n",
              "some_college_or_higher                               81.2        81.2   \n",
              "academic_population_ratio                             0.0         0.0   \n",
              "percent_of_smokers                              14.546369   14.546369   \n",
              "percent_of_diabetes                                   2.2         2.2   \n",
              "religious_congregation_ratio                         26.0        26.0   \n",
              "political_party                                         0           0   \n",
              "airport_distance                               209.542743  209.542743   \n",
              "passenger_load_ratio                              0.00117     0.00117   \n",
              "number_of_meat_plants                                   2           2   \n",
              "median_household_income                             99087       99087   \n",
              "percent_of_insured_residents                    83.965483   83.965483   \n",
              "gdp_per_capita                                      93.95       93.95   \n",
              "age_0_4                                                 6           6   \n",
              "age_5_9                                                 5           5   \n",
              "age_10_14                                               5           5   \n",
              "age_15_19                                               5           5   \n",
              "age_20_24                                               7           7   \n",
              "age_25_29                                              11          11   \n",
              "age_30_34                                               9           9   \n",
              "age_35_39                                               8           8   \n",
              "age_40_44                                               7           7   \n",
              "age_45_49                                               7           7   \n",
              "age_50_54                                               8           8   \n",
              "\n",
              "                                                   992262      992263  \\\n",
              "county_fips                                         56039       56039   \n",
              "covid_19_confirmed_cases                              2.0         3.0   \n",
              "covid_19_deaths                                       0.0         1.0   \n",
              "social_distancing_total_grade                           D          D+   \n",
              "social_distancing_visitation_grade                      F           F   \n",
              "social_distancing_encounters_grade                      B           A   \n",
              "social_distancing_travel_distance_grade                 F           F   \n",
              "retail_and_recreation_mobility_percent_change        47.0        54.0   \n",
              "grocery_and_pharmacy_mobility_percent_change        -12.2        -7.6   \n",
              "workplaces_mobility_percent_change                  -21.0       -19.0   \n",
              "daily_state_test                                   2783.0       466.0   \n",
              "precipitation                                         0.0         0.0   \n",
              "temperature                                          15.8        18.6   \n",
              "percent_of_vaccinated_residents                      65.6        65.9   \n",
              "virus_pressure                                      4.375       3.125   \n",
              "total_population                                    23081       23081   \n",
              "proportion_female                                0.484034    0.484034   \n",
              "area                                              3995.38     3995.38   \n",
              "population_density                               5.776922    5.776922   \n",
              "latitude                                        43.935225   43.935225   \n",
              "longitude                                      -110.58908  -110.58908   \n",
              "hospital_beds_ratio                              0.004549    0.004549   \n",
              "ventilator_capacity_ratio                        0.000303    0.000303   \n",
              "intensive_care_unit_(ICU)_bed_ratio               0.00026     0.00026   \n",
              "housing_density                                    3.5126      3.5126   \n",
              "less_than_high_school_diploma                         5.6         5.6   \n",
              "high_school_diploma_only                             13.2        13.2   \n",
              "some_college_or_higher                               81.2        81.2   \n",
              "academic_population_ratio                             0.0         0.0   \n",
              "percent_of_smokers                              14.546369   14.546369   \n",
              "percent_of_diabetes                                   2.2         2.2   \n",
              "religious_congregation_ratio                         26.0        26.0   \n",
              "political_party                                         0           0   \n",
              "airport_distance                               209.542743  209.542743   \n",
              "passenger_load_ratio                              0.00117     0.00117   \n",
              "number_of_meat_plants                                   2           2   \n",
              "median_household_income                             99087       99087   \n",
              "percent_of_insured_residents                    83.965483   83.965483   \n",
              "gdp_per_capita                                      93.95       93.95   \n",
              "age_0_4                                                 6           6   \n",
              "age_5_9                                                 5           5   \n",
              "age_10_14                                               5           5   \n",
              "age_15_19                                               5           5   \n",
              "age_20_24                                               7           7   \n",
              "age_25_29                                              11          11   \n",
              "age_30_34                                               9           9   \n",
              "age_35_39                                               8           8   \n",
              "age_40_44                                               7           7   \n",
              "age_45_49                                               7           7   \n",
              "age_50_54                                               8           8   \n",
              "\n",
              "                                                   992264      992265  \n",
              "county_fips                                         56039       56039  \n",
              "covid_19_confirmed_cases                              1.0         0.0  \n",
              "covid_19_deaths                                       0.0         0.0  \n",
              "social_distancing_total_grade                           D           D  \n",
              "social_distancing_visitation_grade                      F           F  \n",
              "social_distancing_encounters_grade                      B           B  \n",
              "social_distancing_travel_distance_grade                 F           F  \n",
              "retail_and_recreation_mobility_percent_change        53.0        46.0  \n",
              "grocery_and_pharmacy_mobility_percent_change        -10.6        -6.0  \n",
              "workplaces_mobility_percent_change                  -21.0       -22.0  \n",
              "daily_state_test                                   1136.0      2050.0  \n",
              "precipitation                                         0.0         0.0  \n",
              "temperature                                          20.0        11.4  \n",
              "percent_of_vaccinated_residents                      66.7        66.7  \n",
              "virus_pressure                                       1.75       1.375  \n",
              "total_population                                    23081       23081  \n",
              "proportion_female                                0.484034    0.484034  \n",
              "area                                              3995.38     3995.38  \n",
              "population_density                               5.776922    5.776922  \n",
              "latitude                                        43.935225   43.935225  \n",
              "longitude                                      -110.58908  -110.58908  \n",
              "hospital_beds_ratio                              0.004549    0.004549  \n",
              "ventilator_capacity_ratio                        0.000303    0.000303  \n",
              "intensive_care_unit_(ICU)_bed_ratio               0.00026     0.00026  \n",
              "housing_density                                    3.5126      3.5126  \n",
              "less_than_high_school_diploma                         5.6         5.6  \n",
              "high_school_diploma_only                             13.2        13.2  \n",
              "some_college_or_higher                               81.2        81.2  \n",
              "academic_population_ratio                             0.0         0.0  \n",
              "percent_of_smokers                              14.546369   14.546369  \n",
              "percent_of_diabetes                                   2.2         2.2  \n",
              "religious_congregation_ratio                         26.0        26.0  \n",
              "political_party                                         0           0  \n",
              "airport_distance                               209.542743  209.542743  \n",
              "passenger_load_ratio                              0.00117     0.00117  \n",
              "number_of_meat_plants                                   2           2  \n",
              "median_household_income                             99087       99087  \n",
              "percent_of_insured_residents                    83.965483   83.965483  \n",
              "gdp_per_capita                                      93.95       93.95  \n",
              "age_0_4                                                 6           6  \n",
              "age_5_9                                                 5           5  \n",
              "age_10_14                                               5           5  \n",
              "age_15_19                                               5           5  \n",
              "age_20_24                                               7           7  \n",
              "age_25_29                                              11          11  \n",
              "age_30_34                                               9           9  \n",
              "age_35_39                                               8           8  \n",
              "age_40_44                                               7           7  \n",
              "age_45_49                                               7           7  \n",
              "age_50_54                                               8           8  \n",
              "\n",
              "[50 rows x 992266 columns]"
            ],
            "text/html": [
              "\n",
              "  <div id=\"df-4353609e-b702-492b-abfa-ce440fc61ee8\">\n",
              "    <div class=\"colab-df-container\">\n",
              "      <div>\n",
              "<style scoped>\n",
              "    .dataframe tbody tr th:only-of-type {\n",
              "        vertical-align: middle;\n",
              "    }\n",
              "\n",
              "    .dataframe tbody tr th {\n",
              "        vertical-align: top;\n",
              "    }\n",
              "\n",
              "    .dataframe thead th {\n",
              "        text-align: right;\n",
              "    }\n",
              "</style>\n",
              "<table border=\"1\" class=\"dataframe\">\n",
              "  <thead>\n",
              "    <tr style=\"text-align: right;\">\n",
              "      <th></th>\n",
              "      <th>0</th>\n",
              "      <th>1</th>\n",
              "      <th>2</th>\n",
              "      <th>3</th>\n",
              "      <th>4</th>\n",
              "      <th>5</th>\n",
              "      <th>6</th>\n",
              "      <th>7</th>\n",
              "      <th>8</th>\n",
              "      <th>9</th>\n",
              "      <th>...</th>\n",
              "      <th>992256</th>\n",
              "      <th>992257</th>\n",
              "      <th>992258</th>\n",
              "      <th>992259</th>\n",
              "      <th>992260</th>\n",
              "      <th>992261</th>\n",
              "      <th>992262</th>\n",
              "      <th>992263</th>\n",
              "      <th>992264</th>\n",
              "      <th>992265</th>\n",
              "    </tr>\n",
              "  </thead>\n",
              "  <tbody>\n",
              "    <tr>\n",
              "      <th>county_fips</th>\n",
              "      <td>1003</td>\n",
              "      <td>1003</td>\n",
              "      <td>1003</td>\n",
              "      <td>1003</td>\n",
              "      <td>1003</td>\n",
              "      <td>1003</td>\n",
              "      <td>1003</td>\n",
              "      <td>1003</td>\n",
              "      <td>1003</td>\n",
              "      <td>1003</td>\n",
              "      <td>...</td>\n",
              "      <td>56039</td>\n",
              "      <td>56039</td>\n",
              "      <td>56039</td>\n",
              "      <td>56039</td>\n",
              "      <td>56039</td>\n",
              "      <td>56039</td>\n",
              "      <td>56039</td>\n",
              "      <td>56039</td>\n",
              "      <td>56039</td>\n",
              "      <td>56039</td>\n",
              "    </tr>\n",
              "    <tr>\n",
              "      <th>covid_19_confirmed_cases</th>\n",
              "      <td>0.0</td>\n",
              "      <td>0.0</td>\n",
              "      <td>0.0</td>\n",
              "      <td>0.0</td>\n",
              "      <td>0.0</td>\n",
              "      <td>0.0</td>\n",
              "      <td>0.0</td>\n",
              "      <td>0.0</td>\n",
              "      <td>0.0</td>\n",
              "      <td>0.0</td>\n",
              "      <td>...</td>\n",
              "      <td>1.0</td>\n",
              "      <td>0.0</td>\n",
              "      <td>0.0</td>\n",
              "      <td>2.0</td>\n",
              "      <td>0.0</td>\n",
              "      <td>0.0</td>\n",
              "      <td>2.0</td>\n",
              "      <td>3.0</td>\n",
              "      <td>1.0</td>\n",
              "      <td>0.0</td>\n",
              "    </tr>\n",
              "    <tr>\n",
              "      <th>covid_19_deaths</th>\n",
              "      <td>0.0</td>\n",
              "      <td>0.0</td>\n",
              "      <td>0.0</td>\n",
              "      <td>0.0</td>\n",
              "      <td>0.0</td>\n",
              "      <td>0.0</td>\n",
              "      <td>0.0</td>\n",
              "      <td>0.0</td>\n",
              "      <td>0.0</td>\n",
              "      <td>0.0</td>\n",
              "      <td>...</td>\n",
              "      <td>0.0</td>\n",
              "      <td>0.0</td>\n",
              "      <td>0.0</td>\n",
              "      <td>0.0</td>\n",
              "      <td>0.0</td>\n",
              "      <td>0.0</td>\n",
              "      <td>0.0</td>\n",
              "      <td>1.0</td>\n",
              "      <td>0.0</td>\n",
              "      <td>0.0</td>\n",
              "    </tr>\n",
              "    <tr>\n",
              "      <th>social_distancing_total_grade</th>\n",
              "      <td>F</td>\n",
              "      <td>F</td>\n",
              "      <td>F</td>\n",
              "      <td>F</td>\n",
              "      <td>F</td>\n",
              "      <td>F</td>\n",
              "      <td>F</td>\n",
              "      <td>F</td>\n",
              "      <td>F</td>\n",
              "      <td>F</td>\n",
              "      <td>...</td>\n",
              "      <td>D</td>\n",
              "      <td>D</td>\n",
              "      <td>D</td>\n",
              "      <td>D</td>\n",
              "      <td>D</td>\n",
              "      <td>D</td>\n",
              "      <td>D</td>\n",
              "      <td>D+</td>\n",
              "      <td>D</td>\n",
              "      <td>D</td>\n",
              "    </tr>\n",
              "    <tr>\n",
              "      <th>social_distancing_visitation_grade</th>\n",
              "      <td>F</td>\n",
              "      <td>F</td>\n",
              "      <td>F</td>\n",
              "      <td>F</td>\n",
              "      <td>F</td>\n",
              "      <td>F</td>\n",
              "      <td>F</td>\n",
              "      <td>F</td>\n",
              "      <td>F</td>\n",
              "      <td>F</td>\n",
              "      <td>...</td>\n",
              "      <td>F</td>\n",
              "      <td>F</td>\n",
              "      <td>F</td>\n",
              "      <td>F</td>\n",
              "      <td>F</td>\n",
              "      <td>F</td>\n",
              "      <td>F</td>\n",
              "      <td>F</td>\n",
              "      <td>F</td>\n",
              "      <td>F</td>\n",
              "    </tr>\n",
              "    <tr>\n",
              "      <th>social_distancing_encounters_grade</th>\n",
              "      <td>F</td>\n",
              "      <td>F</td>\n",
              "      <td>F</td>\n",
              "      <td>F</td>\n",
              "      <td>F</td>\n",
              "      <td>F</td>\n",
              "      <td>F</td>\n",
              "      <td>F</td>\n",
              "      <td>F</td>\n",
              "      <td>F</td>\n",
              "      <td>...</td>\n",
              "      <td>B</td>\n",
              "      <td>B</td>\n",
              "      <td>B</td>\n",
              "      <td>B</td>\n",
              "      <td>B</td>\n",
              "      <td>B</td>\n",
              "      <td>B</td>\n",
              "      <td>A</td>\n",
              "      <td>B</td>\n",
              "      <td>B</td>\n",
              "    </tr>\n",
              "    <tr>\n",
              "      <th>social_distancing_travel_distance_grade</th>\n",
              "      <td>F</td>\n",
              "      <td>F</td>\n",
              "      <td>F</td>\n",
              "      <td>F</td>\n",
              "      <td>F</td>\n",
              "      <td>F</td>\n",
              "      <td>F</td>\n",
              "      <td>F</td>\n",
              "      <td>F</td>\n",
              "      <td>F</td>\n",
              "      <td>...</td>\n",
              "      <td>F</td>\n",
              "      <td>F</td>\n",
              "      <td>F</td>\n",
              "      <td>F</td>\n",
              "      <td>F</td>\n",
              "      <td>F</td>\n",
              "      <td>F</td>\n",
              "      <td>F</td>\n",
              "      <td>F</td>\n",
              "      <td>F</td>\n",
              "    </tr>\n",
              "    <tr>\n",
              "      <th>retail_and_recreation_mobility_percent_change</th>\n",
              "      <td>0.0</td>\n",
              "      <td>0.0</td>\n",
              "      <td>0.0</td>\n",
              "      <td>0.0</td>\n",
              "      <td>0.0</td>\n",
              "      <td>0.0</td>\n",
              "      <td>0.0</td>\n",
              "      <td>0.0</td>\n",
              "      <td>0.0</td>\n",
              "      <td>0.0</td>\n",
              "      <td>...</td>\n",
              "      <td>29.0</td>\n",
              "      <td>33.0</td>\n",
              "      <td>33.0</td>\n",
              "      <td>30.0</td>\n",
              "      <td>31.0</td>\n",
              "      <td>47.0</td>\n",
              "      <td>47.0</td>\n",
              "      <td>54.0</td>\n",
              "      <td>53.0</td>\n",
              "      <td>46.0</td>\n",
              "    </tr>\n",
              "    <tr>\n",
              "      <th>grocery_and_pharmacy_mobility_percent_change</th>\n",
              "      <td>0.0</td>\n",
              "      <td>0.0</td>\n",
              "      <td>0.0</td>\n",
              "      <td>0.0</td>\n",
              "      <td>0.0</td>\n",
              "      <td>0.0</td>\n",
              "      <td>0.0</td>\n",
              "      <td>0.0</td>\n",
              "      <td>0.0</td>\n",
              "      <td>0.0</td>\n",
              "      <td>...</td>\n",
              "      <td>-7.0</td>\n",
              "      <td>-12.2</td>\n",
              "      <td>-9.4</td>\n",
              "      <td>-14.6</td>\n",
              "      <td>-14.8</td>\n",
              "      <td>-12.8</td>\n",
              "      <td>-12.2</td>\n",
              "      <td>-7.6</td>\n",
              "      <td>-10.6</td>\n",
              "      <td>-6.0</td>\n",
              "    </tr>\n",
              "    <tr>\n",
              "      <th>workplaces_mobility_percent_change</th>\n",
              "      <td>0.0</td>\n",
              "      <td>0.0</td>\n",
              "      <td>0.0</td>\n",
              "      <td>0.0</td>\n",
              "      <td>0.0</td>\n",
              "      <td>0.0</td>\n",
              "      <td>0.0</td>\n",
              "      <td>0.0</td>\n",
              "      <td>0.0</td>\n",
              "      <td>0.0</td>\n",
              "      <td>...</td>\n",
              "      <td>-23.0</td>\n",
              "      <td>-27.0</td>\n",
              "      <td>-26.0</td>\n",
              "      <td>-25.0</td>\n",
              "      <td>-29.0</td>\n",
              "      <td>-33.0</td>\n",
              "      <td>-21.0</td>\n",
              "      <td>-19.0</td>\n",
              "      <td>-21.0</td>\n",
              "      <td>-22.0</td>\n",
              "    </tr>\n",
              "    <tr>\n",
              "      <th>daily_state_test</th>\n",
              "      <td>0.0</td>\n",
              "      <td>0.0</td>\n",
              "      <td>0.0</td>\n",
              "      <td>0.0</td>\n",
              "      <td>0.0</td>\n",
              "      <td>0.0</td>\n",
              "      <td>0.0</td>\n",
              "      <td>0.0</td>\n",
              "      <td>0.0</td>\n",
              "      <td>0.0</td>\n",
              "      <td>...</td>\n",
              "      <td>3190.0</td>\n",
              "      <td>0.0</td>\n",
              "      <td>1527.0</td>\n",
              "      <td>1949.0</td>\n",
              "      <td>0.0</td>\n",
              "      <td>0.0</td>\n",
              "      <td>2783.0</td>\n",
              "      <td>466.0</td>\n",
              "      <td>1136.0</td>\n",
              "      <td>2050.0</td>\n",
              "    </tr>\n",
              "    <tr>\n",
              "      <th>precipitation</th>\n",
              "      <td>0.0</td>\n",
              "      <td>0.0</td>\n",
              "      <td>79.0</td>\n",
              "      <td>0.0</td>\n",
              "      <td>5.0</td>\n",
              "      <td>104.0</td>\n",
              "      <td>3.0</td>\n",
              "      <td>13.0</td>\n",
              "      <td>150.0</td>\n",
              "      <td>5.0</td>\n",
              "      <td>...</td>\n",
              "      <td>0.0</td>\n",
              "      <td>0.0</td>\n",
              "      <td>0.0</td>\n",
              "      <td>0.0</td>\n",
              "      <td>0.0</td>\n",
              "      <td>0.0</td>\n",
              "      <td>0.0</td>\n",
              "      <td>0.0</td>\n",
              "      <td>0.0</td>\n",
              "      <td>0.0</td>\n",
              "    </tr>\n",
              "    <tr>\n",
              "      <th>temperature</th>\n",
              "      <td>2.0</td>\n",
              "      <td>4.7</td>\n",
              "      <td>11.4</td>\n",
              "      <td>10.0</td>\n",
              "      <td>10.8</td>\n",
              "      <td>9.7</td>\n",
              "      <td>8.0</td>\n",
              "      <td>13.3</td>\n",
              "      <td>7.0</td>\n",
              "      <td>12.0</td>\n",
              "      <td>...</td>\n",
              "      <td>9.8</td>\n",
              "      <td>13.6</td>\n",
              "      <td>17.0</td>\n",
              "      <td>21.4</td>\n",
              "      <td>19.4</td>\n",
              "      <td>14.4</td>\n",
              "      <td>15.8</td>\n",
              "      <td>18.6</td>\n",
              "      <td>20.0</td>\n",
              "      <td>11.4</td>\n",
              "    </tr>\n",
              "    <tr>\n",
              "      <th>percent_of_vaccinated_residents</th>\n",
              "      <td>0.0</td>\n",
              "      <td>0.0</td>\n",
              "      <td>0.0</td>\n",
              "      <td>0.0</td>\n",
              "      <td>0.0</td>\n",
              "      <td>0.0</td>\n",
              "      <td>0.0</td>\n",
              "      <td>0.0</td>\n",
              "      <td>0.0</td>\n",
              "      <td>0.0</td>\n",
              "      <td>...</td>\n",
              "      <td>64.9</td>\n",
              "      <td>65.1</td>\n",
              "      <td>65.2</td>\n",
              "      <td>65.3</td>\n",
              "      <td>65.3</td>\n",
              "      <td>65.6</td>\n",
              "      <td>65.6</td>\n",
              "      <td>65.9</td>\n",
              "      <td>66.7</td>\n",
              "      <td>66.7</td>\n",
              "    </tr>\n",
              "    <tr>\n",
              "      <th>virus_pressure</th>\n",
              "      <td>0.0</td>\n",
              "      <td>0.0</td>\n",
              "      <td>0.0</td>\n",
              "      <td>0.0</td>\n",
              "      <td>0.0</td>\n",
              "      <td>0.0</td>\n",
              "      <td>0.0</td>\n",
              "      <td>0.0</td>\n",
              "      <td>0.0</td>\n",
              "      <td>0.0</td>\n",
              "      <td>...</td>\n",
              "      <td>4.875</td>\n",
              "      <td>6.125</td>\n",
              "      <td>2.625</td>\n",
              "      <td>2.125</td>\n",
              "      <td>0.0</td>\n",
              "      <td>0.0</td>\n",
              "      <td>4.375</td>\n",
              "      <td>3.125</td>\n",
              "      <td>1.75</td>\n",
              "      <td>1.375</td>\n",
              "    </tr>\n",
              "    <tr>\n",
              "      <th>total_population</th>\n",
              "      <td>218022</td>\n",
              "      <td>218022</td>\n",
              "      <td>218022</td>\n",
              "      <td>218022</td>\n",
              "      <td>218022</td>\n",
              "      <td>218022</td>\n",
              "      <td>218022</td>\n",
              "      <td>218022</td>\n",
              "      <td>218022</td>\n",
              "      <td>218022</td>\n",
              "      <td>...</td>\n",
              "      <td>23081</td>\n",
              "      <td>23081</td>\n",
              "      <td>23081</td>\n",
              "      <td>23081</td>\n",
              "      <td>23081</td>\n",
              "      <td>23081</td>\n",
              "      <td>23081</td>\n",
              "      <td>23081</td>\n",
              "      <td>23081</td>\n",
              "      <td>23081</td>\n",
              "    </tr>\n",
              "    <tr>\n",
              "      <th>proportion_female</th>\n",
              "      <td>0.515384</td>\n",
              "      <td>0.515384</td>\n",
              "      <td>0.515384</td>\n",
              "      <td>0.515384</td>\n",
              "      <td>0.515384</td>\n",
              "      <td>0.515384</td>\n",
              "      <td>0.515384</td>\n",
              "      <td>0.515384</td>\n",
              "      <td>0.515384</td>\n",
              "      <td>0.515384</td>\n",
              "      <td>...</td>\n",
              "      <td>0.484034</td>\n",
              "      <td>0.484034</td>\n",
              "      <td>0.484034</td>\n",
              "      <td>0.484034</td>\n",
              "      <td>0.484034</td>\n",
              "      <td>0.484034</td>\n",
              "      <td>0.484034</td>\n",
              "      <td>0.484034</td>\n",
              "      <td>0.484034</td>\n",
              "      <td>0.484034</td>\n",
              "    </tr>\n",
              "    <tr>\n",
              "      <th>area</th>\n",
              "      <td>1589.78</td>\n",
              "      <td>1589.78</td>\n",
              "      <td>1589.78</td>\n",
              "      <td>1589.78</td>\n",
              "      <td>1589.78</td>\n",
              "      <td>1589.78</td>\n",
              "      <td>1589.78</td>\n",
              "      <td>1589.78</td>\n",
              "      <td>1589.78</td>\n",
              "      <td>1589.78</td>\n",
              "      <td>...</td>\n",
              "      <td>3995.38</td>\n",
              "      <td>3995.38</td>\n",
              "      <td>3995.38</td>\n",
              "      <td>3995.38</td>\n",
              "      <td>3995.38</td>\n",
              "      <td>3995.38</td>\n",
              "      <td>3995.38</td>\n",
              "      <td>3995.38</td>\n",
              "      <td>3995.38</td>\n",
              "      <td>3995.38</td>\n",
              "    </tr>\n",
              "    <tr>\n",
              "      <th>population_density</th>\n",
              "      <td>137.13973</td>\n",
              "      <td>137.13973</td>\n",
              "      <td>137.13973</td>\n",
              "      <td>137.13973</td>\n",
              "      <td>137.13973</td>\n",
              "      <td>137.13973</td>\n",
              "      <td>137.13973</td>\n",
              "      <td>137.13973</td>\n",
              "      <td>137.13973</td>\n",
              "      <td>137.13973</td>\n",
              "      <td>...</td>\n",
              "      <td>5.776922</td>\n",
              "      <td>5.776922</td>\n",
              "      <td>5.776922</td>\n",
              "      <td>5.776922</td>\n",
              "      <td>5.776922</td>\n",
              "      <td>5.776922</td>\n",
              "      <td>5.776922</td>\n",
              "      <td>5.776922</td>\n",
              "      <td>5.776922</td>\n",
              "      <td>5.776922</td>\n",
              "    </tr>\n",
              "    <tr>\n",
              "      <th>latitude</th>\n",
              "      <td>30.72775</td>\n",
              "      <td>30.72775</td>\n",
              "      <td>30.72775</td>\n",
              "      <td>30.72775</td>\n",
              "      <td>30.72775</td>\n",
              "      <td>30.72775</td>\n",
              "      <td>30.72775</td>\n",
              "      <td>30.72775</td>\n",
              "      <td>30.72775</td>\n",
              "      <td>30.72775</td>\n",
              "      <td>...</td>\n",
              "      <td>43.935225</td>\n",
              "      <td>43.935225</td>\n",
              "      <td>43.935225</td>\n",
              "      <td>43.935225</td>\n",
              "      <td>43.935225</td>\n",
              "      <td>43.935225</td>\n",
              "      <td>43.935225</td>\n",
              "      <td>43.935225</td>\n",
              "      <td>43.935225</td>\n",
              "      <td>43.935225</td>\n",
              "    </tr>\n",
              "    <tr>\n",
              "      <th>longitude</th>\n",
              "      <td>-87.722071</td>\n",
              "      <td>-87.722071</td>\n",
              "      <td>-87.722071</td>\n",
              "      <td>-87.722071</td>\n",
              "      <td>-87.722071</td>\n",
              "      <td>-87.722071</td>\n",
              "      <td>-87.722071</td>\n",
              "      <td>-87.722071</td>\n",
              "      <td>-87.722071</td>\n",
              "      <td>-87.722071</td>\n",
              "      <td>...</td>\n",
              "      <td>-110.58908</td>\n",
              "      <td>-110.58908</td>\n",
              "      <td>-110.58908</td>\n",
              "      <td>-110.58908</td>\n",
              "      <td>-110.58908</td>\n",
              "      <td>-110.58908</td>\n",
              "      <td>-110.58908</td>\n",
              "      <td>-110.58908</td>\n",
              "      <td>-110.58908</td>\n",
              "      <td>-110.58908</td>\n",
              "    </tr>\n",
              "    <tr>\n",
              "      <th>hospital_beds_ratio</th>\n",
              "      <td>0.001367</td>\n",
              "      <td>0.001367</td>\n",
              "      <td>0.001367</td>\n",
              "      <td>0.001367</td>\n",
              "      <td>0.001367</td>\n",
              "      <td>0.001367</td>\n",
              "      <td>0.001367</td>\n",
              "      <td>0.001367</td>\n",
              "      <td>0.001367</td>\n",
              "      <td>0.001367</td>\n",
              "      <td>...</td>\n",
              "      <td>0.004549</td>\n",
              "      <td>0.004549</td>\n",
              "      <td>0.004549</td>\n",
              "      <td>0.004549</td>\n",
              "      <td>0.004549</td>\n",
              "      <td>0.004549</td>\n",
              "      <td>0.004549</td>\n",
              "      <td>0.004549</td>\n",
              "      <td>0.004549</td>\n",
              "      <td>0.004549</td>\n",
              "    </tr>\n",
              "    <tr>\n",
              "      <th>ventilator_capacity_ratio</th>\n",
              "      <td>0.000261</td>\n",
              "      <td>0.000261</td>\n",
              "      <td>0.000261</td>\n",
              "      <td>0.000261</td>\n",
              "      <td>0.000261</td>\n",
              "      <td>0.000261</td>\n",
              "      <td>0.000261</td>\n",
              "      <td>0.000261</td>\n",
              "      <td>0.000261</td>\n",
              "      <td>0.000261</td>\n",
              "      <td>...</td>\n",
              "      <td>0.000303</td>\n",
              "      <td>0.000303</td>\n",
              "      <td>0.000303</td>\n",
              "      <td>0.000303</td>\n",
              "      <td>0.000303</td>\n",
              "      <td>0.000303</td>\n",
              "      <td>0.000303</td>\n",
              "      <td>0.000303</td>\n",
              "      <td>0.000303</td>\n",
              "      <td>0.000303</td>\n",
              "    </tr>\n",
              "    <tr>\n",
              "      <th>intensive_care_unit_(ICU)_bed_ratio</th>\n",
              "      <td>0.000234</td>\n",
              "      <td>0.000234</td>\n",
              "      <td>0.000234</td>\n",
              "      <td>0.000234</td>\n",
              "      <td>0.000234</td>\n",
              "      <td>0.000234</td>\n",
              "      <td>0.000234</td>\n",
              "      <td>0.000234</td>\n",
              "      <td>0.000234</td>\n",
              "      <td>0.000234</td>\n",
              "      <td>...</td>\n",
              "      <td>0.00026</td>\n",
              "      <td>0.00026</td>\n",
              "      <td>0.00026</td>\n",
              "      <td>0.00026</td>\n",
              "      <td>0.00026</td>\n",
              "      <td>0.00026</td>\n",
              "      <td>0.00026</td>\n",
              "      <td>0.00026</td>\n",
              "      <td>0.00026</td>\n",
              "      <td>0.00026</td>\n",
              "    </tr>\n",
              "    <tr>\n",
              "      <th>housing_density</th>\n",
              "      <td>73.363</td>\n",
              "      <td>73.363</td>\n",
              "      <td>73.363</td>\n",
              "      <td>73.363</td>\n",
              "      <td>73.363</td>\n",
              "      <td>73.363</td>\n",
              "      <td>73.363</td>\n",
              "      <td>73.363</td>\n",
              "      <td>73.363</td>\n",
              "      <td>73.363</td>\n",
              "      <td>...</td>\n",
              "      <td>3.5126</td>\n",
              "      <td>3.5126</td>\n",
              "      <td>3.5126</td>\n",
              "      <td>3.5126</td>\n",
              "      <td>3.5126</td>\n",
              "      <td>3.5126</td>\n",
              "      <td>3.5126</td>\n",
              "      <td>3.5126</td>\n",
              "      <td>3.5126</td>\n",
              "      <td>3.5126</td>\n",
              "    </tr>\n",
              "    <tr>\n",
              "      <th>less_than_high_school_diploma</th>\n",
              "      <td>9.7</td>\n",
              "      <td>9.7</td>\n",
              "      <td>9.7</td>\n",
              "      <td>9.7</td>\n",
              "      <td>9.7</td>\n",
              "      <td>9.7</td>\n",
              "      <td>9.7</td>\n",
              "      <td>9.7</td>\n",
              "      <td>9.7</td>\n",
              "      <td>9.7</td>\n",
              "      <td>...</td>\n",
              "      <td>5.6</td>\n",
              "      <td>5.6</td>\n",
              "      <td>5.6</td>\n",
              "      <td>5.6</td>\n",
              "      <td>5.6</td>\n",
              "      <td>5.6</td>\n",
              "      <td>5.6</td>\n",
              "      <td>5.6</td>\n",
              "      <td>5.6</td>\n",
              "      <td>5.6</td>\n",
              "    </tr>\n",
              "    <tr>\n",
              "      <th>high_school_diploma_only</th>\n",
              "      <td>27.6</td>\n",
              "      <td>27.6</td>\n",
              "      <td>27.6</td>\n",
              "      <td>27.6</td>\n",
              "      <td>27.6</td>\n",
              "      <td>27.6</td>\n",
              "      <td>27.6</td>\n",
              "      <td>27.6</td>\n",
              "      <td>27.6</td>\n",
              "      <td>27.6</td>\n",
              "      <td>...</td>\n",
              "      <td>13.2</td>\n",
              "      <td>13.2</td>\n",
              "      <td>13.2</td>\n",
              "      <td>13.2</td>\n",
              "      <td>13.2</td>\n",
              "      <td>13.2</td>\n",
              "      <td>13.2</td>\n",
              "      <td>13.2</td>\n",
              "      <td>13.2</td>\n",
              "      <td>13.2</td>\n",
              "    </tr>\n",
              "    <tr>\n",
              "      <th>some_college_or_higher</th>\n",
              "      <td>62.6</td>\n",
              "      <td>62.6</td>\n",
              "      <td>62.6</td>\n",
              "      <td>62.6</td>\n",
              "      <td>62.6</td>\n",
              "      <td>62.6</td>\n",
              "      <td>62.6</td>\n",
              "      <td>62.6</td>\n",
              "      <td>62.6</td>\n",
              "      <td>62.6</td>\n",
              "      <td>...</td>\n",
              "      <td>81.2</td>\n",
              "      <td>81.2</td>\n",
              "      <td>81.2</td>\n",
              "      <td>81.2</td>\n",
              "      <td>81.2</td>\n",
              "      <td>81.2</td>\n",
              "      <td>81.2</td>\n",
              "      <td>81.2</td>\n",
              "      <td>81.2</td>\n",
              "      <td>81.2</td>\n",
              "    </tr>\n",
              "    <tr>\n",
              "      <th>academic_population_ratio</th>\n",
              "      <td>1.155691</td>\n",
              "      <td>1.155691</td>\n",
              "      <td>1.155691</td>\n",
              "      <td>1.155691</td>\n",
              "      <td>1.155691</td>\n",
              "      <td>1.155691</td>\n",
              "      <td>1.155691</td>\n",
              "      <td>1.155691</td>\n",
              "      <td>1.155691</td>\n",
              "      <td>1.155691</td>\n",
              "      <td>...</td>\n",
              "      <td>0.0</td>\n",
              "      <td>0.0</td>\n",
              "      <td>0.0</td>\n",
              "      <td>0.0</td>\n",
              "      <td>0.0</td>\n",
              "      <td>0.0</td>\n",
              "      <td>0.0</td>\n",
              "      <td>0.0</td>\n",
              "      <td>0.0</td>\n",
              "      <td>0.0</td>\n",
              "    </tr>\n",
              "    <tr>\n",
              "      <th>percent_of_smokers</th>\n",
              "      <td>17.489033</td>\n",
              "      <td>17.489033</td>\n",
              "      <td>17.489033</td>\n",
              "      <td>17.489033</td>\n",
              "      <td>17.489033</td>\n",
              "      <td>17.489033</td>\n",
              "      <td>17.489033</td>\n",
              "      <td>17.489033</td>\n",
              "      <td>17.489033</td>\n",
              "      <td>17.489033</td>\n",
              "      <td>...</td>\n",
              "      <td>14.546369</td>\n",
              "      <td>14.546369</td>\n",
              "      <td>14.546369</td>\n",
              "      <td>14.546369</td>\n",
              "      <td>14.546369</td>\n",
              "      <td>14.546369</td>\n",
              "      <td>14.546369</td>\n",
              "      <td>14.546369</td>\n",
              "      <td>14.546369</td>\n",
              "      <td>14.546369</td>\n",
              "    </tr>\n",
              "    <tr>\n",
              "      <th>percent_of_diabetes</th>\n",
              "      <td>10.7</td>\n",
              "      <td>10.7</td>\n",
              "      <td>10.7</td>\n",
              "      <td>10.7</td>\n",
              "      <td>10.7</td>\n",
              "      <td>10.7</td>\n",
              "      <td>10.7</td>\n",
              "      <td>10.7</td>\n",
              "      <td>10.7</td>\n",
              "      <td>10.7</td>\n",
              "      <td>...</td>\n",
              "      <td>2.2</td>\n",
              "      <td>2.2</td>\n",
              "      <td>2.2</td>\n",
              "      <td>2.2</td>\n",
              "      <td>2.2</td>\n",
              "      <td>2.2</td>\n",
              "      <td>2.2</td>\n",
              "      <td>2.2</td>\n",
              "      <td>2.2</td>\n",
              "      <td>2.2</td>\n",
              "    </tr>\n",
              "    <tr>\n",
              "      <th>religious_congregation_ratio</th>\n",
              "      <td>53.0</td>\n",
              "      <td>53.0</td>\n",
              "      <td>53.0</td>\n",
              "      <td>53.0</td>\n",
              "      <td>53.0</td>\n",
              "      <td>53.0</td>\n",
              "      <td>53.0</td>\n",
              "      <td>53.0</td>\n",
              "      <td>53.0</td>\n",
              "      <td>53.0</td>\n",
              "      <td>...</td>\n",
              "      <td>26.0</td>\n",
              "      <td>26.0</td>\n",
              "      <td>26.0</td>\n",
              "      <td>26.0</td>\n",
              "      <td>26.0</td>\n",
              "      <td>26.0</td>\n",
              "      <td>26.0</td>\n",
              "      <td>26.0</td>\n",
              "      <td>26.0</td>\n",
              "      <td>26.0</td>\n",
              "    </tr>\n",
              "    <tr>\n",
              "      <th>political_party</th>\n",
              "      <td>0</td>\n",
              "      <td>0</td>\n",
              "      <td>0</td>\n",
              "      <td>0</td>\n",
              "      <td>0</td>\n",
              "      <td>0</td>\n",
              "      <td>0</td>\n",
              "      <td>0</td>\n",
              "      <td>0</td>\n",
              "      <td>0</td>\n",
              "      <td>...</td>\n",
              "      <td>0</td>\n",
              "      <td>0</td>\n",
              "      <td>0</td>\n",
              "      <td>0</td>\n",
              "      <td>0</td>\n",
              "      <td>0</td>\n",
              "      <td>0</td>\n",
              "      <td>0</td>\n",
              "      <td>0</td>\n",
              "      <td>0</td>\n",
              "    </tr>\n",
              "    <tr>\n",
              "      <th>airport_distance</th>\n",
              "      <td>58.53371</td>\n",
              "      <td>58.53371</td>\n",
              "      <td>58.53371</td>\n",
              "      <td>58.53371</td>\n",
              "      <td>58.53371</td>\n",
              "      <td>58.53371</td>\n",
              "      <td>58.53371</td>\n",
              "      <td>58.53371</td>\n",
              "      <td>58.53371</td>\n",
              "      <td>58.53371</td>\n",
              "      <td>...</td>\n",
              "      <td>209.542743</td>\n",
              "      <td>209.542743</td>\n",
              "      <td>209.542743</td>\n",
              "      <td>209.542743</td>\n",
              "      <td>209.542743</td>\n",
              "      <td>209.542743</td>\n",
              "      <td>209.542743</td>\n",
              "      <td>209.542743</td>\n",
              "      <td>209.542743</td>\n",
              "      <td>209.542743</td>\n",
              "    </tr>\n",
              "    <tr>\n",
              "      <th>passenger_load_ratio</th>\n",
              "      <td>0.000656</td>\n",
              "      <td>0.000656</td>\n",
              "      <td>0.000656</td>\n",
              "      <td>0.000656</td>\n",
              "      <td>0.000656</td>\n",
              "      <td>0.000656</td>\n",
              "      <td>0.000656</td>\n",
              "      <td>0.000656</td>\n",
              "      <td>0.000656</td>\n",
              "      <td>0.000656</td>\n",
              "      <td>...</td>\n",
              "      <td>0.00117</td>\n",
              "      <td>0.00117</td>\n",
              "      <td>0.00117</td>\n",
              "      <td>0.00117</td>\n",
              "      <td>0.00117</td>\n",
              "      <td>0.00117</td>\n",
              "      <td>0.00117</td>\n",
              "      <td>0.00117</td>\n",
              "      <td>0.00117</td>\n",
              "      <td>0.00117</td>\n",
              "    </tr>\n",
              "    <tr>\n",
              "      <th>number_of_meat_plants</th>\n",
              "      <td>2</td>\n",
              "      <td>2</td>\n",
              "      <td>2</td>\n",
              "      <td>2</td>\n",
              "      <td>2</td>\n",
              "      <td>2</td>\n",
              "      <td>2</td>\n",
              "      <td>2</td>\n",
              "      <td>2</td>\n",
              "      <td>2</td>\n",
              "      <td>...</td>\n",
              "      <td>2</td>\n",
              "      <td>2</td>\n",
              "      <td>2</td>\n",
              "      <td>2</td>\n",
              "      <td>2</td>\n",
              "      <td>2</td>\n",
              "      <td>2</td>\n",
              "      <td>2</td>\n",
              "      <td>2</td>\n",
              "      <td>2</td>\n",
              "    </tr>\n",
              "    <tr>\n",
              "      <th>median_household_income</th>\n",
              "      <td>57588</td>\n",
              "      <td>57588</td>\n",
              "      <td>57588</td>\n",
              "      <td>57588</td>\n",
              "      <td>57588</td>\n",
              "      <td>57588</td>\n",
              "      <td>57588</td>\n",
              "      <td>57588</td>\n",
              "      <td>57588</td>\n",
              "      <td>57588</td>\n",
              "      <td>...</td>\n",
              "      <td>99087</td>\n",
              "      <td>99087</td>\n",
              "      <td>99087</td>\n",
              "      <td>99087</td>\n",
              "      <td>99087</td>\n",
              "      <td>99087</td>\n",
              "      <td>99087</td>\n",
              "      <td>99087</td>\n",
              "      <td>99087</td>\n",
              "      <td>99087</td>\n",
              "    </tr>\n",
              "    <tr>\n",
              "      <th>percent_of_insured_residents</th>\n",
              "      <td>88.666596</td>\n",
              "      <td>88.666596</td>\n",
              "      <td>88.666596</td>\n",
              "      <td>88.666596</td>\n",
              "      <td>88.666596</td>\n",
              "      <td>88.666596</td>\n",
              "      <td>88.666596</td>\n",
              "      <td>88.666596</td>\n",
              "      <td>88.666596</td>\n",
              "      <td>88.666596</td>\n",
              "      <td>...</td>\n",
              "      <td>83.965483</td>\n",
              "      <td>83.965483</td>\n",
              "      <td>83.965483</td>\n",
              "      <td>83.965483</td>\n",
              "      <td>83.965483</td>\n",
              "      <td>83.965483</td>\n",
              "      <td>83.965483</td>\n",
              "      <td>83.965483</td>\n",
              "      <td>83.965483</td>\n",
              "      <td>83.965483</td>\n",
              "    </tr>\n",
              "    <tr>\n",
              "      <th>gdp_per_capita</th>\n",
              "      <td>27.75</td>\n",
              "      <td>27.75</td>\n",
              "      <td>27.75</td>\n",
              "      <td>27.75</td>\n",
              "      <td>27.75</td>\n",
              "      <td>27.75</td>\n",
              "      <td>27.75</td>\n",
              "      <td>27.75</td>\n",
              "      <td>27.75</td>\n",
              "      <td>27.75</td>\n",
              "      <td>...</td>\n",
              "      <td>93.95</td>\n",
              "      <td>93.95</td>\n",
              "      <td>93.95</td>\n",
              "      <td>93.95</td>\n",
              "      <td>93.95</td>\n",
              "      <td>93.95</td>\n",
              "      <td>93.95</td>\n",
              "      <td>93.95</td>\n",
              "      <td>93.95</td>\n",
              "      <td>93.95</td>\n",
              "    </tr>\n",
              "    <tr>\n",
              "      <th>age_0_4</th>\n",
              "      <td>6</td>\n",
              "      <td>6</td>\n",
              "      <td>6</td>\n",
              "      <td>6</td>\n",
              "      <td>6</td>\n",
              "      <td>6</td>\n",
              "      <td>6</td>\n",
              "      <td>6</td>\n",
              "      <td>6</td>\n",
              "      <td>6</td>\n",
              "      <td>...</td>\n",
              "      <td>6</td>\n",
              "      <td>6</td>\n",
              "      <td>6</td>\n",
              "      <td>6</td>\n",
              "      <td>6</td>\n",
              "      <td>6</td>\n",
              "      <td>6</td>\n",
              "      <td>6</td>\n",
              "      <td>6</td>\n",
              "      <td>6</td>\n",
              "    </tr>\n",
              "    <tr>\n",
              "      <th>age_5_9</th>\n",
              "      <td>6</td>\n",
              "      <td>6</td>\n",
              "      <td>6</td>\n",
              "      <td>6</td>\n",
              "      <td>6</td>\n",
              "      <td>6</td>\n",
              "      <td>6</td>\n",
              "      <td>6</td>\n",
              "      <td>6</td>\n",
              "      <td>6</td>\n",
              "      <td>...</td>\n",
              "      <td>5</td>\n",
              "      <td>5</td>\n",
              "      <td>5</td>\n",
              "      <td>5</td>\n",
              "      <td>5</td>\n",
              "      <td>5</td>\n",
              "      <td>5</td>\n",
              "      <td>5</td>\n",
              "      <td>5</td>\n",
              "      <td>5</td>\n",
              "    </tr>\n",
              "    <tr>\n",
              "      <th>age_10_14</th>\n",
              "      <td>7</td>\n",
              "      <td>7</td>\n",
              "      <td>7</td>\n",
              "      <td>7</td>\n",
              "      <td>7</td>\n",
              "      <td>7</td>\n",
              "      <td>7</td>\n",
              "      <td>7</td>\n",
              "      <td>7</td>\n",
              "      <td>7</td>\n",
              "      <td>...</td>\n",
              "      <td>5</td>\n",
              "      <td>5</td>\n",
              "      <td>5</td>\n",
              "      <td>5</td>\n",
              "      <td>5</td>\n",
              "      <td>5</td>\n",
              "      <td>5</td>\n",
              "      <td>5</td>\n",
              "      <td>5</td>\n",
              "      <td>5</td>\n",
              "    </tr>\n",
              "    <tr>\n",
              "      <th>age_15_19</th>\n",
              "      <td>6</td>\n",
              "      <td>6</td>\n",
              "      <td>6</td>\n",
              "      <td>6</td>\n",
              "      <td>6</td>\n",
              "      <td>6</td>\n",
              "      <td>6</td>\n",
              "      <td>6</td>\n",
              "      <td>6</td>\n",
              "      <td>6</td>\n",
              "      <td>...</td>\n",
              "      <td>5</td>\n",
              "      <td>5</td>\n",
              "      <td>5</td>\n",
              "      <td>5</td>\n",
              "      <td>5</td>\n",
              "      <td>5</td>\n",
              "      <td>5</td>\n",
              "      <td>5</td>\n",
              "      <td>5</td>\n",
              "      <td>5</td>\n",
              "    </tr>\n",
              "    <tr>\n",
              "      <th>age_20_24</th>\n",
              "      <td>5</td>\n",
              "      <td>5</td>\n",
              "      <td>5</td>\n",
              "      <td>5</td>\n",
              "      <td>5</td>\n",
              "      <td>5</td>\n",
              "      <td>5</td>\n",
              "      <td>5</td>\n",
              "      <td>5</td>\n",
              "      <td>5</td>\n",
              "      <td>...</td>\n",
              "      <td>7</td>\n",
              "      <td>7</td>\n",
              "      <td>7</td>\n",
              "      <td>7</td>\n",
              "      <td>7</td>\n",
              "      <td>7</td>\n",
              "      <td>7</td>\n",
              "      <td>7</td>\n",
              "      <td>7</td>\n",
              "      <td>7</td>\n",
              "    </tr>\n",
              "    <tr>\n",
              "      <th>age_25_29</th>\n",
              "      <td>6</td>\n",
              "      <td>6</td>\n",
              "      <td>6</td>\n",
              "      <td>6</td>\n",
              "      <td>6</td>\n",
              "      <td>6</td>\n",
              "      <td>6</td>\n",
              "      <td>6</td>\n",
              "      <td>6</td>\n",
              "      <td>6</td>\n",
              "      <td>...</td>\n",
              "      <td>11</td>\n",
              "      <td>11</td>\n",
              "      <td>11</td>\n",
              "      <td>11</td>\n",
              "      <td>11</td>\n",
              "      <td>11</td>\n",
              "      <td>11</td>\n",
              "      <td>11</td>\n",
              "      <td>11</td>\n",
              "      <td>11</td>\n",
              "    </tr>\n",
              "    <tr>\n",
              "      <th>age_30_34</th>\n",
              "      <td>6</td>\n",
              "      <td>6</td>\n",
              "      <td>6</td>\n",
              "      <td>6</td>\n",
              "      <td>6</td>\n",
              "      <td>6</td>\n",
              "      <td>6</td>\n",
              "      <td>6</td>\n",
              "      <td>6</td>\n",
              "      <td>6</td>\n",
              "      <td>...</td>\n",
              "      <td>9</td>\n",
              "      <td>9</td>\n",
              "      <td>9</td>\n",
              "      <td>9</td>\n",
              "      <td>9</td>\n",
              "      <td>9</td>\n",
              "      <td>9</td>\n",
              "      <td>9</td>\n",
              "      <td>9</td>\n",
              "      <td>9</td>\n",
              "    </tr>\n",
              "    <tr>\n",
              "      <th>age_35_39</th>\n",
              "      <td>6</td>\n",
              "      <td>6</td>\n",
              "      <td>6</td>\n",
              "      <td>6</td>\n",
              "      <td>6</td>\n",
              "      <td>6</td>\n",
              "      <td>6</td>\n",
              "      <td>6</td>\n",
              "      <td>6</td>\n",
              "      <td>6</td>\n",
              "      <td>...</td>\n",
              "      <td>8</td>\n",
              "      <td>8</td>\n",
              "      <td>8</td>\n",
              "      <td>8</td>\n",
              "      <td>8</td>\n",
              "      <td>8</td>\n",
              "      <td>8</td>\n",
              "      <td>8</td>\n",
              "      <td>8</td>\n",
              "      <td>8</td>\n",
              "    </tr>\n",
              "    <tr>\n",
              "      <th>age_40_44</th>\n",
              "      <td>7</td>\n",
              "      <td>7</td>\n",
              "      <td>7</td>\n",
              "      <td>7</td>\n",
              "      <td>7</td>\n",
              "      <td>7</td>\n",
              "      <td>7</td>\n",
              "      <td>7</td>\n",
              "      <td>7</td>\n",
              "      <td>7</td>\n",
              "      <td>...</td>\n",
              "      <td>7</td>\n",
              "      <td>7</td>\n",
              "      <td>7</td>\n",
              "      <td>7</td>\n",
              "      <td>7</td>\n",
              "      <td>7</td>\n",
              "      <td>7</td>\n",
              "      <td>7</td>\n",
              "      <td>7</td>\n",
              "      <td>7</td>\n",
              "    </tr>\n",
              "    <tr>\n",
              "      <th>age_45_49</th>\n",
              "      <td>7</td>\n",
              "      <td>7</td>\n",
              "      <td>7</td>\n",
              "      <td>7</td>\n",
              "      <td>7</td>\n",
              "      <td>7</td>\n",
              "      <td>7</td>\n",
              "      <td>7</td>\n",
              "      <td>7</td>\n",
              "      <td>7</td>\n",
              "      <td>...</td>\n",
              "      <td>7</td>\n",
              "      <td>7</td>\n",
              "      <td>7</td>\n",
              "      <td>7</td>\n",
              "      <td>7</td>\n",
              "      <td>7</td>\n",
              "      <td>7</td>\n",
              "      <td>7</td>\n",
              "      <td>7</td>\n",
              "      <td>7</td>\n",
              "    </tr>\n",
              "    <tr>\n",
              "      <th>age_50_54</th>\n",
              "      <td>7</td>\n",
              "      <td>7</td>\n",
              "      <td>7</td>\n",
              "      <td>7</td>\n",
              "      <td>7</td>\n",
              "      <td>7</td>\n",
              "      <td>7</td>\n",
              "      <td>7</td>\n",
              "      <td>7</td>\n",
              "      <td>7</td>\n",
              "      <td>...</td>\n",
              "      <td>8</td>\n",
              "      <td>8</td>\n",
              "      <td>8</td>\n",
              "      <td>8</td>\n",
              "      <td>8</td>\n",
              "      <td>8</td>\n",
              "      <td>8</td>\n",
              "      <td>8</td>\n",
              "      <td>8</td>\n",
              "      <td>8</td>\n",
              "    </tr>\n",
              "  </tbody>\n",
              "</table>\n",
              "<p>50 rows × 992266 columns</p>\n",
              "</div>\n",
              "      <button class=\"colab-df-convert\" onclick=\"convertToInteractive('df-4353609e-b702-492b-abfa-ce440fc61ee8')\"\n",
              "              title=\"Convert this dataframe to an interactive table.\"\n",
              "              style=\"display:none;\">\n",
              "        \n",
              "  <svg xmlns=\"http://www.w3.org/2000/svg\" height=\"24px\"viewBox=\"0 0 24 24\"\n",
              "       width=\"24px\">\n",
              "    <path d=\"M0 0h24v24H0V0z\" fill=\"none\"/>\n",
              "    <path d=\"M18.56 5.44l.94 2.06.94-2.06 2.06-.94-2.06-.94-.94-2.06-.94 2.06-2.06.94zm-11 1L8.5 8.5l.94-2.06 2.06-.94-2.06-.94L8.5 2.5l-.94 2.06-2.06.94zm10 10l.94 2.06.94-2.06 2.06-.94-2.06-.94-.94-2.06-.94 2.06-2.06.94z\"/><path d=\"M17.41 7.96l-1.37-1.37c-.4-.4-.92-.59-1.43-.59-.52 0-1.04.2-1.43.59L10.3 9.45l-7.72 7.72c-.78.78-.78 2.05 0 2.83L4 21.41c.39.39.9.59 1.41.59.51 0 1.02-.2 1.41-.59l7.78-7.78 2.81-2.81c.8-.78.8-2.07 0-2.86zM5.41 20L4 18.59l7.72-7.72 1.47 1.35L5.41 20z\"/>\n",
              "  </svg>\n",
              "      </button>\n",
              "      \n",
              "  <style>\n",
              "    .colab-df-container {\n",
              "      display:flex;\n",
              "      flex-wrap:wrap;\n",
              "      gap: 12px;\n",
              "    }\n",
              "\n",
              "    .colab-df-convert {\n",
              "      background-color: #E8F0FE;\n",
              "      border: none;\n",
              "      border-radius: 50%;\n",
              "      cursor: pointer;\n",
              "      display: none;\n",
              "      fill: #1967D2;\n",
              "      height: 32px;\n",
              "      padding: 0 0 0 0;\n",
              "      width: 32px;\n",
              "    }\n",
              "\n",
              "    .colab-df-convert:hover {\n",
              "      background-color: #E2EBFA;\n",
              "      box-shadow: 0px 1px 2px rgba(60, 64, 67, 0.3), 0px 1px 3px 1px rgba(60, 64, 67, 0.15);\n",
              "      fill: #174EA6;\n",
              "    }\n",
              "\n",
              "    [theme=dark] .colab-df-convert {\n",
              "      background-color: #3B4455;\n",
              "      fill: #D2E3FC;\n",
              "    }\n",
              "\n",
              "    [theme=dark] .colab-df-convert:hover {\n",
              "      background-color: #434B5C;\n",
              "      box-shadow: 0px 1px 3px 1px rgba(0, 0, 0, 0.15);\n",
              "      filter: drop-shadow(0px 1px 2px rgba(0, 0, 0, 0.3));\n",
              "      fill: #FFFFFF;\n",
              "    }\n",
              "  </style>\n",
              "\n",
              "      <script>\n",
              "        const buttonEl =\n",
              "          document.querySelector('#df-4353609e-b702-492b-abfa-ce440fc61ee8 button.colab-df-convert');\n",
              "        buttonEl.style.display =\n",
              "          google.colab.kernel.accessAllowed ? 'block' : 'none';\n",
              "\n",
              "        async function convertToInteractive(key) {\n",
              "          const element = document.querySelector('#df-4353609e-b702-492b-abfa-ce440fc61ee8');\n",
              "          const dataTable =\n",
              "            await google.colab.kernel.invokeFunction('convertToInteractive',\n",
              "                                                     [key], {});\n",
              "          if (!dataTable) return;\n",
              "\n",
              "          const docLinkHtml = 'Like what you see? Visit the ' +\n",
              "            '<a target=\"_blank\" href=https://colab.research.google.com/notebooks/data_table.ipynb>data table notebook</a>'\n",
              "            + ' to learn more about interactive tables.';\n",
              "          element.innerHTML = '';\n",
              "          dataTable['output_type'] = 'display_data';\n",
              "          await google.colab.output.renderOutput(dataTable, element);\n",
              "          const docLink = document.createElement('div');\n",
              "          docLink.innerHTML = docLinkHtml;\n",
              "          element.appendChild(docLink);\n",
              "        }\n",
              "      </script>\n",
              "    </div>\n",
              "  </div>\n",
              "  "
            ]
          },
          "metadata": {},
          "execution_count": 15
        }
      ]
    },
    {
      "cell_type": "code",
      "source": [
        "missing_value_level = 20\n",
        "df_development_dropped_missed  = X[X.columns[(X.isna().mean().round(4) * 100 <= missing_value_level)].tolist()]\n",
        "print('The dimension of data after filtering:', df_development_dropped_missed.shape)"
      ],
      "metadata": {
        "colab": {
          "base_uri": "https://localhost:8080/"
        },
        "id": "v-nbzcFqqkpJ",
        "outputId": "4e09e204-fd95-42b8-d326-1b9f63dcebf7"
      },
      "execution_count": 60,
      "outputs": [
        {
          "output_type": "stream",
          "name": "stdout",
          "text": [
            "The dimension of data after filtering: (992266, 55)\n"
          ]
        }
      ]
    },
    {
      "cell_type": "code",
      "source": [
        "X_development_cont = X.copy().drop(['social_distancing_total_grade', 'social_distancing_visitation_grade', 'social_distancing_encounters_grade', 'social_distancing_travel_distance_grade'], axis =1)\n",
        "X_development_cont.shape"
      ],
      "metadata": {
        "colab": {
          "base_uri": "https://localhost:8080/"
        },
        "id": "cOMwA-kSxtGW",
        "outputId": "93f0dc6b-cd61-4334-d7ea-e4587d982cfd"
      },
      "execution_count": 61,
      "outputs": [
        {
          "output_type": "execute_result",
          "data": {
            "text/plain": [
              "(992266, 51)"
            ]
          },
          "metadata": {},
          "execution_count": 61
        }
      ]
    },
    {
      "cell_type": "code",
      "source": [
        "\n",
        "# Impute continuous features with the mean of their respective available values using the SimpleImputer library\n",
        "my_imputer = SimpleImputer(strategy = 'mean')\n",
        "imputed_X_development_cont = pd.DataFrame(my_imputer.fit_transform(X_development_cont), columns = X_development_cont.columns.tolist())\n",
        "\n",
        "# Normalize the continuous features into z-scores using the StandardScaler  library\n",
        "ss = StandardScaler()\n",
        "development_features_ss = pd.DataFrame(ss.fit_transform(imputed_X_development_cont), columns =  imputed_X_development_cont.columns.tolist())\n",
        "\n",
        "# Drop continuous variables from the dataframe to select categorical variables\n",
        "columns = X_development_cont.columns.tolist()\n",
        "X_cate_miss = df_development_dropped_missed.drop(columns,axis =1)\n",
        "\n",
        "# Impute missing values in categorical features using the mode of their respective available values\n",
        "my_imputer_mf = SimpleImputer(strategy = \"most_frequent\")\n",
        "imputed_X_development_cate = pd.DataFrame(my_imputer_mf.fit_transform(X_cate_miss),columns = X_cate_miss.columns.tolist())\n",
        "\n",
        "# Concatenate the resultant continuous and categorical features after imputation\n",
        "df_development_imputed = pd.concat([development_features_ss,imputed_X_development_cate], axis=1)\n",
        "\n",
        "# Finding highly correlated features (>0.90)\n",
        "corr_matrix = df_development_imputed.corr().abs()\n",
        "upper = corr_matrix.where(np.triu(np.ones(corr_matrix.shape), k=1).astype(np.bool))\n",
        "to_drop = [column for column in upper.columns if any(upper[column] > 0.9)]\n",
        "\n",
        "df_development_imputed_dropped_high_corr =  df_development_imputed.drop(to_drop , axis=1 )\n",
        "print('After corr filtering:',df_development_imputed_dropped_high_corr.shape)"
      ],
      "metadata": {
        "colab": {
          "base_uri": "https://localhost:8080/"
        },
        "id": "k2p_bd4Crj0a",
        "outputId": "fd79f135-e5f8-431c-b2aa-821fa911becf"
      },
      "execution_count": 62,
      "outputs": [
        {
          "output_type": "stream",
          "name": "stdout",
          "text": [
            "After corr filtering: (992266, 52)\n"
          ]
        },
        {
          "output_type": "stream",
          "name": "stderr",
          "text": [
            "/usr/local/lib/python3.7/dist-packages/ipykernel_launcher.py:23: DeprecationWarning: `np.bool` is a deprecated alias for the builtin `bool`. To silence this warning, use `bool` by itself. Doing this will not modify any behavior and is safe. If you specifically wanted the numpy scalar type, use `np.bool_` here.\n",
            "Deprecated in NumPy 1.20; for more details and guidance: https://numpy.org/devdocs/release/1.20.0-notes.html#deprecations\n"
          ]
        }
      ]
    },
    {
      "cell_type": "code",
      "source": [
        "df_development_imputed_dropped_high_corr.T.head(50)\n",
        "X_processed = df_development_imputed_dropped_high_corr.copy().drop([\"age_0_4\", \"age_5_9\", \"age_10_14\" ,\"age_15_19\",\"age_20_24\" ,\"age_25_29\" ,\"age_30_34\"  ,\"age_35_39\" ,\"age_40_44\" ,\"age_45_49\" ,\"age_50_54\"  ,\"age_55_59\"  ,\"age_60_64\" ,\"age_65_69\"  ,\"age_70_74\"   ,\"age_75_79\"  ,\"age_80_84\"  ,\"age_85_or_higher\"], axis=1)\n",
        "print('After delete data:', X_processed.shape)"
      ],
      "metadata": {
        "id": "ovINH5dRsorq",
        "colab": {
          "base_uri": "https://localhost:8080/"
        },
        "outputId": "5e894b2c-00ac-490d-acc2-8110427e1909"
      },
      "execution_count": 63,
      "outputs": [
        {
          "output_type": "stream",
          "name": "stdout",
          "text": [
            "After delete data: (992266, 34)\n"
          ]
        }
      ]
    },
    {
      "cell_type": "code",
      "execution_count": 65,
      "metadata": {
        "colab": {
          "base_uri": "https://localhost:8080/"
        },
        "id": "uI554YzF7st9",
        "outputId": "9e959630-246a-48a2-a859-9a75c3b93eaf"
      },
      "outputs": [
        {
          "output_type": "stream",
          "name": "stdout",
          "text": [
            "(694586, 34) (297680, 34)\n"
          ]
        }
      ],
      "source": [
        "X_train, X_test, y_train, y_test = train_test_split(X_processed, y, test_size=0.3, random_state=105)\n",
        "print(X_train.shape, X_test.shape)"
      ]
    },
    {
      "cell_type": "code",
      "execution_count": null,
      "metadata": {
        "id": "0XDI3x3JNPZf",
        "outputId": "d4bcb9df-15b9-44e6-d402-cfba03fae050",
        "colab": {
          "base_uri": "https://localhost:8080/",
          "height": 1000
        }
      },
      "outputs": [
        {
          "output_type": "display_data",
          "data": {
            "text/plain": [
              "<Figure size 1440x1440 with 2 Axes>"
            ],
            "image/png": "[encoded data removed]"
          },
          "metadata": {
            "needs_background": "light"
          }
        }
      ],
      "source": [
        "corrmat = X_processed.corr()\n",
        "top_corr_features = corrmat.index\n",
        "plt.figure(figsize=(20,20))\n",
        "#plot heat map\n",
        "g=sns.heatmap(X_processed[top_corr_features].corr(),annot=True,cmap=\"RdYlGn\")"
      ]
    },
    {
      "cell_type": "markdown",
      "source": [
        "# **Feature importance**"
      ],
      "metadata": {
        "id": "xVoHc6t_utoB"
      }
    },
    {
      "cell_type": "code",
      "execution_count": null,
      "metadata": {
        "id": "Kw_0rlSSNPZe",
        "colab": {
          "base_uri": "https://localhost:8080/",
          "height": 387
        },
        "outputId": "55ed1c44-b2f9-4940-dd37-ff1b3a86f9fd"
      },
      "outputs": [
        {
          "output_type": "stream",
          "name": "stderr",
          "text": [
            "/usr/local/lib/python3.7/dist-packages/ipykernel_launcher.py:5: DataConversionWarning: A column-vector y was passed when a 1d array was expected. Please change the shape of y to (n_samples,), for example using ravel().\n",
            "  \"\"\"\n"
          ]
        },
        {
          "output_type": "stream",
          "name": "stdout",
          "text": [
            "[0.12577786 0.17608376 0.06106169 0.13744014 0.05408635 0.20770508\n",
            " 0.01756956 0.01196792 0.01669889 0.01195119 0.01315714 0.00777143\n",
            " 0.01212086 0.01166092 0.01113596 0.01211283 0.0074374  0.01186931\n",
            " 0.01138785 0.01226508 0.01148405 0.0197101  0.00337097 0.02223514\n",
            " 0.01193852]\n"
          ]
        },
        {
          "output_type": "display_data",
          "data": {
            "text/plain": [
              "<Figure size 432x288 with 1 Axes>"
            ],
            "image/png": "[encoded data removed]"
          },
          "metadata": {
            "needs_background": "light"
          }
        }
      ],
      "source": [
        "\n",
        "from sklearn.ensemble import ExtraTreesClassifier\n",
        "import matplotlib.pyplot as plt\n",
        "model = RandomForestClassifier()\n",
        "model.fit(X_test,y_test)\n",
        "print(model.feature_importances_) #use inbuilt class feature_importances of tree based classifiers\n",
        "#plot graph of feature importances for better visualization\n",
        "feat_importances = pd.Series(model.feature_importances_, index=X_test.columns)\n",
        "feat_importances.nlargest(10).plot(kind='barh')\n",
        "plt.show()"
      ]
    },
    {
      "cell_type": "code",
      "execution_count": null,
      "metadata": {
        "id": "4gLSYw_3NPZf"
      },
      "outputs": [],
      "source": [
        "from sklearn.manifold import TSNE\n",
        "X_embedded = TSNE(n_components=2, learning_rate='auto', init='random').fit_transform(X[:10000])"
      ]
    },
    {
      "cell_type": "markdown",
      "source": [
        "# Test train spli"
      ],
      "metadata": {
        "id": "w33_FUI41OrH"
      }
    },
    {
      "cell_type": "markdown",
      "source": [
        "# **--- KNN ---**\n",
        "\n"
      ],
      "metadata": {
        "id": "3Idy6NESX7WM"
      }
    },
    {
      "cell_type": "code",
      "execution_count": null,
      "metadata": {
        "id": "1D6YI3LcNPZX"
      },
      "outputs": [],
      "source": [
        "def KNN(X_train, X_test, y_train, y_test):\n",
        "    KNeighborsRegressorObject = KNeighborsRegressor()\n",
        "    # Grid search over different Ks to choose the best one\n",
        "    # neighbors = np.array([10, 20, 40, 60, 80, 100, 120, 140, 160, 180, 200])\n",
        "    # neighbors = neighbors[neighbors < len(X_train) * (4 / 5)]  # 4/5 of samples is used as train when cv=5\n",
        "    # parameters = {'n_neighbors': neighbors}\n",
        "    # GridSearchOnKs = GridSearchCV(KNeighborsRegressorObject, parameters, cv=5)\n",
        "    # GridSearchOnKs.fit(X_train, y_train)\n",
        "    # best_K = GridSearchOnKs.best_params_\n",
        "    # train KNN with the best K\n",
        "    best_K = {}\n",
        "    best_K['n_neighbors'] = 20 #int(math.log(len(y_train)))\n",
        "    print('best k:', best_K['n_neighbors'])\n",
        "    KNN_Model = KNeighborsRegressor(n_neighbors=best_K['n_neighbors'], metric='minkowski', weights='distance')\n",
        "    KNN_Model.fit(X_train, y_train)\n",
        "    y_prediction = KNN_Model.predict(X_test)\n",
        "    y_prediction_train = KNN_Model.predict(X_train)\n",
        "    score = KNN_Model.score(X_train, y_train)\n",
        "    print(\"Score train = \", score)\n",
        "    score = KNN_Model.score(X_test, y_test)\n",
        "    print(\"Score test = \", score)\n",
        "    \n",
        "    return KNN_Model, y_prediction, y_test, y_prediction_train, y_train\n",
        "\n"
      ]
    },
    {
      "cell_type": "code",
      "execution_count": null,
      "metadata": {
        "colab": {
          "base_uri": "https://localhost:8080/"
        },
        "id": "MJ1nDAEmNPZY",
        "outputId": "471ccdfd-7987-4e0d-b316-42ec8c9e6d98"
      },
      "outputs": [
        {
          "output_type": "stream",
          "name": "stdout",
          "text": [
            "best k:20\n",
            "Score train = 0.9999593911\n",
            "Score test = 0.8181755202\n"
          ]
        }
      ],
      "source": [
        "KNN_Model, y_prediction, y_test_original, y_prediction_train, y_train_original = KNN(X_train, X_test, y_train, y_test)"
      ]
    },
    {
      "cell_type": "code",
      "execution_count": null,
      "metadata": {
        "id": "IXK3NmikdTam"
      },
      "outputs": [],
      "source": [
        "def plot_prediction(y_actual, y_predicted, title):\n",
        "  X = np.arange(len(y_actual))\n",
        "  print(len(y_actual), len(y_predicted))\n",
        "  plt.plot(X, y_predicted, color='r', label='predicted')\n",
        "  plt.plot(X, y_actual, color='g', label='Actual')\n",
        "  plt.xlabel(\"Days\")\n",
        "  plt.ylabel(\"Confirmed cased\")\n",
        "  plt.title(title)\n",
        "  plt.legend()\n",
        "\n",
        "  # To load the display window\n",
        "  plt.show()"
      ]
    },
    {
      "cell_type": "code",
      "execution_count": null,
      "metadata": {
        "id": "uonHnrvCgKyj",
        "colab": {
          "base_uri": "https://localhost:8080/",
          "height": 312
        },
        "outputId": "920bed19-19de-4d3a-9dc6-d7058782d830"
      },
      "outputs": [
        {
          "output_type": "stream",
          "name": "stdout",
          "text": [
            "3000 3000\n"
          ]
        },
        {
          "output_type": "display_data",
          "data": {
            "text/plain": [
              "<Figure size 432x288 with 1 Axes>"
            ],
            "image/png": "[encoded data removed]"
          },
          "metadata": {
            "needs_background": "light"
          }
        }
      ],
      "source": [
        "plot_prediction(y_test_original, np.ravel(y_prediction), \"Prediction on test data\")"
      ]
    },
    {
      "cell_type": "markdown",
      "source": [
        "# **--- RF ---**"
      ],
      "metadata": {
        "id": "2Qn-t3EKu4y3"
      }
    },
    {
      "cell_type": "code",
      "execution_count": null,
      "metadata": {
        "id": "S6QYGBThNPZX"
      },
      "outputs": [],
      "source": [
        "n_estimators = [int(x) for x in np.linspace(start = 200, stop = 1000, num = 10)]\n",
        "max_features = ['auto', 'sqrt']\n",
        "max_depth = [int(x) for x in np.linspace(10, 100, num = 10)]\n",
        "max_depth.append(None)\n",
        "min_samples_split = [2, 5, 10]\n",
        "min_samples_leaf = [1, 2, 4]\n",
        "bootstrap = [True, False]\n",
        "\n",
        "# Create the random grid\n",
        "random_grid = {'n_estimators': n_estimators,\n",
        "               'max_features': max_features,\n",
        "               'max_depth': max_depth,\n",
        "               'min_samples_split': min_samples_split,\n",
        "               'min_samples_leaf': min_samples_leaf,\n",
        "               'bootstrap': bootstrap}"
      ]
    },
    {
      "cell_type": "code",
      "execution_count": null,
      "metadata": {
        "id": "KGEm7VbjL1BM",
        "colab": {
          "base_uri": "https://localhost:8080/"
        },
        "outputId": "cac4fe55-e5da-46e7-a287-29a5845a6670"
      },
      "outputs": [
        {
          "output_type": "stream",
          "name": "stdout",
          "text": [
            "Fitting 3 folds for each of 40 candidates, totalling 120 fits\n"
          ]
        },
        {
          "output_type": "stream",
          "name": "stderr",
          "text": [
            "/usr/local/lib/python3.7/dist-packages/sklearn/model_selection/_split.py:680: UserWarning: The least populated class in y has only 1 members, which is less than n_splits=3.\n",
            "  UserWarning,\n",
            "/usr/local/lib/python3.7/dist-packages/sklearn/model_selection/_validation.py:680: DataConversionWarning: A column-vector y was passed when a 1d array was expected. Please change the shape of y to (n_samples,), for example using ravel().\n",
            "  estimator.fit(X_train, y_train, **fit_params)\n"
          ]
        },
        {
          "output_type": "stream",
          "name": "stdout",
          "text": [
            "[CV] END bootstrap=True, max_depth=10, max_features=sqrt, min_samples_leaf=2, min_samples_split=10, n_estimators=1000; total time=   4.6s\n"
          ]
        },
        {
          "output_type": "stream",
          "name": "stderr",
          "text": [
            "/usr/local/lib/python3.7/dist-packages/sklearn/model_selection/_validation.py:680: DataConversionWarning: A column-vector y was passed when a 1d array was expected. Please change the shape of y to (n_samples,), for example using ravel().\n",
            "  estimator.fit(X_train, y_train, **fit_params)\n"
          ]
        },
        {
          "output_type": "stream",
          "name": "stdout",
          "text": [
            "[CV] END bootstrap=True, max_depth=10, max_features=sqrt, min_samples_leaf=2, min_samples_split=10, n_estimators=1000; total time=   4.6s\n"
          ]
        },
        {
          "output_type": "stream",
          "name": "stderr",
          "text": [
            "/usr/local/lib/python3.7/dist-packages/sklearn/model_selection/_validation.py:680: DataConversionWarning: A column-vector y was passed when a 1d array was expected. Please change the shape of y to (n_samples,), for example using ravel().\n",
            "  estimator.fit(X_train, y_train, **fit_params)\n"
          ]
        },
        {
          "output_type": "stream",
          "name": "stdout",
          "text": [
            "[CV] END bootstrap=True, max_depth=10, max_features=sqrt, min_samples_leaf=2, min_samples_split=10, n_estimators=1000; total time=   4.6s\n"
          ]
        },
        {
          "output_type": "stream",
          "name": "stderr",
          "text": [
            "/usr/local/lib/python3.7/dist-packages/sklearn/model_selection/_validation.py:680: DataConversionWarning: A column-vector y was passed when a 1d array was expected. Please change the shape of y to (n_samples,), for example using ravel().\n",
            "  estimator.fit(X_train, y_train, **fit_params)\n"
          ]
        },
        {
          "output_type": "stream",
          "name": "stdout",
          "text": [
            "[CV] END bootstrap=True, max_depth=60, max_features=sqrt, min_samples_leaf=2, min_samples_split=2, n_estimators=644; total time=   3.6s\n"
          ]
        },
        {
          "output_type": "stream",
          "name": "stderr",
          "text": [
            "/usr/local/lib/python3.7/dist-packages/sklearn/model_selection/_validation.py:680: DataConversionWarning: A column-vector y was passed when a 1d array was expected. Please change the shape of y to (n_samples,), for example using ravel().\n",
            "  estimator.fit(X_train, y_train, **fit_params)\n"
          ]
        },
        {
          "output_type": "stream",
          "name": "stdout",
          "text": [
            "[CV] END bootstrap=True, max_depth=60, max_features=sqrt, min_samples_leaf=2, min_samples_split=2, n_estimators=644; total time=   3.7s\n"
          ]
        },
        {
          "output_type": "stream",
          "name": "stderr",
          "text": [
            "/usr/local/lib/python3.7/dist-packages/sklearn/model_selection/_validation.py:680: DataConversionWarning: A column-vector y was passed when a 1d array was expected. Please change the shape of y to (n_samples,), for example using ravel().\n",
            "  estimator.fit(X_train, y_train, **fit_params)\n"
          ]
        },
        {
          "output_type": "stream",
          "name": "stdout",
          "text": [
            "[CV] END bootstrap=True, max_depth=60, max_features=sqrt, min_samples_leaf=2, min_samples_split=2, n_estimators=644; total time=   3.7s\n"
          ]
        },
        {
          "output_type": "stream",
          "name": "stderr",
          "text": [
            "/usr/local/lib/python3.7/dist-packages/sklearn/model_selection/_validation.py:680: DataConversionWarning: A column-vector y was passed when a 1d array was expected. Please change the shape of y to (n_samples,), for example using ravel().\n",
            "  estimator.fit(X_train, y_train, **fit_params)\n"
          ]
        },
        {
          "output_type": "stream",
          "name": "stdout",
          "text": [
            "[CV] END bootstrap=True, max_depth=None, max_features=auto, min_samples_leaf=2, min_samples_split=5, n_estimators=733; total time=   3.9s\n"
          ]
        },
        {
          "output_type": "stream",
          "name": "stderr",
          "text": [
            "/usr/local/lib/python3.7/dist-packages/sklearn/model_selection/_validation.py:680: DataConversionWarning: A column-vector y was passed when a 1d array was expected. Please change the shape of y to (n_samples,), for example using ravel().\n",
            "  estimator.fit(X_train, y_train, **fit_params)\n"
          ]
        },
        {
          "output_type": "stream",
          "name": "stdout",
          "text": [
            "[CV] END bootstrap=True, max_depth=None, max_features=auto, min_samples_leaf=2, min_samples_split=5, n_estimators=733; total time=   4.0s\n"
          ]
        },
        {
          "output_type": "stream",
          "name": "stderr",
          "text": [
            "/usr/local/lib/python3.7/dist-packages/sklearn/model_selection/_validation.py:680: DataConversionWarning: A column-vector y was passed when a 1d array was expected. Please change the shape of y to (n_samples,), for example using ravel().\n",
            "  estimator.fit(X_train, y_train, **fit_params)\n"
          ]
        },
        {
          "output_type": "stream",
          "name": "stdout",
          "text": [
            "[CV] END bootstrap=True, max_depth=None, max_features=auto, min_samples_leaf=2, min_samples_split=5, n_estimators=733; total time=   4.0s\n"
          ]
        },
        {
          "output_type": "stream",
          "name": "stderr",
          "text": [
            "/usr/local/lib/python3.7/dist-packages/sklearn/model_selection/_validation.py:680: DataConversionWarning: A column-vector y was passed when a 1d array was expected. Please change the shape of y to (n_samples,), for example using ravel().\n",
            "  estimator.fit(X_train, y_train, **fit_params)\n"
          ]
        },
        {
          "output_type": "stream",
          "name": "stdout",
          "text": [
            "[CV] END bootstrap=True, max_depth=50, max_features=auto, min_samples_leaf=1, min_samples_split=2, n_estimators=200; total time=   1.5s\n"
          ]
        },
        {
          "output_type": "stream",
          "name": "stderr",
          "text": [
            "/usr/local/lib/python3.7/dist-packages/sklearn/model_selection/_validation.py:680: DataConversionWarning: A column-vector y was passed when a 1d array was expected. Please change the shape of y to (n_samples,), for example using ravel().\n",
            "  estimator.fit(X_train, y_train, **fit_params)\n"
          ]
        },
        {
          "output_type": "stream",
          "name": "stdout",
          "text": [
            "[CV] END bootstrap=True, max_depth=50, max_features=auto, min_samples_leaf=1, min_samples_split=2, n_estimators=200; total time=   1.4s\n"
          ]
        },
        {
          "output_type": "stream",
          "name": "stderr",
          "text": [
            "/usr/local/lib/python3.7/dist-packages/sklearn/model_selection/_validation.py:680: DataConversionWarning: A column-vector y was passed when a 1d array was expected. Please change the shape of y to (n_samples,), for example using ravel().\n",
            "  estimator.fit(X_train, y_train, **fit_params)\n"
          ]
        },
        {
          "output_type": "stream",
          "name": "stdout",
          "text": [
            "[CV] END bootstrap=True, max_depth=50, max_features=auto, min_samples_leaf=1, min_samples_split=2, n_estimators=200; total time=   1.4s\n"
          ]
        },
        {
          "output_type": "stream",
          "name": "stderr",
          "text": [
            "/usr/local/lib/python3.7/dist-packages/sklearn/model_selection/_validation.py:680: DataConversionWarning: A column-vector y was passed when a 1d array was expected. Please change the shape of y to (n_samples,), for example using ravel().\n",
            "  estimator.fit(X_train, y_train, **fit_params)\n"
          ]
        },
        {
          "output_type": "stream",
          "name": "stdout",
          "text": [
            "[CV] END bootstrap=True, max_depth=20, max_features=sqrt, min_samples_leaf=2, min_samples_split=10, n_estimators=644; total time=   3.2s\n"
          ]
        },
        {
          "output_type": "stream",
          "name": "stderr",
          "text": [
            "/usr/local/lib/python3.7/dist-packages/sklearn/model_selection/_validation.py:680: DataConversionWarning: A column-vector y was passed when a 1d array was expected. Please change the shape of y to (n_samples,), for example using ravel().\n",
            "  estimator.fit(X_train, y_train, **fit_params)\n"
          ]
        },
        {
          "output_type": "stream",
          "name": "stdout",
          "text": [
            "[CV] END bootstrap=True, max_depth=20, max_features=sqrt, min_samples_leaf=2, min_samples_split=10, n_estimators=644; total time=   3.2s\n"
          ]
        },
        {
          "output_type": "stream",
          "name": "stderr",
          "text": [
            "/usr/local/lib/python3.7/dist-packages/sklearn/model_selection/_validation.py:680: DataConversionWarning: A column-vector y was passed when a 1d array was expected. Please change the shape of y to (n_samples,), for example using ravel().\n",
            "  estimator.fit(X_train, y_train, **fit_params)\n"
          ]
        },
        {
          "output_type": "stream",
          "name": "stdout",
          "text": [
            "[CV] END bootstrap=True, max_depth=20, max_features=sqrt, min_samples_leaf=2, min_samples_split=10, n_estimators=644; total time=   3.3s\n"
          ]
        },
        {
          "output_type": "stream",
          "name": "stderr",
          "text": [
            "/usr/local/lib/python3.7/dist-packages/sklearn/model_selection/_validation.py:680: DataConversionWarning: A column-vector y was passed when a 1d array was expected. Please change the shape of y to (n_samples,), for example using ravel().\n",
            "  estimator.fit(X_train, y_train, **fit_params)\n"
          ]
        },
        {
          "output_type": "stream",
          "name": "stdout",
          "text": [
            "[CV] END bootstrap=True, max_depth=50, max_features=sqrt, min_samples_leaf=2, min_samples_split=5, n_estimators=822; total time=   4.5s\n"
          ]
        },
        {
          "output_type": "stream",
          "name": "stderr",
          "text": [
            "/usr/local/lib/python3.7/dist-packages/sklearn/model_selection/_validation.py:680: DataConversionWarning: A column-vector y was passed when a 1d array was expected. Please change the shape of y to (n_samples,), for example using ravel().\n",
            "  estimator.fit(X_train, y_train, **fit_params)\n"
          ]
        },
        {
          "output_type": "stream",
          "name": "stdout",
          "text": [
            "[CV] END bootstrap=True, max_depth=50, max_features=sqrt, min_samples_leaf=2, min_samples_split=5, n_estimators=822; total time=   4.9s\n"
          ]
        },
        {
          "output_type": "stream",
          "name": "stderr",
          "text": [
            "/usr/local/lib/python3.7/dist-packages/sklearn/model_selection/_validation.py:680: DataConversionWarning: A column-vector y was passed when a 1d array was expected. Please change the shape of y to (n_samples,), for example using ravel().\n",
            "  estimator.fit(X_train, y_train, **fit_params)\n"
          ]
        },
        {
          "output_type": "stream",
          "name": "stdout",
          "text": [
            "[CV] END bootstrap=True, max_depth=50, max_features=sqrt, min_samples_leaf=2, min_samples_split=5, n_estimators=822; total time=   4.4s\n"
          ]
        },
        {
          "output_type": "stream",
          "name": "stderr",
          "text": [
            "/usr/local/lib/python3.7/dist-packages/sklearn/model_selection/_validation.py:680: DataConversionWarning: A column-vector y was passed when a 1d array was expected. Please change the shape of y to (n_samples,), for example using ravel().\n",
            "  estimator.fit(X_train, y_train, **fit_params)\n"
          ]
        },
        {
          "output_type": "stream",
          "name": "stdout",
          "text": [
            "[CV] END bootstrap=False, max_depth=70, max_features=sqrt, min_samples_leaf=1, min_samples_split=2, n_estimators=466; total time=   4.1s\n"
          ]
        },
        {
          "output_type": "stream",
          "name": "stderr",
          "text": [
            "/usr/local/lib/python3.7/dist-packages/sklearn/model_selection/_validation.py:680: DataConversionWarning: A column-vector y was passed when a 1d array was expected. Please change the shape of y to (n_samples,), for example using ravel().\n",
            "  estimator.fit(X_train, y_train, **fit_params)\n"
          ]
        },
        {
          "output_type": "stream",
          "name": "stdout",
          "text": [
            "[CV] END bootstrap=False, max_depth=70, max_features=sqrt, min_samples_leaf=1, min_samples_split=2, n_estimators=466; total time=   4.1s\n"
          ]
        },
        {
          "output_type": "stream",
          "name": "stderr",
          "text": [
            "/usr/local/lib/python3.7/dist-packages/sklearn/model_selection/_validation.py:680: DataConversionWarning: A column-vector y was passed when a 1d array was expected. Please change the shape of y to (n_samples,), for example using ravel().\n",
            "  estimator.fit(X_train, y_train, **fit_params)\n"
          ]
        },
        {
          "output_type": "stream",
          "name": "stdout",
          "text": [
            "[CV] END bootstrap=False, max_depth=70, max_features=sqrt, min_samples_leaf=1, min_samples_split=2, n_estimators=466; total time=   5.4s\n"
          ]
        },
        {
          "output_type": "stream",
          "name": "stderr",
          "text": [
            "/usr/local/lib/python3.7/dist-packages/sklearn/model_selection/_validation.py:680: DataConversionWarning: A column-vector y was passed when a 1d array was expected. Please change the shape of y to (n_samples,), for example using ravel().\n",
            "  estimator.fit(X_train, y_train, **fit_params)\n"
          ]
        },
        {
          "output_type": "stream",
          "name": "stdout",
          "text": [
            "[CV] END bootstrap=True, max_depth=30, max_features=auto, min_samples_leaf=2, min_samples_split=5, n_estimators=911; total time=   5.5s\n"
          ]
        },
        {
          "output_type": "stream",
          "name": "stderr",
          "text": [
            "/usr/local/lib/python3.7/dist-packages/sklearn/model_selection/_validation.py:680: DataConversionWarning: A column-vector y was passed when a 1d array was expected. Please change the shape of y to (n_samples,), for example using ravel().\n",
            "  estimator.fit(X_train, y_train, **fit_params)\n"
          ]
        },
        {
          "output_type": "stream",
          "name": "stdout",
          "text": [
            "[CV] END bootstrap=True, max_depth=30, max_features=auto, min_samples_leaf=2, min_samples_split=5, n_estimators=911; total time=   5.3s\n"
          ]
        },
        {
          "output_type": "stream",
          "name": "stderr",
          "text": [
            "/usr/local/lib/python3.7/dist-packages/sklearn/model_selection/_validation.py:680: DataConversionWarning: A column-vector y was passed when a 1d array was expected. Please change the shape of y to (n_samples,), for example using ravel().\n",
            "  estimator.fit(X_train, y_train, **fit_params)\n"
          ]
        },
        {
          "output_type": "stream",
          "name": "stdout",
          "text": [
            "[CV] END bootstrap=True, max_depth=30, max_features=auto, min_samples_leaf=2, min_samples_split=5, n_estimators=911; total time=   5.5s\n"
          ]
        },
        {
          "output_type": "stream",
          "name": "stderr",
          "text": [
            "/usr/local/lib/python3.7/dist-packages/sklearn/model_selection/_validation.py:680: DataConversionWarning: A column-vector y was passed when a 1d array was expected. Please change the shape of y to (n_samples,), for example using ravel().\n",
            "  estimator.fit(X_train, y_train, **fit_params)\n"
          ]
        },
        {
          "output_type": "stream",
          "name": "stdout",
          "text": [
            "[CV] END bootstrap=False, max_depth=50, max_features=sqrt, min_samples_leaf=2, min_samples_split=2, n_estimators=377; total time=   2.6s\n"
          ]
        },
        {
          "output_type": "stream",
          "name": "stderr",
          "text": [
            "/usr/local/lib/python3.7/dist-packages/sklearn/model_selection/_validation.py:680: DataConversionWarning: A column-vector y was passed when a 1d array was expected. Please change the shape of y to (n_samples,), for example using ravel().\n",
            "  estimator.fit(X_train, y_train, **fit_params)\n"
          ]
        },
        {
          "output_type": "stream",
          "name": "stdout",
          "text": [
            "[CV] END bootstrap=False, max_depth=50, max_features=sqrt, min_samples_leaf=2, min_samples_split=2, n_estimators=377; total time=   2.6s\n"
          ]
        },
        {
          "output_type": "stream",
          "name": "stderr",
          "text": [
            "/usr/local/lib/python3.7/dist-packages/sklearn/model_selection/_validation.py:680: DataConversionWarning: A column-vector y was passed when a 1d array was expected. Please change the shape of y to (n_samples,), for example using ravel().\n",
            "  estimator.fit(X_train, y_train, **fit_params)\n"
          ]
        },
        {
          "output_type": "stream",
          "name": "stdout",
          "text": [
            "[CV] END bootstrap=False, max_depth=50, max_features=sqrt, min_samples_leaf=2, min_samples_split=2, n_estimators=377; total time=   2.5s\n"
          ]
        },
        {
          "output_type": "stream",
          "name": "stderr",
          "text": [
            "/usr/local/lib/python3.7/dist-packages/sklearn/model_selection/_validation.py:680: DataConversionWarning: A column-vector y was passed when a 1d array was expected. Please change the shape of y to (n_samples,), for example using ravel().\n",
            "  estimator.fit(X_train, y_train, **fit_params)\n"
          ]
        },
        {
          "output_type": "stream",
          "name": "stdout",
          "text": [
            "[CV] END bootstrap=False, max_depth=90, max_features=sqrt, min_samples_leaf=4, min_samples_split=5, n_estimators=555; total time=   3.1s\n"
          ]
        },
        {
          "output_type": "stream",
          "name": "stderr",
          "text": [
            "/usr/local/lib/python3.7/dist-packages/sklearn/model_selection/_validation.py:680: DataConversionWarning: A column-vector y was passed when a 1d array was expected. Please change the shape of y to (n_samples,), for example using ravel().\n",
            "  estimator.fit(X_train, y_train, **fit_params)\n"
          ]
        },
        {
          "output_type": "stream",
          "name": "stdout",
          "text": [
            "[CV] END bootstrap=False, max_depth=90, max_features=sqrt, min_samples_leaf=4, min_samples_split=5, n_estimators=555; total time=   3.1s\n"
          ]
        },
        {
          "output_type": "stream",
          "name": "stderr",
          "text": [
            "/usr/local/lib/python3.7/dist-packages/sklearn/model_selection/_validation.py:680: DataConversionWarning: A column-vector y was passed when a 1d array was expected. Please change the shape of y to (n_samples,), for example using ravel().\n",
            "  estimator.fit(X_train, y_train, **fit_params)\n"
          ]
        },
        {
          "output_type": "stream",
          "name": "stdout",
          "text": [
            "[CV] END bootstrap=False, max_depth=90, max_features=sqrt, min_samples_leaf=4, min_samples_split=5, n_estimators=555; total time=   3.1s\n"
          ]
        },
        {
          "output_type": "stream",
          "name": "stderr",
          "text": [
            "/usr/local/lib/python3.7/dist-packages/sklearn/model_selection/_validation.py:680: DataConversionWarning: A column-vector y was passed when a 1d array was expected. Please change the shape of y to (n_samples,), for example using ravel().\n",
            "  estimator.fit(X_train, y_train, **fit_params)\n"
          ]
        },
        {
          "output_type": "stream",
          "name": "stdout",
          "text": [
            "[CV] END bootstrap=False, max_depth=80, max_features=auto, min_samples_leaf=1, min_samples_split=10, n_estimators=911; total time=   6.3s\n"
          ]
        },
        {
          "output_type": "stream",
          "name": "stderr",
          "text": [
            "/usr/local/lib/python3.7/dist-packages/sklearn/model_selection/_validation.py:680: DataConversionWarning: A column-vector y was passed when a 1d array was expected. Please change the shape of y to (n_samples,), for example using ravel().\n",
            "  estimator.fit(X_train, y_train, **fit_params)\n"
          ]
        },
        {
          "output_type": "stream",
          "name": "stdout",
          "text": [
            "[CV] END bootstrap=False, max_depth=80, max_features=auto, min_samples_leaf=1, min_samples_split=10, n_estimators=911; total time=   6.3s\n"
          ]
        },
        {
          "output_type": "stream",
          "name": "stderr",
          "text": [
            "/usr/local/lib/python3.7/dist-packages/sklearn/model_selection/_validation.py:680: DataConversionWarning: A column-vector y was passed when a 1d array was expected. Please change the shape of y to (n_samples,), for example using ravel().\n",
            "  estimator.fit(X_train, y_train, **fit_params)\n"
          ]
        },
        {
          "output_type": "stream",
          "name": "stdout",
          "text": [
            "[CV] END bootstrap=False, max_depth=80, max_features=auto, min_samples_leaf=1, min_samples_split=10, n_estimators=911; total time=   6.4s\n"
          ]
        },
        {
          "output_type": "stream",
          "name": "stderr",
          "text": [
            "/usr/local/lib/python3.7/dist-packages/sklearn/model_selection/_validation.py:680: DataConversionWarning: A column-vector y was passed when a 1d array was expected. Please change the shape of y to (n_samples,), for example using ravel().\n",
            "  estimator.fit(X_train, y_train, **fit_params)\n"
          ]
        },
        {
          "output_type": "stream",
          "name": "stdout",
          "text": [
            "[CV] END bootstrap=False, max_depth=90, max_features=auto, min_samples_leaf=4, min_samples_split=2, n_estimators=1000; total time=   6.4s\n"
          ]
        },
        {
          "output_type": "stream",
          "name": "stderr",
          "text": [
            "/usr/local/lib/python3.7/dist-packages/sklearn/model_selection/_validation.py:680: DataConversionWarning: A column-vector y was passed when a 1d array was expected. Please change the shape of y to (n_samples,), for example using ravel().\n",
            "  estimator.fit(X_train, y_train, **fit_params)\n"
          ]
        },
        {
          "output_type": "stream",
          "name": "stdout",
          "text": [
            "[CV] END bootstrap=False, max_depth=90, max_features=auto, min_samples_leaf=4, min_samples_split=2, n_estimators=1000; total time=   6.3s\n"
          ]
        },
        {
          "output_type": "stream",
          "name": "stderr",
          "text": [
            "/usr/local/lib/python3.7/dist-packages/sklearn/model_selection/_validation.py:680: DataConversionWarning: A column-vector y was passed when a 1d array was expected. Please change the shape of y to (n_samples,), for example using ravel().\n",
            "  estimator.fit(X_train, y_train, **fit_params)\n"
          ]
        },
        {
          "output_type": "stream",
          "name": "stdout",
          "text": [
            "[CV] END bootstrap=False, max_depth=90, max_features=auto, min_samples_leaf=4, min_samples_split=2, n_estimators=1000; total time=   6.2s\n"
          ]
        },
        {
          "output_type": "stream",
          "name": "stderr",
          "text": [
            "/usr/local/lib/python3.7/dist-packages/sklearn/model_selection/_validation.py:680: DataConversionWarning: A column-vector y was passed when a 1d array was expected. Please change the shape of y to (n_samples,), for example using ravel().\n",
            "  estimator.fit(X_train, y_train, **fit_params)\n"
          ]
        },
        {
          "output_type": "stream",
          "name": "stdout",
          "text": [
            "[CV] END bootstrap=False, max_depth=90, max_features=auto, min_samples_leaf=2, min_samples_split=10, n_estimators=1000; total time=   6.5s\n"
          ]
        },
        {
          "output_type": "stream",
          "name": "stderr",
          "text": [
            "/usr/local/lib/python3.7/dist-packages/sklearn/model_selection/_validation.py:680: DataConversionWarning: A column-vector y was passed when a 1d array was expected. Please change the shape of y to (n_samples,), for example using ravel().\n",
            "  estimator.fit(X_train, y_train, **fit_params)\n"
          ]
        },
        {
          "output_type": "stream",
          "name": "stdout",
          "text": [
            "[CV] END bootstrap=False, max_depth=90, max_features=auto, min_samples_leaf=2, min_samples_split=10, n_estimators=1000; total time=   6.5s\n"
          ]
        },
        {
          "output_type": "stream",
          "name": "stderr",
          "text": [
            "/usr/local/lib/python3.7/dist-packages/sklearn/model_selection/_validation.py:680: DataConversionWarning: A column-vector y was passed when a 1d array was expected. Please change the shape of y to (n_samples,), for example using ravel().\n",
            "  estimator.fit(X_train, y_train, **fit_params)\n"
          ]
        },
        {
          "output_type": "stream",
          "name": "stdout",
          "text": [
            "[CV] END bootstrap=False, max_depth=90, max_features=auto, min_samples_leaf=2, min_samples_split=10, n_estimators=1000; total time=   6.7s\n"
          ]
        },
        {
          "output_type": "stream",
          "name": "stderr",
          "text": [
            "/usr/local/lib/python3.7/dist-packages/sklearn/model_selection/_validation.py:680: DataConversionWarning: A column-vector y was passed when a 1d array was expected. Please change the shape of y to (n_samples,), for example using ravel().\n",
            "  estimator.fit(X_train, y_train, **fit_params)\n"
          ]
        },
        {
          "output_type": "stream",
          "name": "stdout",
          "text": [
            "[CV] END bootstrap=True, max_depth=20, max_features=sqrt, min_samples_leaf=4, min_samples_split=10, n_estimators=555; total time=   2.5s\n"
          ]
        },
        {
          "output_type": "stream",
          "name": "stderr",
          "text": [
            "/usr/local/lib/python3.7/dist-packages/sklearn/model_selection/_validation.py:680: DataConversionWarning: A column-vector y was passed when a 1d array was expected. Please change the shape of y to (n_samples,), for example using ravel().\n",
            "  estimator.fit(X_train, y_train, **fit_params)\n"
          ]
        },
        {
          "output_type": "stream",
          "name": "stdout",
          "text": [
            "[CV] END bootstrap=True, max_depth=20, max_features=sqrt, min_samples_leaf=4, min_samples_split=10, n_estimators=555; total time=   2.5s\n"
          ]
        },
        {
          "output_type": "stream",
          "name": "stderr",
          "text": [
            "/usr/local/lib/python3.7/dist-packages/sklearn/model_selection/_validation.py:680: DataConversionWarning: A column-vector y was passed when a 1d array was expected. Please change the shape of y to (n_samples,), for example using ravel().\n",
            "  estimator.fit(X_train, y_train, **fit_params)\n"
          ]
        },
        {
          "output_type": "stream",
          "name": "stdout",
          "text": [
            "[CV] END bootstrap=True, max_depth=20, max_features=sqrt, min_samples_leaf=4, min_samples_split=10, n_estimators=555; total time=   2.5s\n"
          ]
        },
        {
          "output_type": "stream",
          "name": "stderr",
          "text": [
            "/usr/local/lib/python3.7/dist-packages/sklearn/model_selection/_validation.py:680: DataConversionWarning: A column-vector y was passed when a 1d array was expected. Please change the shape of y to (n_samples,), for example using ravel().\n",
            "  estimator.fit(X_train, y_train, **fit_params)\n"
          ]
        },
        {
          "output_type": "stream",
          "name": "stdout",
          "text": [
            "[CV] END bootstrap=False, max_depth=90, max_features=sqrt, min_samples_leaf=1, min_samples_split=2, n_estimators=288; total time=   2.5s\n"
          ]
        },
        {
          "output_type": "stream",
          "name": "stderr",
          "text": [
            "/usr/local/lib/python3.7/dist-packages/sklearn/model_selection/_validation.py:680: DataConversionWarning: A column-vector y was passed when a 1d array was expected. Please change the shape of y to (n_samples,), for example using ravel().\n",
            "  estimator.fit(X_train, y_train, **fit_params)\n"
          ]
        },
        {
          "output_type": "stream",
          "name": "stdout",
          "text": [
            "[CV] END bootstrap=False, max_depth=90, max_features=sqrt, min_samples_leaf=1, min_samples_split=2, n_estimators=288; total time=   2.5s\n"
          ]
        },
        {
          "output_type": "stream",
          "name": "stderr",
          "text": [
            "/usr/local/lib/python3.7/dist-packages/sklearn/model_selection/_validation.py:680: DataConversionWarning: A column-vector y was passed when a 1d array was expected. Please change the shape of y to (n_samples,), for example using ravel().\n",
            "  estimator.fit(X_train, y_train, **fit_params)\n"
          ]
        },
        {
          "output_type": "stream",
          "name": "stdout",
          "text": [
            "[CV] END bootstrap=False, max_depth=90, max_features=sqrt, min_samples_leaf=1, min_samples_split=2, n_estimators=288; total time=   2.5s\n"
          ]
        },
        {
          "output_type": "stream",
          "name": "stderr",
          "text": [
            "/usr/local/lib/python3.7/dist-packages/sklearn/model_selection/_validation.py:680: DataConversionWarning: A column-vector y was passed when a 1d array was expected. Please change the shape of y to (n_samples,), for example using ravel().\n",
            "  estimator.fit(X_train, y_train, **fit_params)\n"
          ]
        },
        {
          "output_type": "stream",
          "name": "stdout",
          "text": [
            "[CV] END bootstrap=False, max_depth=10, max_features=sqrt, min_samples_leaf=4, min_samples_split=10, n_estimators=1000; total time=   5.1s\n"
          ]
        },
        {
          "output_type": "stream",
          "name": "stderr",
          "text": [
            "/usr/local/lib/python3.7/dist-packages/sklearn/model_selection/_validation.py:680: DataConversionWarning: A column-vector y was passed when a 1d array was expected. Please change the shape of y to (n_samples,), for example using ravel().\n",
            "  estimator.fit(X_train, y_train, **fit_params)\n"
          ]
        },
        {
          "output_type": "stream",
          "name": "stdout",
          "text": [
            "[CV] END bootstrap=False, max_depth=10, max_features=sqrt, min_samples_leaf=4, min_samples_split=10, n_estimators=1000; total time=   5.1s\n"
          ]
        },
        {
          "output_type": "stream",
          "name": "stderr",
          "text": [
            "/usr/local/lib/python3.7/dist-packages/sklearn/model_selection/_validation.py:680: DataConversionWarning: A column-vector y was passed when a 1d array was expected. Please change the shape of y to (n_samples,), for example using ravel().\n",
            "  estimator.fit(X_train, y_train, **fit_params)\n"
          ]
        },
        {
          "output_type": "stream",
          "name": "stdout",
          "text": [
            "[CV] END bootstrap=False, max_depth=10, max_features=sqrt, min_samples_leaf=4, min_samples_split=10, n_estimators=1000; total time=   4.9s\n"
          ]
        },
        {
          "output_type": "stream",
          "name": "stderr",
          "text": [
            "/usr/local/lib/python3.7/dist-packages/sklearn/model_selection/_validation.py:680: DataConversionWarning: A column-vector y was passed when a 1d array was expected. Please change the shape of y to (n_samples,), for example using ravel().\n",
            "  estimator.fit(X_train, y_train, **fit_params)\n"
          ]
        },
        {
          "output_type": "stream",
          "name": "stdout",
          "text": [
            "[CV] END bootstrap=False, max_depth=40, max_features=sqrt, min_samples_leaf=2, min_samples_split=5, n_estimators=200; total time=   1.4s\n"
          ]
        },
        {
          "output_type": "stream",
          "name": "stderr",
          "text": [
            "/usr/local/lib/python3.7/dist-packages/sklearn/model_selection/_validation.py:680: DataConversionWarning: A column-vector y was passed when a 1d array was expected. Please change the shape of y to (n_samples,), for example using ravel().\n",
            "  estimator.fit(X_train, y_train, **fit_params)\n"
          ]
        },
        {
          "output_type": "stream",
          "name": "stdout",
          "text": [
            "[CV] END bootstrap=False, max_depth=40, max_features=sqrt, min_samples_leaf=2, min_samples_split=5, n_estimators=200; total time=   1.3s\n"
          ]
        },
        {
          "output_type": "stream",
          "name": "stderr",
          "text": [
            "/usr/local/lib/python3.7/dist-packages/sklearn/model_selection/_validation.py:680: DataConversionWarning: A column-vector y was passed when a 1d array was expected. Please change the shape of y to (n_samples,), for example using ravel().\n",
            "  estimator.fit(X_train, y_train, **fit_params)\n"
          ]
        },
        {
          "output_type": "stream",
          "name": "stdout",
          "text": [
            "[CV] END bootstrap=False, max_depth=40, max_features=sqrt, min_samples_leaf=2, min_samples_split=5, n_estimators=200; total time=   1.4s\n"
          ]
        },
        {
          "output_type": "stream",
          "name": "stderr",
          "text": [
            "/usr/local/lib/python3.7/dist-packages/sklearn/model_selection/_validation.py:680: DataConversionWarning: A column-vector y was passed when a 1d array was expected. Please change the shape of y to (n_samples,), for example using ravel().\n",
            "  estimator.fit(X_train, y_train, **fit_params)\n"
          ]
        },
        {
          "output_type": "stream",
          "name": "stdout",
          "text": [
            "[CV] END bootstrap=False, max_depth=70, max_features=auto, min_samples_leaf=2, min_samples_split=2, n_estimators=644; total time=   4.4s\n"
          ]
        },
        {
          "output_type": "stream",
          "name": "stderr",
          "text": [
            "/usr/local/lib/python3.7/dist-packages/sklearn/model_selection/_validation.py:680: DataConversionWarning: A column-vector y was passed when a 1d array was expected. Please change the shape of y to (n_samples,), for example using ravel().\n",
            "  estimator.fit(X_train, y_train, **fit_params)\n"
          ]
        },
        {
          "output_type": "stream",
          "name": "stdout",
          "text": [
            "[CV] END bootstrap=False, max_depth=70, max_features=auto, min_samples_leaf=2, min_samples_split=2, n_estimators=644; total time=   4.4s\n"
          ]
        },
        {
          "output_type": "stream",
          "name": "stderr",
          "text": [
            "/usr/local/lib/python3.7/dist-packages/sklearn/model_selection/_validation.py:680: DataConversionWarning: A column-vector y was passed when a 1d array was expected. Please change the shape of y to (n_samples,), for example using ravel().\n",
            "  estimator.fit(X_train, y_train, **fit_params)\n"
          ]
        },
        {
          "output_type": "stream",
          "name": "stdout",
          "text": [
            "[CV] END bootstrap=False, max_depth=70, max_features=auto, min_samples_leaf=2, min_samples_split=2, n_estimators=644; total time=   4.4s\n"
          ]
        },
        {
          "output_type": "stream",
          "name": "stderr",
          "text": [
            "/usr/local/lib/python3.7/dist-packages/sklearn/model_selection/_validation.py:680: DataConversionWarning: A column-vector y was passed when a 1d array was expected. Please change the shape of y to (n_samples,), for example using ravel().\n",
            "  estimator.fit(X_train, y_train, **fit_params)\n"
          ]
        },
        {
          "output_type": "stream",
          "name": "stdout",
          "text": [
            "[CV] END bootstrap=False, max_depth=30, max_features=sqrt, min_samples_leaf=4, min_samples_split=5, n_estimators=733; total time=   4.1s\n"
          ]
        },
        {
          "output_type": "stream",
          "name": "stderr",
          "text": [
            "/usr/local/lib/python3.7/dist-packages/sklearn/model_selection/_validation.py:680: DataConversionWarning: A column-vector y was passed when a 1d array was expected. Please change the shape of y to (n_samples,), for example using ravel().\n",
            "  estimator.fit(X_train, y_train, **fit_params)\n"
          ]
        },
        {
          "output_type": "stream",
          "name": "stdout",
          "text": [
            "[CV] END bootstrap=False, max_depth=30, max_features=sqrt, min_samples_leaf=4, min_samples_split=5, n_estimators=733; total time=   4.0s\n"
          ]
        },
        {
          "output_type": "stream",
          "name": "stderr",
          "text": [
            "/usr/local/lib/python3.7/dist-packages/sklearn/model_selection/_validation.py:680: DataConversionWarning: A column-vector y was passed when a 1d array was expected. Please change the shape of y to (n_samples,), for example using ravel().\n",
            "  estimator.fit(X_train, y_train, **fit_params)\n"
          ]
        },
        {
          "output_type": "stream",
          "name": "stdout",
          "text": [
            "[CV] END bootstrap=False, max_depth=30, max_features=sqrt, min_samples_leaf=4, min_samples_split=5, n_estimators=733; total time=   4.1s\n"
          ]
        },
        {
          "output_type": "stream",
          "name": "stderr",
          "text": [
            "/usr/local/lib/python3.7/dist-packages/sklearn/model_selection/_validation.py:680: DataConversionWarning: A column-vector y was passed when a 1d array was expected. Please change the shape of y to (n_samples,), for example using ravel().\n",
            "  estimator.fit(X_train, y_train, **fit_params)\n"
          ]
        },
        {
          "output_type": "stream",
          "name": "stdout",
          "text": [
            "[CV] END bootstrap=True, max_depth=70, max_features=sqrt, min_samples_leaf=1, min_samples_split=5, n_estimators=1000; total time=   6.0s\n"
          ]
        },
        {
          "output_type": "stream",
          "name": "stderr",
          "text": [
            "/usr/local/lib/python3.7/dist-packages/sklearn/model_selection/_validation.py:680: DataConversionWarning: A column-vector y was passed when a 1d array was expected. Please change the shape of y to (n_samples,), for example using ravel().\n",
            "  estimator.fit(X_train, y_train, **fit_params)\n"
          ]
        },
        {
          "output_type": "stream",
          "name": "stdout",
          "text": [
            "[CV] END bootstrap=True, max_depth=70, max_features=sqrt, min_samples_leaf=1, min_samples_split=5, n_estimators=1000; total time=   6.2s\n"
          ]
        },
        {
          "output_type": "stream",
          "name": "stderr",
          "text": [
            "/usr/local/lib/python3.7/dist-packages/sklearn/model_selection/_validation.py:680: DataConversionWarning: A column-vector y was passed when a 1d array was expected. Please change the shape of y to (n_samples,), for example using ravel().\n",
            "  estimator.fit(X_train, y_train, **fit_params)\n"
          ]
        },
        {
          "output_type": "stream",
          "name": "stdout",
          "text": [
            "[CV] END bootstrap=True, max_depth=70, max_features=sqrt, min_samples_leaf=1, min_samples_split=5, n_estimators=1000; total time=   5.9s\n"
          ]
        },
        {
          "output_type": "stream",
          "name": "stderr",
          "text": [
            "/usr/local/lib/python3.7/dist-packages/sklearn/model_selection/_validation.py:680: DataConversionWarning: A column-vector y was passed when a 1d array was expected. Please change the shape of y to (n_samples,), for example using ravel().\n",
            "  estimator.fit(X_train, y_train, **fit_params)\n"
          ]
        },
        {
          "output_type": "stream",
          "name": "stdout",
          "text": [
            "[CV] END bootstrap=True, max_depth=None, max_features=auto, min_samples_leaf=4, min_samples_split=5, n_estimators=555; total time=   2.6s\n"
          ]
        },
        {
          "output_type": "stream",
          "name": "stderr",
          "text": [
            "/usr/local/lib/python3.7/dist-packages/sklearn/model_selection/_validation.py:680: DataConversionWarning: A column-vector y was passed when a 1d array was expected. Please change the shape of y to (n_samples,), for example using ravel().\n",
            "  estimator.fit(X_train, y_train, **fit_params)\n"
          ]
        },
        {
          "output_type": "stream",
          "name": "stdout",
          "text": [
            "[CV] END bootstrap=True, max_depth=None, max_features=auto, min_samples_leaf=4, min_samples_split=5, n_estimators=555; total time=   2.6s\n"
          ]
        },
        {
          "output_type": "stream",
          "name": "stderr",
          "text": [
            "/usr/local/lib/python3.7/dist-packages/sklearn/model_selection/_validation.py:680: DataConversionWarning: A column-vector y was passed when a 1d array was expected. Please change the shape of y to (n_samples,), for example using ravel().\n",
            "  estimator.fit(X_train, y_train, **fit_params)\n"
          ]
        },
        {
          "output_type": "stream",
          "name": "stdout",
          "text": [
            "[CV] END bootstrap=True, max_depth=None, max_features=auto, min_samples_leaf=4, min_samples_split=5, n_estimators=555; total time=   2.6s\n"
          ]
        },
        {
          "output_type": "stream",
          "name": "stderr",
          "text": [
            "/usr/local/lib/python3.7/dist-packages/sklearn/model_selection/_validation.py:680: DataConversionWarning: A column-vector y was passed when a 1d array was expected. Please change the shape of y to (n_samples,), for example using ravel().\n",
            "  estimator.fit(X_train, y_train, **fit_params)\n"
          ]
        },
        {
          "output_type": "stream",
          "name": "stdout",
          "text": [
            "[CV] END bootstrap=False, max_depth=30, max_features=auto, min_samples_leaf=4, min_samples_split=2, n_estimators=200; total time=   1.2s\n"
          ]
        },
        {
          "output_type": "stream",
          "name": "stderr",
          "text": [
            "/usr/local/lib/python3.7/dist-packages/sklearn/model_selection/_validation.py:680: DataConversionWarning: A column-vector y was passed when a 1d array was expected. Please change the shape of y to (n_samples,), for example using ravel().\n",
            "  estimator.fit(X_train, y_train, **fit_params)\n"
          ]
        },
        {
          "output_type": "stream",
          "name": "stdout",
          "text": [
            "[CV] END bootstrap=False, max_depth=30, max_features=auto, min_samples_leaf=4, min_samples_split=2, n_estimators=200; total time=   1.1s\n"
          ]
        },
        {
          "output_type": "stream",
          "name": "stderr",
          "text": [
            "/usr/local/lib/python3.7/dist-packages/sklearn/model_selection/_validation.py:680: DataConversionWarning: A column-vector y was passed when a 1d array was expected. Please change the shape of y to (n_samples,), for example using ravel().\n",
            "  estimator.fit(X_train, y_train, **fit_params)\n"
          ]
        },
        {
          "output_type": "stream",
          "name": "stdout",
          "text": [
            "[CV] END bootstrap=False, max_depth=30, max_features=auto, min_samples_leaf=4, min_samples_split=2, n_estimators=200; total time=   1.1s\n"
          ]
        },
        {
          "output_type": "stream",
          "name": "stderr",
          "text": [
            "/usr/local/lib/python3.7/dist-packages/sklearn/model_selection/_validation.py:680: DataConversionWarning: A column-vector y was passed when a 1d array was expected. Please change the shape of y to (n_samples,), for example using ravel().\n",
            "  estimator.fit(X_train, y_train, **fit_params)\n"
          ]
        },
        {
          "output_type": "stream",
          "name": "stdout",
          "text": [
            "[CV] END bootstrap=True, max_depth=70, max_features=sqrt, min_samples_leaf=4, min_samples_split=2, n_estimators=288; total time=   1.4s\n"
          ]
        },
        {
          "output_type": "stream",
          "name": "stderr",
          "text": [
            "/usr/local/lib/python3.7/dist-packages/sklearn/model_selection/_validation.py:680: DataConversionWarning: A column-vector y was passed when a 1d array was expected. Please change the shape of y to (n_samples,), for example using ravel().\n",
            "  estimator.fit(X_train, y_train, **fit_params)\n"
          ]
        },
        {
          "output_type": "stream",
          "name": "stdout",
          "text": [
            "[CV] END bootstrap=True, max_depth=70, max_features=sqrt, min_samples_leaf=4, min_samples_split=2, n_estimators=288; total time=   1.4s\n"
          ]
        },
        {
          "output_type": "stream",
          "name": "stderr",
          "text": [
            "/usr/local/lib/python3.7/dist-packages/sklearn/model_selection/_validation.py:680: DataConversionWarning: A column-vector y was passed when a 1d array was expected. Please change the shape of y to (n_samples,), for example using ravel().\n",
            "  estimator.fit(X_train, y_train, **fit_params)\n"
          ]
        },
        {
          "output_type": "stream",
          "name": "stdout",
          "text": [
            "[CV] END bootstrap=True, max_depth=70, max_features=sqrt, min_samples_leaf=4, min_samples_split=2, n_estimators=288; total time=   1.4s\n"
          ]
        },
        {
          "output_type": "stream",
          "name": "stderr",
          "text": [
            "/usr/local/lib/python3.7/dist-packages/sklearn/model_selection/_validation.py:680: DataConversionWarning: A column-vector y was passed when a 1d array was expected. Please change the shape of y to (n_samples,), for example using ravel().\n",
            "  estimator.fit(X_train, y_train, **fit_params)\n"
          ]
        },
        {
          "output_type": "stream",
          "name": "stdout",
          "text": [
            "[CV] END bootstrap=False, max_depth=90, max_features=sqrt, min_samples_leaf=2, min_samples_split=5, n_estimators=822; total time=   5.5s\n"
          ]
        },
        {
          "output_type": "stream",
          "name": "stderr",
          "text": [
            "/usr/local/lib/python3.7/dist-packages/sklearn/model_selection/_validation.py:680: DataConversionWarning: A column-vector y was passed when a 1d array was expected. Please change the shape of y to (n_samples,), for example using ravel().\n",
            "  estimator.fit(X_train, y_train, **fit_params)\n"
          ]
        },
        {
          "output_type": "stream",
          "name": "stdout",
          "text": [
            "[CV] END bootstrap=False, max_depth=90, max_features=sqrt, min_samples_leaf=2, min_samples_split=5, n_estimators=822; total time=   5.5s\n"
          ]
        },
        {
          "output_type": "stream",
          "name": "stderr",
          "text": [
            "/usr/local/lib/python3.7/dist-packages/sklearn/model_selection/_validation.py:680: DataConversionWarning: A column-vector y was passed when a 1d array was expected. Please change the shape of y to (n_samples,), for example using ravel().\n",
            "  estimator.fit(X_train, y_train, **fit_params)\n"
          ]
        },
        {
          "output_type": "stream",
          "name": "stdout",
          "text": [
            "[CV] END bootstrap=False, max_depth=90, max_features=sqrt, min_samples_leaf=2, min_samples_split=5, n_estimators=822; total time=   5.5s\n"
          ]
        },
        {
          "output_type": "stream",
          "name": "stderr",
          "text": [
            "/usr/local/lib/python3.7/dist-packages/sklearn/model_selection/_validation.py:680: DataConversionWarning: A column-vector y was passed when a 1d array was expected. Please change the shape of y to (n_samples,), for example using ravel().\n",
            "  estimator.fit(X_train, y_train, **fit_params)\n"
          ]
        },
        {
          "output_type": "stream",
          "name": "stdout",
          "text": [
            "[CV] END bootstrap=False, max_depth=None, max_features=sqrt, min_samples_leaf=1, min_samples_split=2, n_estimators=200; total time=   1.8s\n"
          ]
        },
        {
          "output_type": "stream",
          "name": "stderr",
          "text": [
            "/usr/local/lib/python3.7/dist-packages/sklearn/model_selection/_validation.py:680: DataConversionWarning: A column-vector y was passed when a 1d array was expected. Please change the shape of y to (n_samples,), for example using ravel().\n",
            "  estimator.fit(X_train, y_train, **fit_params)\n"
          ]
        },
        {
          "output_type": "stream",
          "name": "stdout",
          "text": [
            "[CV] END bootstrap=False, max_depth=None, max_features=sqrt, min_samples_leaf=1, min_samples_split=2, n_estimators=200; total time=   1.8s\n"
          ]
        },
        {
          "output_type": "stream",
          "name": "stderr",
          "text": [
            "/usr/local/lib/python3.7/dist-packages/sklearn/model_selection/_validation.py:680: DataConversionWarning: A column-vector y was passed when a 1d array was expected. Please change the shape of y to (n_samples,), for example using ravel().\n",
            "  estimator.fit(X_train, y_train, **fit_params)\n"
          ]
        },
        {
          "output_type": "stream",
          "name": "stdout",
          "text": [
            "[CV] END bootstrap=False, max_depth=None, max_features=sqrt, min_samples_leaf=1, min_samples_split=2, n_estimators=200; total time=   1.8s\n"
          ]
        },
        {
          "output_type": "stream",
          "name": "stderr",
          "text": [
            "/usr/local/lib/python3.7/dist-packages/sklearn/model_selection/_validation.py:680: DataConversionWarning: A column-vector y was passed when a 1d array was expected. Please change the shape of y to (n_samples,), for example using ravel().\n",
            "  estimator.fit(X_train, y_train, **fit_params)\n"
          ]
        },
        {
          "output_type": "stream",
          "name": "stdout",
          "text": [
            "[CV] END bootstrap=True, max_depth=20, max_features=sqrt, min_samples_leaf=1, min_samples_split=2, n_estimators=200; total time=   1.5s\n"
          ]
        },
        {
          "output_type": "stream",
          "name": "stderr",
          "text": [
            "/usr/local/lib/python3.7/dist-packages/sklearn/model_selection/_validation.py:680: DataConversionWarning: A column-vector y was passed when a 1d array was expected. Please change the shape of y to (n_samples,), for example using ravel().\n",
            "  estimator.fit(X_train, y_train, **fit_params)\n"
          ]
        },
        {
          "output_type": "stream",
          "name": "stdout",
          "text": [
            "[CV] END bootstrap=True, max_depth=20, max_features=sqrt, min_samples_leaf=1, min_samples_split=2, n_estimators=200; total time=   1.6s\n"
          ]
        },
        {
          "output_type": "stream",
          "name": "stderr",
          "text": [
            "/usr/local/lib/python3.7/dist-packages/sklearn/model_selection/_validation.py:680: DataConversionWarning: A column-vector y was passed when a 1d array was expected. Please change the shape of y to (n_samples,), for example using ravel().\n",
            "  estimator.fit(X_train, y_train, **fit_params)\n"
          ]
        },
        {
          "output_type": "stream",
          "name": "stdout",
          "text": [
            "[CV] END bootstrap=True, max_depth=20, max_features=sqrt, min_samples_leaf=1, min_samples_split=2, n_estimators=200; total time=   1.4s\n"
          ]
        },
        {
          "output_type": "stream",
          "name": "stderr",
          "text": [
            "/usr/local/lib/python3.7/dist-packages/sklearn/model_selection/_validation.py:680: DataConversionWarning: A column-vector y was passed when a 1d array was expected. Please change the shape of y to (n_samples,), for example using ravel().\n",
            "  estimator.fit(X_train, y_train, **fit_params)\n"
          ]
        },
        {
          "output_type": "stream",
          "name": "stdout",
          "text": [
            "[CV] END bootstrap=False, max_depth=20, max_features=auto, min_samples_leaf=1, min_samples_split=5, n_estimators=911; total time=   8.1s\n"
          ]
        },
        {
          "output_type": "stream",
          "name": "stderr",
          "text": [
            "/usr/local/lib/python3.7/dist-packages/sklearn/model_selection/_validation.py:680: DataConversionWarning: A column-vector y was passed when a 1d array was expected. Please change the shape of y to (n_samples,), for example using ravel().\n",
            "  estimator.fit(X_train, y_train, **fit_params)\n"
          ]
        },
        {
          "output_type": "stream",
          "name": "stdout",
          "text": [
            "[CV] END bootstrap=False, max_depth=20, max_features=auto, min_samples_leaf=1, min_samples_split=5, n_estimators=911; total time=   6.7s\n"
          ]
        },
        {
          "output_type": "stream",
          "name": "stderr",
          "text": [
            "/usr/local/lib/python3.7/dist-packages/sklearn/model_selection/_validation.py:680: DataConversionWarning: A column-vector y was passed when a 1d array was expected. Please change the shape of y to (n_samples,), for example using ravel().\n",
            "  estimator.fit(X_train, y_train, **fit_params)\n"
          ]
        },
        {
          "output_type": "stream",
          "name": "stdout",
          "text": [
            "[CV] END bootstrap=False, max_depth=20, max_features=auto, min_samples_leaf=1, min_samples_split=5, n_estimators=911; total time=   6.6s\n"
          ]
        },
        {
          "output_type": "stream",
          "name": "stderr",
          "text": [
            "/usr/local/lib/python3.7/dist-packages/sklearn/model_selection/_validation.py:680: DataConversionWarning: A column-vector y was passed when a 1d array was expected. Please change the shape of y to (n_samples,), for example using ravel().\n",
            "  estimator.fit(X_train, y_train, **fit_params)\n"
          ]
        },
        {
          "output_type": "stream",
          "name": "stdout",
          "text": [
            "[CV] END bootstrap=True, max_depth=90, max_features=sqrt, min_samples_leaf=4, min_samples_split=10, n_estimators=200; total time=   0.9s\n"
          ]
        },
        {
          "output_type": "stream",
          "name": "stderr",
          "text": [
            "/usr/local/lib/python3.7/dist-packages/sklearn/model_selection/_validation.py:680: DataConversionWarning: A column-vector y was passed when a 1d array was expected. Please change the shape of y to (n_samples,), for example using ravel().\n",
            "  estimator.fit(X_train, y_train, **fit_params)\n"
          ]
        },
        {
          "output_type": "stream",
          "name": "stdout",
          "text": [
            "[CV] END bootstrap=True, max_depth=90, max_features=sqrt, min_samples_leaf=4, min_samples_split=10, n_estimators=200; total time=   0.9s\n"
          ]
        },
        {
          "output_type": "stream",
          "name": "stderr",
          "text": [
            "/usr/local/lib/python3.7/dist-packages/sklearn/model_selection/_validation.py:680: DataConversionWarning: A column-vector y was passed when a 1d array was expected. Please change the shape of y to (n_samples,), for example using ravel().\n",
            "  estimator.fit(X_train, y_train, **fit_params)\n"
          ]
        },
        {
          "output_type": "stream",
          "name": "stdout",
          "text": [
            "[CV] END bootstrap=True, max_depth=90, max_features=sqrt, min_samples_leaf=4, min_samples_split=10, n_estimators=200; total time=   0.9s\n"
          ]
        },
        {
          "output_type": "stream",
          "name": "stderr",
          "text": [
            "/usr/local/lib/python3.7/dist-packages/sklearn/model_selection/_validation.py:680: DataConversionWarning: A column-vector y was passed when a 1d array was expected. Please change the shape of y to (n_samples,), for example using ravel().\n",
            "  estimator.fit(X_train, y_train, **fit_params)\n"
          ]
        },
        {
          "output_type": "stream",
          "name": "stdout",
          "text": [
            "[CV] END bootstrap=True, max_depth=100, max_features=sqrt, min_samples_leaf=2, min_samples_split=2, n_estimators=644; total time=   3.7s\n"
          ]
        },
        {
          "output_type": "stream",
          "name": "stderr",
          "text": [
            "/usr/local/lib/python3.7/dist-packages/sklearn/model_selection/_validation.py:680: DataConversionWarning: A column-vector y was passed when a 1d array was expected. Please change the shape of y to (n_samples,), for example using ravel().\n",
            "  estimator.fit(X_train, y_train, **fit_params)\n"
          ]
        },
        {
          "output_type": "stream",
          "name": "stdout",
          "text": [
            "[CV] END bootstrap=True, max_depth=100, max_features=sqrt, min_samples_leaf=2, min_samples_split=2, n_estimators=644; total time=   3.7s\n"
          ]
        },
        {
          "output_type": "stream",
          "name": "stderr",
          "text": [
            "/usr/local/lib/python3.7/dist-packages/sklearn/model_selection/_validation.py:680: DataConversionWarning: A column-vector y was passed when a 1d array was expected. Please change the shape of y to (n_samples,), for example using ravel().\n",
            "  estimator.fit(X_train, y_train, **fit_params)\n"
          ]
        },
        {
          "output_type": "stream",
          "name": "stdout",
          "text": [
            "[CV] END bootstrap=True, max_depth=100, max_features=sqrt, min_samples_leaf=2, min_samples_split=2, n_estimators=644; total time=   3.6s\n"
          ]
        },
        {
          "output_type": "stream",
          "name": "stderr",
          "text": [
            "/usr/local/lib/python3.7/dist-packages/sklearn/model_selection/_validation.py:680: DataConversionWarning: A column-vector y was passed when a 1d array was expected. Please change the shape of y to (n_samples,), for example using ravel().\n",
            "  estimator.fit(X_train, y_train, **fit_params)\n"
          ]
        },
        {
          "output_type": "stream",
          "name": "stdout",
          "text": [
            "[CV] END bootstrap=True, max_depth=100, max_features=sqrt, min_samples_leaf=4, min_samples_split=10, n_estimators=644; total time=   3.0s\n"
          ]
        },
        {
          "output_type": "stream",
          "name": "stderr",
          "text": [
            "/usr/local/lib/python3.7/dist-packages/sklearn/model_selection/_validation.py:680: DataConversionWarning: A column-vector y was passed when a 1d array was expected. Please change the shape of y to (n_samples,), for example using ravel().\n",
            "  estimator.fit(X_train, y_train, **fit_params)\n"
          ]
        },
        {
          "output_type": "stream",
          "name": "stdout",
          "text": [
            "[CV] END bootstrap=True, max_depth=100, max_features=sqrt, min_samples_leaf=4, min_samples_split=10, n_estimators=644; total time=   3.0s\n"
          ]
        },
        {
          "output_type": "stream",
          "name": "stderr",
          "text": [
            "/usr/local/lib/python3.7/dist-packages/sklearn/model_selection/_validation.py:680: DataConversionWarning: A column-vector y was passed when a 1d array was expected. Please change the shape of y to (n_samples,), for example using ravel().\n",
            "  estimator.fit(X_train, y_train, **fit_params)\n"
          ]
        },
        {
          "output_type": "stream",
          "name": "stdout",
          "text": [
            "[CV] END bootstrap=True, max_depth=100, max_features=sqrt, min_samples_leaf=4, min_samples_split=10, n_estimators=644; total time=   4.2s\n"
          ]
        },
        {
          "output_type": "stream",
          "name": "stderr",
          "text": [
            "/usr/local/lib/python3.7/dist-packages/sklearn/model_selection/_validation.py:680: DataConversionWarning: A column-vector y was passed when a 1d array was expected. Please change the shape of y to (n_samples,), for example using ravel().\n",
            "  estimator.fit(X_train, y_train, **fit_params)\n"
          ]
        },
        {
          "output_type": "stream",
          "name": "stdout",
          "text": [
            "[CV] END bootstrap=True, max_depth=20, max_features=auto, min_samples_leaf=2, min_samples_split=2, n_estimators=288; total time=   1.6s\n"
          ]
        },
        {
          "output_type": "stream",
          "name": "stderr",
          "text": [
            "/usr/local/lib/python3.7/dist-packages/sklearn/model_selection/_validation.py:680: DataConversionWarning: A column-vector y was passed when a 1d array was expected. Please change the shape of y to (n_samples,), for example using ravel().\n",
            "  estimator.fit(X_train, y_train, **fit_params)\n"
          ]
        },
        {
          "output_type": "stream",
          "name": "stdout",
          "text": [
            "[CV] END bootstrap=True, max_depth=20, max_features=auto, min_samples_leaf=2, min_samples_split=2, n_estimators=288; total time=   1.7s\n"
          ]
        },
        {
          "output_type": "stream",
          "name": "stderr",
          "text": [
            "/usr/local/lib/python3.7/dist-packages/sklearn/model_selection/_validation.py:680: DataConversionWarning: A column-vector y was passed when a 1d array was expected. Please change the shape of y to (n_samples,), for example using ravel().\n",
            "  estimator.fit(X_train, y_train, **fit_params)\n"
          ]
        },
        {
          "output_type": "stream",
          "name": "stdout",
          "text": [
            "[CV] END bootstrap=True, max_depth=20, max_features=auto, min_samples_leaf=2, min_samples_split=2, n_estimators=288; total time=   1.6s\n"
          ]
        },
        {
          "output_type": "stream",
          "name": "stderr",
          "text": [
            "/usr/local/lib/python3.7/dist-packages/sklearn/model_selection/_validation.py:680: DataConversionWarning: A column-vector y was passed when a 1d array was expected. Please change the shape of y to (n_samples,), for example using ravel().\n",
            "  estimator.fit(X_train, y_train, **fit_params)\n"
          ]
        },
        {
          "output_type": "stream",
          "name": "stdout",
          "text": [
            "[CV] END bootstrap=False, max_depth=80, max_features=sqrt, min_samples_leaf=2, min_samples_split=5, n_estimators=822; total time=   5.5s\n"
          ]
        },
        {
          "output_type": "stream",
          "name": "stderr",
          "text": [
            "/usr/local/lib/python3.7/dist-packages/sklearn/model_selection/_validation.py:680: DataConversionWarning: A column-vector y was passed when a 1d array was expected. Please change the shape of y to (n_samples,), for example using ravel().\n",
            "  estimator.fit(X_train, y_train, **fit_params)\n"
          ]
        },
        {
          "output_type": "stream",
          "name": "stdout",
          "text": [
            "[CV] END bootstrap=False, max_depth=80, max_features=sqrt, min_samples_leaf=2, min_samples_split=5, n_estimators=822; total time=   5.5s\n"
          ]
        },
        {
          "output_type": "stream",
          "name": "stderr",
          "text": [
            "/usr/local/lib/python3.7/dist-packages/sklearn/model_selection/_validation.py:680: DataConversionWarning: A column-vector y was passed when a 1d array was expected. Please change the shape of y to (n_samples,), for example using ravel().\n",
            "  estimator.fit(X_train, y_train, **fit_params)\n"
          ]
        },
        {
          "output_type": "stream",
          "name": "stdout",
          "text": [
            "[CV] END bootstrap=False, max_depth=80, max_features=sqrt, min_samples_leaf=2, min_samples_split=5, n_estimators=822; total time=   5.5s\n"
          ]
        },
        {
          "output_type": "stream",
          "name": "stderr",
          "text": [
            "/usr/local/lib/python3.7/dist-packages/sklearn/model_selection/_validation.py:680: DataConversionWarning: A column-vector y was passed when a 1d array was expected. Please change the shape of y to (n_samples,), for example using ravel().\n",
            "  estimator.fit(X_train, y_train, **fit_params)\n"
          ]
        },
        {
          "output_type": "stream",
          "name": "stdout",
          "text": [
            "[CV] END bootstrap=True, max_depth=100, max_features=auto, min_samples_leaf=1, min_samples_split=10, n_estimators=288; total time=   1.6s\n"
          ]
        },
        {
          "output_type": "stream",
          "name": "stderr",
          "text": [
            "/usr/local/lib/python3.7/dist-packages/sklearn/model_selection/_validation.py:680: DataConversionWarning: A column-vector y was passed when a 1d array was expected. Please change the shape of y to (n_samples,), for example using ravel().\n",
            "  estimator.fit(X_train, y_train, **fit_params)\n"
          ]
        },
        {
          "output_type": "stream",
          "name": "stdout",
          "text": [
            "[CV] END bootstrap=True, max_depth=100, max_features=auto, min_samples_leaf=1, min_samples_split=10, n_estimators=288; total time=   1.5s\n"
          ]
        },
        {
          "output_type": "stream",
          "name": "stderr",
          "text": [
            "/usr/local/lib/python3.7/dist-packages/sklearn/model_selection/_validation.py:680: DataConversionWarning: A column-vector y was passed when a 1d array was expected. Please change the shape of y to (n_samples,), for example using ravel().\n",
            "  estimator.fit(X_train, y_train, **fit_params)\n"
          ]
        },
        {
          "output_type": "stream",
          "name": "stdout",
          "text": [
            "[CV] END bootstrap=True, max_depth=100, max_features=auto, min_samples_leaf=1, min_samples_split=10, n_estimators=288; total time=   1.5s\n"
          ]
        },
        {
          "output_type": "stream",
          "name": "stderr",
          "text": [
            "/usr/local/lib/python3.7/dist-packages/sklearn/model_selection/_validation.py:680: DataConversionWarning: A column-vector y was passed when a 1d array was expected. Please change the shape of y to (n_samples,), for example using ravel().\n",
            "  estimator.fit(X_train, y_train, **fit_params)\n"
          ]
        },
        {
          "output_type": "stream",
          "name": "stdout",
          "text": [
            "[CV] END bootstrap=False, max_depth=70, max_features=auto, min_samples_leaf=4, min_samples_split=2, n_estimators=1000; total time=   5.8s\n"
          ]
        },
        {
          "output_type": "stream",
          "name": "stderr",
          "text": [
            "/usr/local/lib/python3.7/dist-packages/sklearn/model_selection/_validation.py:680: DataConversionWarning: A column-vector y was passed when a 1d array was expected. Please change the shape of y to (n_samples,), for example using ravel().\n",
            "  estimator.fit(X_train, y_train, **fit_params)\n"
          ]
        },
        {
          "output_type": "stream",
          "name": "stdout",
          "text": [
            "[CV] END bootstrap=False, max_depth=70, max_features=auto, min_samples_leaf=4, min_samples_split=2, n_estimators=1000; total time=   5.6s\n"
          ]
        },
        {
          "output_type": "stream",
          "name": "stderr",
          "text": [
            "/usr/local/lib/python3.7/dist-packages/sklearn/model_selection/_validation.py:680: DataConversionWarning: A column-vector y was passed when a 1d array was expected. Please change the shape of y to (n_samples,), for example using ravel().\n",
            "  estimator.fit(X_train, y_train, **fit_params)\n"
          ]
        },
        {
          "output_type": "stream",
          "name": "stdout",
          "text": [
            "[CV] END bootstrap=False, max_depth=70, max_features=auto, min_samples_leaf=4, min_samples_split=2, n_estimators=1000; total time=   5.5s\n"
          ]
        },
        {
          "output_type": "stream",
          "name": "stderr",
          "text": [
            "/usr/local/lib/python3.7/dist-packages/sklearn/model_selection/_validation.py:680: DataConversionWarning: A column-vector y was passed when a 1d array was expected. Please change the shape of y to (n_samples,), for example using ravel().\n",
            "  estimator.fit(X_train, y_train, **fit_params)\n"
          ]
        },
        {
          "output_type": "stream",
          "name": "stdout",
          "text": [
            "[CV] END bootstrap=True, max_depth=10, max_features=auto, min_samples_leaf=1, min_samples_split=5, n_estimators=555; total time=   2.8s\n"
          ]
        },
        {
          "output_type": "stream",
          "name": "stderr",
          "text": [
            "/usr/local/lib/python3.7/dist-packages/sklearn/model_selection/_validation.py:680: DataConversionWarning: A column-vector y was passed when a 1d array was expected. Please change the shape of y to (n_samples,), for example using ravel().\n",
            "  estimator.fit(X_train, y_train, **fit_params)\n"
          ]
        },
        {
          "output_type": "stream",
          "name": "stdout",
          "text": [
            "[CV] END bootstrap=True, max_depth=10, max_features=auto, min_samples_leaf=1, min_samples_split=5, n_estimators=555; total time=   2.8s\n"
          ]
        },
        {
          "output_type": "stream",
          "name": "stderr",
          "text": [
            "/usr/local/lib/python3.7/dist-packages/sklearn/model_selection/_validation.py:680: DataConversionWarning: A column-vector y was passed when a 1d array was expected. Please change the shape of y to (n_samples,), for example using ravel().\n",
            "  estimator.fit(X_train, y_train, **fit_params)\n"
          ]
        },
        {
          "output_type": "stream",
          "name": "stdout",
          "text": [
            "[CV] END bootstrap=True, max_depth=10, max_features=auto, min_samples_leaf=1, min_samples_split=5, n_estimators=555; total time=   2.7s\n"
          ]
        },
        {
          "output_type": "stream",
          "name": "stderr",
          "text": [
            "/usr/local/lib/python3.7/dist-packages/sklearn/model_selection/_validation.py:680: DataConversionWarning: A column-vector y was passed when a 1d array was expected. Please change the shape of y to (n_samples,), for example using ravel().\n",
            "  estimator.fit(X_train, y_train, **fit_params)\n"
          ]
        },
        {
          "output_type": "stream",
          "name": "stdout",
          "text": [
            "[CV] END bootstrap=False, max_depth=50, max_features=sqrt, min_samples_leaf=2, min_samples_split=2, n_estimators=200; total time=   1.4s\n"
          ]
        },
        {
          "output_type": "stream",
          "name": "stderr",
          "text": [
            "/usr/local/lib/python3.7/dist-packages/sklearn/model_selection/_validation.py:680: DataConversionWarning: A column-vector y was passed when a 1d array was expected. Please change the shape of y to (n_samples,), for example using ravel().\n",
            "  estimator.fit(X_train, y_train, **fit_params)\n"
          ]
        },
        {
          "output_type": "stream",
          "name": "stdout",
          "text": [
            "[CV] END bootstrap=False, max_depth=50, max_features=sqrt, min_samples_leaf=2, min_samples_split=2, n_estimators=200; total time=   1.4s\n"
          ]
        },
        {
          "output_type": "stream",
          "name": "stderr",
          "text": [
            "/usr/local/lib/python3.7/dist-packages/sklearn/model_selection/_validation.py:680: DataConversionWarning: A column-vector y was passed when a 1d array was expected. Please change the shape of y to (n_samples,), for example using ravel().\n",
            "  estimator.fit(X_train, y_train, **fit_params)\n"
          ]
        },
        {
          "output_type": "stream",
          "name": "stdout",
          "text": [
            "[CV] END bootstrap=False, max_depth=50, max_features=sqrt, min_samples_leaf=2, min_samples_split=2, n_estimators=200; total time=   1.4s\n"
          ]
        },
        {
          "output_type": "stream",
          "name": "stderr",
          "text": [
            "/usr/local/lib/python3.7/dist-packages/sklearn/model_selection/_validation.py:680: DataConversionWarning: A column-vector y was passed when a 1d array was expected. Please change the shape of y to (n_samples,), for example using ravel().\n",
            "  estimator.fit(X_train, y_train, **fit_params)\n"
          ]
        },
        {
          "output_type": "stream",
          "name": "stdout",
          "text": [
            "[CV] END bootstrap=True, max_depth=None, max_features=sqrt, min_samples_leaf=1, min_samples_split=10, n_estimators=377; total time=   2.0s\n"
          ]
        },
        {
          "output_type": "stream",
          "name": "stderr",
          "text": [
            "/usr/local/lib/python3.7/dist-packages/sklearn/model_selection/_validation.py:680: DataConversionWarning: A column-vector y was passed when a 1d array was expected. Please change the shape of y to (n_samples,), for example using ravel().\n",
            "  estimator.fit(X_train, y_train, **fit_params)\n"
          ]
        },
        {
          "output_type": "stream",
          "name": "stdout",
          "text": [
            "[CV] END bootstrap=True, max_depth=None, max_features=sqrt, min_samples_leaf=1, min_samples_split=10, n_estimators=377; total time=   2.0s\n"
          ]
        },
        {
          "output_type": "stream",
          "name": "stderr",
          "text": [
            "/usr/local/lib/python3.7/dist-packages/sklearn/model_selection/_validation.py:680: DataConversionWarning: A column-vector y was passed when a 1d array was expected. Please change the shape of y to (n_samples,), for example using ravel().\n",
            "  estimator.fit(X_train, y_train, **fit_params)\n"
          ]
        },
        {
          "output_type": "stream",
          "name": "stdout",
          "text": [
            "[CV] END bootstrap=True, max_depth=None, max_features=sqrt, min_samples_leaf=1, min_samples_split=10, n_estimators=377; total time=   2.0s\n"
          ]
        },
        {
          "output_type": "stream",
          "name": "stderr",
          "text": [
            "/usr/local/lib/python3.7/dist-packages/sklearn/model_selection/_validation.py:680: DataConversionWarning: A column-vector y was passed when a 1d array was expected. Please change the shape of y to (n_samples,), for example using ravel().\n",
            "  estimator.fit(X_train, y_train, **fit_params)\n"
          ]
        },
        {
          "output_type": "stream",
          "name": "stdout",
          "text": [
            "[CV] END bootstrap=False, max_depth=30, max_features=sqrt, min_samples_leaf=4, min_samples_split=5, n_estimators=200; total time=   1.2s\n"
          ]
        },
        {
          "output_type": "stream",
          "name": "stderr",
          "text": [
            "/usr/local/lib/python3.7/dist-packages/sklearn/model_selection/_validation.py:680: DataConversionWarning: A column-vector y was passed when a 1d array was expected. Please change the shape of y to (n_samples,), for example using ravel().\n",
            "  estimator.fit(X_train, y_train, **fit_params)\n"
          ]
        },
        {
          "output_type": "stream",
          "name": "stdout",
          "text": [
            "[CV] END bootstrap=False, max_depth=30, max_features=sqrt, min_samples_leaf=4, min_samples_split=5, n_estimators=200; total time=   1.2s\n"
          ]
        },
        {
          "output_type": "stream",
          "name": "stderr",
          "text": [
            "/usr/local/lib/python3.7/dist-packages/sklearn/model_selection/_validation.py:680: DataConversionWarning: A column-vector y was passed when a 1d array was expected. Please change the shape of y to (n_samples,), for example using ravel().\n",
            "  estimator.fit(X_train, y_train, **fit_params)\n"
          ]
        },
        {
          "output_type": "stream",
          "name": "stdout",
          "text": [
            "[CV] END bootstrap=False, max_depth=30, max_features=sqrt, min_samples_leaf=4, min_samples_split=5, n_estimators=200; total time=   1.1s\n"
          ]
        },
        {
          "output_type": "stream",
          "name": "stderr",
          "text": [
            "/usr/local/lib/python3.7/dist-packages/sklearn/model_selection/_validation.py:680: DataConversionWarning: A column-vector y was passed when a 1d array was expected. Please change the shape of y to (n_samples,), for example using ravel().\n",
            "  estimator.fit(X_train, y_train, **fit_params)\n"
          ]
        },
        {
          "output_type": "stream",
          "name": "stdout",
          "text": [
            "[CV] END bootstrap=False, max_depth=20, max_features=sqrt, min_samples_leaf=1, min_samples_split=5, n_estimators=911; total time=   6.9s\n"
          ]
        },
        {
          "output_type": "stream",
          "name": "stderr",
          "text": [
            "/usr/local/lib/python3.7/dist-packages/sklearn/model_selection/_validation.py:680: DataConversionWarning: A column-vector y was passed when a 1d array was expected. Please change the shape of y to (n_samples,), for example using ravel().\n",
            "  estimator.fit(X_train, y_train, **fit_params)\n"
          ]
        },
        {
          "output_type": "stream",
          "name": "stdout",
          "text": [
            "[CV] END bootstrap=False, max_depth=20, max_features=sqrt, min_samples_leaf=1, min_samples_split=5, n_estimators=911; total time=  10.0s\n"
          ]
        },
        {
          "output_type": "stream",
          "name": "stderr",
          "text": [
            "/usr/local/lib/python3.7/dist-packages/sklearn/model_selection/_validation.py:680: DataConversionWarning: A column-vector y was passed when a 1d array was expected. Please change the shape of y to (n_samples,), for example using ravel().\n",
            "  estimator.fit(X_train, y_train, **fit_params)\n"
          ]
        },
        {
          "output_type": "stream",
          "name": "stdout",
          "text": [
            "[CV] END bootstrap=False, max_depth=20, max_features=sqrt, min_samples_leaf=1, min_samples_split=5, n_estimators=911; total time=   6.6s\n"
          ]
        },
        {
          "output_type": "stream",
          "name": "stderr",
          "text": [
            "/usr/local/lib/python3.7/dist-packages/sklearn/model_selection/_validation.py:680: DataConversionWarning: A column-vector y was passed when a 1d array was expected. Please change the shape of y to (n_samples,), for example using ravel().\n",
            "  estimator.fit(X_train, y_train, **fit_params)\n"
          ]
        },
        {
          "output_type": "stream",
          "name": "stdout",
          "text": [
            "[CV] END bootstrap=False, max_depth=80, max_features=sqrt, min_samples_leaf=2, min_samples_split=2, n_estimators=288; total time=   2.0s\n"
          ]
        },
        {
          "output_type": "stream",
          "name": "stderr",
          "text": [
            "/usr/local/lib/python3.7/dist-packages/sklearn/model_selection/_validation.py:680: DataConversionWarning: A column-vector y was passed when a 1d array was expected. Please change the shape of y to (n_samples,), for example using ravel().\n",
            "  estimator.fit(X_train, y_train, **fit_params)\n"
          ]
        },
        {
          "output_type": "stream",
          "name": "stdout",
          "text": [
            "[CV] END bootstrap=False, max_depth=80, max_features=sqrt, min_samples_leaf=2, min_samples_split=2, n_estimators=288; total time=   2.0s\n"
          ]
        },
        {
          "output_type": "stream",
          "name": "stderr",
          "text": [
            "/usr/local/lib/python3.7/dist-packages/sklearn/model_selection/_validation.py:680: DataConversionWarning: A column-vector y was passed when a 1d array was expected. Please change the shape of y to (n_samples,), for example using ravel().\n",
            "  estimator.fit(X_train, y_train, **fit_params)\n"
          ]
        },
        {
          "output_type": "stream",
          "name": "stdout",
          "text": [
            "[CV] END bootstrap=False, max_depth=80, max_features=sqrt, min_samples_leaf=2, min_samples_split=2, n_estimators=288; total time=   2.0s\n"
          ]
        },
        {
          "output_type": "stream",
          "name": "stderr",
          "text": [
            "/usr/local/lib/python3.7/dist-packages/sklearn/model_selection/_search.py:926: DataConversionWarning: A column-vector y was passed when a 1d array was expected. Please change the shape of y to (n_samples,), for example using ravel().\n",
            "  self.best_estimator_.fit(X, y, **fit_params)\n"
          ]
        },
        {
          "output_type": "execute_result",
          "data": {
            "text/plain": [
              "RandomizedSearchCV(cv=3, estimator=RandomForestClassifier(), n_iter=40,\n",
              "                   param_distributions={'bootstrap': [True, False],\n",
              "                                        'max_depth': [10, 20, 30, 40, 50, 60,\n",
              "                                                      70, 80, 90, 100, None],\n",
              "                                        'max_features': ['auto', 'sqrt'],\n",
              "                                        'min_samples_leaf': [1, 2, 4],\n",
              "                                        'min_samples_split': [2, 5, 10],\n",
              "                                        'n_estimators': [200, 288, 377, 466,\n",
              "                                                         555, 644, 733, 822,\n",
              "                                                         911, 1000]},\n",
              "                   random_state=42, scoring='neg_mean_absolute_error',\n",
              "                   verbose=2)"
            ]
          },
          "metadata": {},
          "execution_count": 84
        }
      ],
      "source": [
        "rf = RandomForestClassifier()\n",
        "rf_random = RandomizedSearchCV(estimator=rf, param_distributions=random_grid,\n",
        "                              n_iter = 40, scoring='neg_mean_absolute_error', \n",
        "                              cv = 3, verbose=2, random_state=42)\n",
        "\n",
        "# Fit the random search model\n",
        "rf_random.fit(X_train[:2000], y_train[:2000])"
      ]
    },
    {
      "cell_type": "code",
      "execution_count": null,
      "metadata": {
        "id": "QCpzpLvPvomU"
      },
      "outputs": [],
      "source": [
        "best_RF_model = rf_random.best_estimator_"
      ]
    },
    {
      "cell_type": "code",
      "execution_count": null,
      "metadata": {
        "id": "zFxtitajv0Oj"
      },
      "outputs": [],
      "source": [
        "def evaluate(model, test_features, test_labels):\n",
        "    predictions = model.predict(test_features)\n",
        "    errors = abs(predictions - test_labels)\n",
        "    mape = 100 * np.mean(errors / test_labels)\n",
        "    score = model.predict_proba(X_test)\n",
        "    accuracy = 100 - mape\n",
        "    print('Model Performance')\n",
        "    print('Average Error: {:0.4f} degrees.'.format(np.mean(errors)))\n",
        "    print('Accuracy = {:0.2f}%.'.format(accuracy))"
      ]
    },
    {
      "cell_type": "code",
      "execution_count": null,
      "metadata": {
        "id": "9C_QePP3wwJ7"
      },
      "outputs": [],
      "source": [
        "best_RF_model.get_params()"
      ]
    },
    {
      "cell_type": "code",
      "execution_count": null,
      "metadata": {
        "id": "kgpQ3XlA92_F"
      },
      "outputs": [],
      "source": [
        "def RF(X_train, y_train, X_test, y_test):\n",
        "  rfc = RandomForestClassifier(bootstrap=True,\n",
        "      ccp_alpha = 0.0,\n",
        "      class_weight= None,\n",
        "      criterion= 'gini',\n",
        "      max_depth=15, #30\n",
        "      max_features= 'auto',\n",
        "      max_leaf_nodes= None,\n",
        "      max_samples= None,\n",
        "      min_impurity_decrease =0.0,\n",
        "      min_samples_leaf= 2,\n",
        "      min_samples_split =5,\n",
        "      min_weight_fraction_leaf= 0.0,\n",
        "      n_estimators= 300, #1800\n",
        "      n_jobs= None,\n",
        "      oob_score= False,\n",
        "      random_state= None,\n",
        "      verbose= 0,\n",
        "      warm_start= False)\n",
        "  ss = StandardScaler()\n",
        "  X_train_scaled = ss.fit_transform(X_train)\n",
        "  X_test_scaled = ss.transform(X_test)\n",
        "  y_train = np.array(y_train)\n",
        "  rfc.fit(X_train_scaled, y_train)\n",
        "  print(\"Random Forest Accuracy = \", rfc.score(X_train_scaled, y_train)*100, \"%\")\n",
        "  print(\"Random Forest Accuracy = \", rfc.score(X_test_scaled, y_test)*100, \"%\")\n"
      ]
    },
    {
      "cell_type": "code",
      "execution_count": null,
      "metadata": {
        "id": "t1dtiAbwHWh6",
        "colab": {
          "base_uri": "https://localhost:8080/"
        },
        "outputId": "c0b93305-acc7-4fc8-da0a-e22cee28f901"
      },
      "outputs": [
        {
          "output_type": "stream",
          "name": "stdout",
          "text": [
            "Score train = 0.7452356\n",
            "Score test = 0.716318\n"
          ]
        }
      ],
      "source": [
        "# RF(X_train, y_train, X_test, y_test)  \n",
        "print(\"Score train = 0.7452356\")\n",
        "print(\"Score test = 0.716318\")"
      ]
    },
    {
      "cell_type": "code",
      "source": [
        "rfc = RandomForestClassifier()\n",
        "rfc.fit(X_train, y_train)\n",
        "print(\"Random Forest Accuracy = \", rfc.score(X_train, y_train)*100, \"%\")\n",
        "print(\"Random Forest Accuracy = \", rfc.score(X_test, y_test)*100, \"%\")"
      ],
      "metadata": {
        "id": "fNAqvKBAC77w"
      },
      "execution_count": null,
      "outputs": []
    },
    {
      "cell_type": "markdown",
      "metadata": {
        "id": "TCwnSUibKBxw"
      },
      "source": [
        "# **--- SVM ---**"
      ]
    },
    {
      "cell_type": "code",
      "execution_count": null,
      "metadata": {
        "id": "EVT5_Gk4KBAj"
      },
      "outputs": [],
      "source": [
        "param_grid = {'C': [0.1, 1, 10, 100, 1000],\n",
        "              'gamma': [1, 0.1, 0.01, 0.001, 0.0001],\n",
        "              'kernel': ['rbf']}\n",
        " \n",
        "grid_svc = GridSearchCV(SVC(), param_grid, refit = True, verbose = 3)\n",
        " \n",
        "# fitting the model for grid search\n",
        "grid_svc.fit(X_train[:3000], y_train[:3000])"
      ]
    },
    {
      "cell_type": "code",
      "execution_count": null,
      "metadata": {
        "id": "tzeT_PzrSgcZ"
      },
      "outputs": [],
      "source": [
        "grid_svc.best_estimator_.get_params()"
      ]
    },
    {
      "cell_type": "code",
      "execution_count": 67,
      "metadata": {
        "id": "hOmyrQubNPZY"
      },
      "outputs": [],
      "source": [
        "def SVM(X_train, y_train, X_test, y_test):\n",
        "    #Create a svm Classifier\n",
        "    clf = SVC(C=0.1,\n",
        "        break_ties= False,\n",
        "        cache_size= 200,\n",
        "        class_weight= None,\n",
        "        coef0= 0.0,\n",
        "        decision_function_shape= 'ovr',\n",
        "        degree= 3,\n",
        "        gamma= 1,\n",
        "        kernel= 'rbf',\n",
        "        max_iter= -1,\n",
        "        probability= False,\n",
        "        random_state= None,\n",
        "        shrinking= True,\n",
        "        tol= 0.001,\n",
        "        verbose= False)\n",
        "    clf.fit(X_train, y_train)\n",
        "    y_pred = clf.predict(X_test)\n",
        "    score = clf.score(X_train, y_train)\n",
        "    print(\"SVM prediction score = \", score)\n",
        "    score = clf.score(X_test, y_test)\n",
        "    print(\"SVM prediction test score = \", score)\n",
        "    return clf"
      ]
    },
    {
      "cell_type": "code",
      "execution_count": 68,
      "metadata": {
        "id": "XM6mrAAWTGeo",
        "colab": {
          "base_uri": "https://localhost:8080/"
        },
        "outputId": "b188daef-c919-4277-e40b-a3b5faa35275"
      },
      "outputs": [
        {
          "output_type": "stream",
          "name": "stdout",
          "text": [
            "Accuracy: 0.3156347\n"
          ]
        }
      ],
      "source": [
        "SVM_model = SVM(X_train, y_train, X_test, y_test)"
      ]
    },
    {
      "cell_type": "markdown",
      "source": [
        "# **DT**"
      ],
      "metadata": {
        "id": "_eEWOEC_wNm4"
      }
    },
    {
      "cell_type": "code",
      "source": [
        "def DT(X_train, y_train, X_test, y_test):\n",
        "  clf = DecisionTreeClassifier()\n",
        "  clf = clf.fit(X_train,y_train)\n",
        "  y_pred = clf.predict(X_test)\n",
        "  print(\"Accuracy:\",metrics.accuracy_score(y_test, y_pred))"
      ],
      "metadata": {
        "id": "bDgwgwSUwPRV"
      },
      "execution_count": null,
      "outputs": []
    },
    {
      "cell_type": "code",
      "source": [
        "DT_model = DT(X_train, y_train, X_test, y_test)"
      ],
      "metadata": {
        "colab": {
          "base_uri": "https://localhost:8080/"
        },
        "id": "Lc4jCkCjxweg",
        "outputId": "c826a116-0169-4b78-ec71-61ad73b7597b"
      },
      "execution_count": null,
      "outputs": [
        {
          "output_type": "stream",
          "name": "stdout",
          "text": [
            "Accuracy: 0.26412\n"
          ]
        }
      ]
    },
    {
      "cell_type": "markdown",
      "source": [
        "# **LR**"
      ],
      "metadata": {
        "id": "3z2UZ9yEwSr4"
      }
    },
    {
      "cell_type": "code",
      "source": [
        "def LR(X_train, y_train, X_test, y_test):\n",
        "  clf = LogisticRegression()\n",
        "  clf = clf.fit(X_train,y_train)\n",
        "  y_pred = clf.predict(X_test)\n",
        "  print(\"Accuracy:\",metrics.accuracy_score(y_test, y_pred))"
      ],
      "metadata": {
        "id": "-PwP3j_IwVU5"
      },
      "execution_count": null,
      "outputs": []
    },
    {
      "cell_type": "code",
      "source": [
        "LR_model = LR(X_train, y_train, X_test, y_test)"
      ],
      "metadata": {
        "colab": {
          "base_uri": "https://localhost:8080/"
        },
        "id": "FEJCsnkpwXKX",
        "outputId": "f6d1dff6-9ce9-4119-bfa3-d4fbc9837304"
      },
      "execution_count": null,
      "outputs": [
        {
          "output_type": "stream",
          "name": "stdout",
          "text": [
            "Accuracy: 0.34235\n"
          ]
        }
      ]
    },
    {
      "cell_type": "markdown",
      "source": [
        "# **NB**"
      ],
      "metadata": {
        "id": "W6t7Ta-QwXm3"
      }
    },
    {
      "cell_type": "code",
      "source": [
        "def NB(X_train, y_train, X_test, y_test):\n",
        "  clf = LogisticRegression()\n",
        "  clf = clf.fit(X_train,y_train)\n",
        "  y_pred = clf.predict(X_test)\n",
        "  print(\"Accuracy:\",metrics.accuracy_score(y_test, y_pred))"
      ],
      "metadata": {
        "id": "c7r7Vao6yMO_"
      },
      "execution_count": 58,
      "outputs": []
    },
    {
      "cell_type": "code",
      "source": [
        "NB_model = NB(X_train, y_train, X_test, y_test)"
      ],
      "metadata": {
        "id": "ekLvEkzXyMmH",
        "colab": {
          "base_uri": "https://localhost:8080/"
        },
        "outputId": "ae6f702b-d8dc-40ea-c61a-82a88da52643"
      },
      "execution_count": 59,
      "outputs": [
        {
          "output_type": "stream",
          "name": "stdout",
          "text": [
            "Accuracy:0.262456\n"
          ]
        }
      ]
    },
    {
      "cell_type": "markdown",
      "source": [
        "# **--- NN ---**"
      ],
      "metadata": {
        "id": "wULFGXokvIg9"
      }
    },
    {
      "cell_type": "code",
      "source": [
        "\n",
        "def NN(X_train, X_test, y_train, y_test, loss= 'poisson'):\n",
        "        # prepare dataset with input and output scalers, can be none\n",
        "        def get_dataset(input_scaler, output_scaler):\n",
        "\n",
        "            trainX, testX = X_train, X_test\n",
        "            trainy, testy = y_train, y_test\n",
        "            # scale inputs\n",
        "            if input_scaler is not None:\n",
        "                # fit scaler\n",
        "                input_scaler.fit(trainX)\n",
        "                # transform training dataset\n",
        "                trainX = input_scaler.transform(trainX)\n",
        "                testX = input_scaler.transform(testX)\n",
        "            if output_scaler is not None:\n",
        "                # reshape 1d arrays to 2d arrays\n",
        "                trainy = trainy.reshape(len(trainy), 1)\n",
        "                testy = testy.reshape(len(testy), 1)\n",
        "                # fit scaler on training dataset\n",
        "                output_scaler.fit(trainy)\n",
        "                # transform training dataset\n",
        "                trainy = output_scaler.transform(trainy)\n",
        "                testy = output_scaler.transform(testy)\n",
        "            return trainX, trainy, testX, testy\n",
        "\n",
        "        def denormalize(main_data, normal_data, scaler):\n",
        "\n",
        "            main_data = main_data.reshape(-1, 1)\n",
        "            normal_data = normal_data.reshape(-1, 1)\n",
        "            # scaleObject = StandardScaler()\n",
        "            scaler.fit_transform(main_data)\n",
        "            denormalizedData = scaler.inverse_transform(normal_data)\n",
        "\n",
        "            return denormalizedData\n",
        "\n",
        "        trainX, trainy, testX, testy = get_dataset(MinMaxScaler(), MinMaxScaler())\n",
        "        neurons = (trainX.shape[1]) // 2 + 1\n",
        "        print(neurons)\n",
        "        \n",
        "        NeuralNetworkObject = keras.Sequential([\n",
        "            keras.Input(shape=(trainX.shape[1],)),\n",
        "            layers.Dense(neurons),\n",
        "            layers.Dense(1,activation=tf.exp)\n",
        "        ])\n",
        "        # Compile the model\n",
        "        NeuralNetworkObject.compile(\n",
        "            loss=loss,\n",
        "            optimizer=keras.optimizers.RMSprop(),\n",
        "            metrics=['mean_squared_error'])\n",
        "\n",
        "        early_stop = EarlyStopping(monitor='val_loss', patience=30)\n",
        "\n",
        "        history = NeuralNetworkObject.fit(trainX, trainy.ravel(),\n",
        "                       callbacks=[early_stop],\n",
        "                       batch_size=128,\n",
        "                       validation_split=0.2,\n",
        "                       epochs=2000, verbose=0)\n",
        "\n",
        "        test_mse = NeuralNetworkObject.evaluate(testX, testy)[1]\n",
        "        print('NN mse test: ', test_mse)\n",
        "        train_mse = NeuralNetworkObject.evaluate(trainX, trainy)[1]\n",
        "        print('NN mse train: ', train_mse)\n",
        "        y_prediction = NeuralNetworkObject.predict(testX)\n",
        "        y_prediction = denormalize(y_train, y_prediction, MinMaxScaler())\n",
        "        y_prediction_train = NeuralNetworkObject.predict(trainX)\n",
        "        y_prediction_train = denormalize(y_train, y_prediction_train, MinMaxScaler())\n",
        "\n",
        "        return np.array(y_prediction), np.array(y_prediction_train).ravel(), NeuralNetworkObject, history\n",
        "\n"
      ],
      "metadata": {
        "id": "vM5-IALjvHU7"
      },
      "execution_count": null,
      "outputs": []
    },
    {
      "cell_type": "code",
      "source": [
        "x_test, y_predicted, NN_model, history = NN(np.array(X_train), np.array(X_test),np.array(y_train), np.array(y_test))\n"
      ],
      "metadata": {
        "id": "avBqHs6QwFM3",
        "colab": {
          "base_uri": "https://localhost:8080/"
        },
        "outputId": "9cc59a40-2998-44f3-8531-6277b0d074f6"
      },
      "execution_count": null,
      "outputs": [
        {
          "output_type": "stream",
          "name": "stdout",
          "text": [
            "28\n",
            "15505/15505 [==============================] - 33s 2ms/step - loss: 0.0068 - mean_squared_error: 0.0023\n",
            "NN mse test:  0.0023227278143167496\n",
            "15505/15505 [==============================] - 33s 2ms/step - loss: 0.0067 - mean_squared_error: 0.0014\n",
            "NN mse train:  0.0014493187190964818\n"
          ]
        }
      ]
    },
    {
      "cell_type": "code",
      "source": [
        "print(history.history.keys())"
      ],
      "metadata": {
        "colab": {
          "base_uri": "https://localhost:8080/"
        },
        "id": "JqgmX-1t_zEq",
        "outputId": "cf360fb3-1c5e-498f-e4e1-c70615f4462f"
      },
      "execution_count": null,
      "outputs": [
        {
          "output_type": "stream",
          "name": "stdout",
          "text": [
            "dict_keys(['loss', 'accuracy', 'val_loss', 'val_accuracy'])\n"
          ]
        }
      ]
    },
    {
      "cell_type": "code",
      "source": [
        "loss_train = history.history['loss']\n",
        "loss_val = history.history['val_loss']\n",
        "epochs = range(1,42)\n",
        "plt.plot(epochs, loss_train, 'g', label='Training loss')\n",
        "plt.plot(epochs, loss_val, 'b', label='validation loss')\n",
        "plt.title('Training and Validation loss')\n",
        "plt.xlabel('Epochs')\n",
        "plt.ylabel('Loss')\n",
        "plt.legend()\n",
        "plt.show()"
      ],
      "metadata": {
        "colab": {
          "base_uri": "https://localhost:8080/",
          "height": 295
        },
        "id": "dloOKUP8xgQP",
        "outputId": "c90266ba-3aa9-43e7-ca85-a6226efa30db"
      },
      "execution_count": null,
      "outputs": [
        {
          "output_type": "display_data",
          "data": {
            "text/plain": [
              "<Figure size 432x288 with 1 Axes>"
            ],
            "image/png": "[encoded data removed]"
          },
          "metadata": {
            "needs_background": "light"
          }
        }
      ]
    },
    {
      "cell_type": "code",
      "source": [
        "loss_train = history.history['accuracy']\n",
        "loss_val = history.history['val_accuracy']\n",
        "epochs = range(1,49)\n",
        "plt.plot(epochs, loss_train, 'g', label='Training accuracy')\n",
        "plt.plot(epochs, loss_val, 'b', label='validation accuracy')\n",
        "plt.title('Training and Validation accuracy')\n",
        "plt.xlabel('Epochs')\n",
        "plt.ylabel('Accuracy')\n",
        "plt.legend()\n",
        "plt.show()"
      ],
      "metadata": {
        "colab": {
          "base_uri": "https://localhost:8080/",
          "height": 295
        },
        "id": "i7Cau0WJW3VX",
        "outputId": "b0747faa-2a76-4011-f80a-bd95444c6363"
      },
      "execution_count": null,
      "outputs": [
        {
          "output_type": "display_data",
          "data": {
            "text/plain": [
              "<Figure size 432x288 with 1 Axes>"
            ],
            "image/png": "[encoded data removed]"
          },
          "metadata": {
            "needs_background": "light"
          }
        }
      ]
    },
    {
      "cell_type": "code",
      "source": [
        "NN_model.summary()\n"
      ],
      "metadata": {
        "id": "Fq9foCjty2Xm",
        "colab": {
          "base_uri": "https://localhost:8080/"
        },
        "outputId": "f2df8531-7dcd-487d-84b8-ffe06b883594"
      },
      "execution_count": null,
      "outputs": [
        {
          "output_type": "stream",
          "name": "stdout",
          "text": [
            "Model: \"sequential\"\n",
            "_________________________________________________________________\n",
            " Layer (type)                Output Shape              Param #   \n",
            "=================================================================\n",
            " dense (Dense)               (None, 13)                338       \n",
            "                                                                 \n",
            " dense_1 (Dense)             (None, 1)                 14        \n",
            "                                                                 \n",
            "=================================================================\n",
            "Total params: 352\n",
            "Trainable params: 352\n",
            "Non-trainable params: 0\n",
            "_________________________________________________________________\n"
          ]
        }
      ]
    }
  ],
  "metadata": {
    "colab": {
      "collapsed_sections": [],
      "name": "Code.ipynb",
      "provenance": []
    },
    "kernelspec": {
      "display_name": "Python 3",
      "language": "python",
      "name": "python3"
    },
    "language_info": {
      "codemirror_mode": {
        "name": "ipython",
        "version": 2
      },
      "file_extension": ".py",
      "mimetype": "text/x-python",
      "name": "python",
      "nbconvert_exporter": "python",
      "pygments_lexer": "ipython2",
      "version": "2.7.6"
    }
  },
  "nbformat": 4,
  "nbformat_minor": 0
}